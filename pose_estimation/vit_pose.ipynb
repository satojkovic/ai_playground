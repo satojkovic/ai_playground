{
  "nbformat": 4,
  "nbformat_minor": 0,
  "metadata": {
    "colab": {
      "private_outputs": true,
      "provenance": [],
      "machine_shape": "hm",
      "gpuType": "V100"
    },
    "kernelspec": {
      "name": "python3",
      "display_name": "Python 3"
    },
    "language_info": {
      "name": "python"
    },
    "accelerator": "GPU"
  },
  "cells": [
    {
      "cell_type": "code",
      "execution_count": null,
      "metadata": {
        "id": "xhPyu6nIMEBh"
      },
      "outputs": [],
      "source": [
        "!git clone https://github.com/ViTAE-Transformer/ViTPose.git"
      ]
    },
    {
      "cell_type": "markdown",
      "source": [
        "# Setup MMCV"
      ],
      "metadata": {
        "id": "Acz7VIBFMu_K"
      }
    },
    {
      "cell_type": "code",
      "source": [
        "!pip install -U openmim\n",
        "!mim install mmcv"
      ],
      "metadata": {
        "id": "AI3SE8r2MuT6"
      },
      "execution_count": null,
      "outputs": []
    },
    {
      "cell_type": "code",
      "source": [
        "!python -c \"import mmcv; print(mmcv.__version__)\""
      ],
      "metadata": {
        "id": "RkNBrHrTSAiq"
      },
      "execution_count": null,
      "outputs": []
    }
  ]
}
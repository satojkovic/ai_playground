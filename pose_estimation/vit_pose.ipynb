{
  "nbformat": 4,
  "nbformat_minor": 0,
  "metadata": {
    "colab": {
      "private_outputs": true,
      "provenance": [],
      "machine_shape": "hm",
      "gpuType": "V100"
    },
    "kernelspec": {
      "name": "python3",
      "display_name": "Python 3"
    },
    "language_info": {
      "name": "python"
    },
    "accelerator": "GPU"
  },
  "cells": [
    {
      "cell_type": "code",
      "execution_count": null,
      "metadata": {
        "id": "xhPyu6nIMEBh"
      },
      "outputs": [],
      "source": [
        "!git clone https://github.com/ViTAE-Transformer/ViTPose.git"
      ]
    },
    {
      "cell_type": "markdown",
      "source": [
        "# Setup MMCV"
      ],
      "metadata": {
        "id": "Acz7VIBFMu_K"
      }
    },
    {
      "cell_type": "code",
      "source": [
        "!pip install -U openmim\n",
        "!mim install mmcv"
      ],
      "metadata": {
        "id": "AI3SE8r2MuT6"
      },
      "execution_count": null,
      "outputs": []
    },
    {
      "cell_type": "code",
      "source": [
        "!python -c \"import mmcv; print(mmcv.__version__)\""
      ],
      "metadata": {
        "id": "RkNBrHrTSAiq"
      },
      "execution_count": null,
      "outputs": []
    },
    {
      "cell_type": "markdown",
      "source": [
        "# Setup ViTPose"
      ],
      "metadata": {
        "id": "rF4B2ETekR7m"
      }
    },
    {
      "cell_type": "code",
      "source": [
        "%cd ViTPose"
      ],
      "metadata": {
        "id": "9gpCh3lMkRcZ"
      },
      "execution_count": null,
      "outputs": []
    },
    {
      "cell_type": "code",
      "source": [
        "!pip install -v -e ."
      ],
      "metadata": {
        "id": "Q51XjgLTkUOS"
      },
      "execution_count": null,
      "outputs": []
    },
    {
      "cell_type": "code",
      "source": [
        "pip install timm==0.4.9 einops"
      ],
      "metadata": {
        "id": "7QZqclwjkcjU"
      },
      "execution_count": null,
      "outputs": []
    },
    {
      "cell_type": "markdown",
      "source": [
        "# Evaluate"
      ],
      "metadata": {
        "id": "r1GNTHExkk93"
      }
    },
    {
      "cell_type": "code",
      "source": [
        "PRETRAINED_MODEL_PATH=\"/content/drive/MyDrive/ViTPoseFiles/vitpose_base_coco_aic_mpii.pth\""
      ],
      "metadata": {
        "id": "DYRWp9BQkfzp"
      },
      "execution_count": null,
      "outputs": []
    },
    {
      "cell_type": "code",
      "source": [
        "CONFIG_FILE_PATH=\"/content/drive/MyDrive/ViTPoseFiles/ViTPose_base_coco_256x192.py\""
      ],
      "metadata": {
        "id": "kxwqZOAUlzqW"
      },
      "execution_count": null,
      "outputs": []
    }
  ]
}
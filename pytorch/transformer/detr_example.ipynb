{
  "nbformat": 4,
  "nbformat_minor": 0,
  "metadata": {
    "colab": {
      "name": "detr_example",
      "private_outputs": true,
      "provenance": []
    },
    "kernelspec": {
      "name": "python3",
      "display_name": "Python 3"
    },
    "language_info": {
      "name": "python"
    },
    "accelerator": "GPU",
    "gpuClass": "standard"
  },
  "cells": [
    {
      "cell_type": "code",
      "source": [
        "import torch\n",
        "from PIL import Image\n",
        "import requests\n",
        "import matplotlib.pyplot as plt\n",
        "%config InlineBackend.figure_format = 'retina'\n",
        "import torchvision.transforms as T\n",
        "torch.set_grad_enabled(False)"
      ],
      "metadata": {
        "id": "O2lzJH8IKr8R"
      },
      "execution_count": null,
      "outputs": []
    },
    {
      "cell_type": "code",
      "source": [
        "# COCO classes\n",
        "CLASSES = [\n",
        "    'N/A', 'person', 'bicycle', 'car', 'motorcycle', 'airplane', 'bus',\n",
        "    'train', 'truck', 'boat', 'traffic light', 'fire hydrant', 'N/A',\n",
        "    'stop sign', 'parking meter', 'bench', 'bird', 'cat', 'dog', 'horse',\n",
        "    'sheep', 'cow', 'elephant', 'bear', 'zebra', 'giraffe', 'N/A', 'backpack',\n",
        "    'umbrella', 'N/A', 'N/A', 'handbag', 'tie', 'suitcase', 'frisbee', 'skis',\n",
        "    'snowboard', 'sports ball', 'kite', 'baseball bat', 'baseball glove',\n",
        "    'skateboard', 'surfboard', 'tennis racket', 'bottle', 'N/A', 'wine glass',\n",
        "    'cup', 'fork', 'knife', 'spoon', 'bowl', 'banana', 'apple', 'sandwich',\n",
        "    'orange', 'broccoli', 'carrot', 'hot dog', 'pizza', 'donut', 'cake',\n",
        "    'chair', 'couch', 'potted plant', 'bed', 'N/A', 'dining table', 'N/A',\n",
        "    'N/A', 'toilet', 'N/A', 'tv', 'laptop', 'mouse', 'remote', 'keyboard',\n",
        "    'cell phone', 'microwave', 'oven', 'toaster', 'sink', 'refrigerator', 'N/A',\n",
        "    'book', 'clock', 'vase', 'scissors', 'teddy bear', 'hair drier',\n",
        "    'toothbrush'\n",
        "]\n",
        "\n",
        "# colors for visualization\n",
        "COLORS = [[0.000, 0.447, 0.741], [0.850, 0.325, 0.098], [0.929, 0.694, 0.125],\n",
        "          [0.494, 0.184, 0.556], [0.466, 0.674, 0.188], [0.301, 0.745, 0.933]]"
      ],
      "metadata": {
        "id": "puLZeXQPRudD"
      },
      "execution_count": null,
      "outputs": []
    },
    {
      "cell_type": "code",
      "source": [
        "# for output bounding box post-processing\n",
        "def box_cxcywh_to_xyxy(x):\n",
        "    x_c, y_c, w, h = x.unbind(1)\n",
        "    b = [(x_c - 0.5 * w), (y_c - 0.5 * h),\n",
        "         (x_c + 0.5 * w), (y_c + 0.5 * h)]\n",
        "    return torch.stack(b, dim=1)\n",
        "\n",
        "def rescale_bboxes(out_bbox, size):\n",
        "    img_w, img_h = size\n",
        "    b = box_cxcywh_to_xyxy(out_bbox)\n",
        "    b = b * torch.tensor([img_w, img_h, img_w, img_h], dtype=torch.float32)\n",
        "    return b\n",
        "\n",
        "def plot_results(pil_img, prob, boxes):\n",
        "    plt.figure(figsize=(16,10))\n",
        "    plt.imshow(pil_img)\n",
        "    ax = plt.gca()\n",
        "    colors = COLORS * 100\n",
        "    for p, (xmin, ymin, xmax, ymax), c in zip(prob, boxes.tolist(), colors):\n",
        "        ax.add_patch(plt.Rectangle((xmin, ymin), xmax - xmin, ymax - ymin,\n",
        "                                   fill=False, color=c, linewidth=3))\n",
        "        cl = p.argmax()\n",
        "        text = f'{CLASSES[cl]}: {p[cl]:0.2f}'\n",
        "        ax.text(xmin, ymin, text, fontsize=15,\n",
        "                bbox=dict(facecolor='yellow', alpha=0.5))\n",
        "    plt.axis('off')\n",
        "    plt.show()"
      ],
      "metadata": {
        "id": "v4geh6pSRcb6"
      },
      "execution_count": null,
      "outputs": []
    },
    {
      "cell_type": "code",
      "source": [
        "model = torch.hub.load('facebookresearch/detr', 'detr_resnet50', pretrained=True)"
      ],
      "metadata": {
        "id": "01C8TgKNNFiR"
      },
      "execution_count": null,
      "outputs": []
    },
    {
      "cell_type": "code",
      "source": [
        "model.eval()"
      ],
      "metadata": {
        "id": "7s_EggLuNOJg"
      },
      "execution_count": null,
      "outputs": []
    },
    {
      "cell_type": "code",
      "source": [
        "url = 'http://images.cocodataset.org/val2017/000000039769.jpg'"
      ],
      "metadata": {
        "id": "3kyfkHjlNU0W"
      },
      "execution_count": null,
      "outputs": []
    },
    {
      "cell_type": "code",
      "source": [
        "im = Image.open(requests.get(url, stream=True).raw)"
      ],
      "metadata": {
        "id": "TP0l82HvNaez"
      },
      "execution_count": null,
      "outputs": []
    },
    {
      "cell_type": "code",
      "source": [
        "im"
      ],
      "metadata": {
        "id": "gcn_aKgmNsfU"
      },
      "execution_count": null,
      "outputs": []
    },
    {
      "cell_type": "code",
      "source": [
        "transform = T.Compose([\n",
        "  T.Resize(800),\n",
        "  T.ToTensor(),\n",
        "  T.Normalize([0.485, 0.456, 0.406], [0.229, 0.224, 0.225])\n",
        "])"
      ],
      "metadata": {
        "id": "U0iJohcLNtlz"
      },
      "execution_count": null,
      "outputs": []
    },
    {
      "cell_type": "code",
      "source": [
        "img = transform(im).unsqueeze(0) # unsqueeze"
      ],
      "metadata": {
        "id": "XmTtracDO1sr"
      },
      "execution_count": null,
      "outputs": []
    },
    {
      "cell_type": "code",
      "source": [
        "outputs = model(img)"
      ],
      "metadata": {
        "id": "fauNbbVmO-b9"
      },
      "execution_count": null,
      "outputs": []
    },
    {
      "cell_type": "code",
      "source": [
        "outputs.keys()"
      ],
      "metadata": {
        "id": "lUcuCcWyPAG5"
      },
      "execution_count": null,
      "outputs": []
    },
    {
      "cell_type": "code",
      "source": [
        "outputs['pred_logits'].shape"
      ],
      "metadata": {
        "id": "NxZ3dYP8PaJX"
      },
      "execution_count": null,
      "outputs": []
    },
    {
      "cell_type": "code",
      "source": [
        "print(outputs['pred_logits'].softmax(-1).shape)\n",
        "print(outputs['pred_logits'].softmax(-1))"
      ],
      "metadata": {
        "id": "ZhI_VATAPc8z"
      },
      "execution_count": null,
      "outputs": []
    },
    {
      "cell_type": "code",
      "source": [
        "probas = outputs['pred_logits'].softmax(-1)[0, :, :-1] # Why removing last element?"
      ],
      "metadata": {
        "id": "M0gMaH-FQepj"
      },
      "execution_count": null,
      "outputs": []
    },
    {
      "cell_type": "code",
      "source": [
        "keep = probas.max(-1).values > 0.9"
      ],
      "metadata": {
        "id": "aX5me5N_Q4PA"
      },
      "execution_count": null,
      "outputs": []
    },
    {
      "cell_type": "code",
      "source": [
        "# convert boxes from [0; 1] to image scales\n",
        "bboxes_scaled = rescale_bboxes(outputs['pred_boxes'][0, keep], im.size)"
      ],
      "metadata": {
        "id": "utwjGIaGRQr2"
      },
      "execution_count": null,
      "outputs": []
    },
    {
      "cell_type": "code",
      "source": [
        "plot_results(im, probas[keep], bboxes_scaled)"
      ],
      "metadata": {
        "id": "0T3J4Ex2RnIU"
      },
      "execution_count": null,
      "outputs": []
    },
    {
      "cell_type": "markdown",
      "source": [
        "## Fine tuning DETR for licence plate detection\n",
        "https://www.kaggle.com/code/nouamane/fine-tuning-detr-for-license-plates-detection/notebook"
      ],
      "metadata": {
        "id": "UqzNJlT6X2FM"
      }
    },
    {
      "cell_type": "code",
      "source": [
        "pip install transformers"
      ],
      "metadata": {
        "id": "6ffzj9_cYklv"
      },
      "execution_count": null,
      "outputs": []
    },
    {
      "cell_type": "code",
      "source": [
        "pip install pytorch_lightning"
      ],
      "metadata": {
        "id": "9ZrixHqZYxNd"
      },
      "execution_count": null,
      "outputs": []
    },
    {
      "cell_type": "code",
      "source": [
        "from transformers import DetrForObjectDetection\n",
        "import pytorch_lightning as pl"
      ],
      "metadata": {
        "id": "5LK-GGk4Rpdx"
      },
      "execution_count": null,
      "outputs": []
    },
    {
      "cell_type": "code",
      "source": [
        "import torch"
      ],
      "metadata": {
        "id": "HdK_LQmDYb48"
      },
      "execution_count": null,
      "outputs": []
    },
    {
      "cell_type": "code",
      "source": [
        "class_names = [\n",
        "  \"Adidas\", \n",
        "  \"Apple\", \"BMW\", \"Citroen\", \"Cocacola\",\n",
        "  \"DHL\", \"Fedex\", \"Ferrari\", \"Ford\", \"Google\", \n",
        "  \"HP\", \"Heineken\", \"Intel\", \"McDonalds\", \"Mini\", \n",
        "  \"Nbc\", \"Nike\", \"Pepsi\", \"Porsche\", \"Puma\", \n",
        "  \"RedBull\", \"Sprite\", \"Starbucks\", \"Texaco\", \"Unicef\",\n",
        "  \"Vodafone\", \"Yahoo\"\n",
        "]"
      ],
      "metadata": {
        "id": "Uqqbl0HoZdu3"
      },
      "execution_count": null,
      "outputs": []
    },
    {
      "cell_type": "code",
      "source": [
        "# train_dataloder = torch.utils.data.DataLoader()\n",
        "# val_dataloader = torch.utils.data.Dataloader()"
      ],
      "metadata": {
        "id": "_9S3FdOHpMjJ"
      },
      "execution_count": null,
      "outputs": []
    },
    {
      "cell_type": "code",
      "source": [
        "class Detr(pl.LightningModule):\n",
        "  def __init__(self, lr, lr_backbone, weight_decay):\n",
        "    super().__init__()\n",
        "    # Replacel COCO classification head with custom head\n",
        "    self.model = DetrForObjectDetection.from_pretrained(\n",
        "      'facebook/detr-resnet-50', num_labels=len(class_names), ignore_mismatched_sizes=True\n",
        "    )\n",
        "\n",
        "    # see https://github.com/PyTorchLightning/pytorch-lightning/pull/1896\n",
        "    self.lr = lr\n",
        "    self.lr_backbone = lr_backbone\n",
        "    self.weight_decay = weight_decay\n",
        "\n",
        "  def forward(self, pixel_values, pixel_mask):\n",
        "    outputs = self.model(pixel_values=pixel_values, pixel_mask=pixel_mask)\n",
        "    return outputs\n",
        "\n",
        "  def common_step(self, batch, batch_idx):\n",
        "    pixel_values = batch['pixel_values']\n",
        "    pixel_mask = batch['pixel_mask']\n",
        "    labels = [{k:v.to(self.device) for k, v in t.items()} for t in batch['labels']]\n",
        "\n",
        "    outputs = self.model(pixel_values, pixel_mask, labels)\n",
        "\n",
        "    loss = outputs.loss\n",
        "    loss_dict = outputs.loss_dict\n",
        "\n",
        "    return loss, loss_dict\n",
        "\n",
        "  def training_step(self, batch, batch_idx):\n",
        "    loss, loss_dict = self.common_step(batch, batch_idx)\n",
        "    self.log('training_loss', loss)\n",
        "    for k, v in loss_dict.items():\n",
        "      self.log('train_' + k, v.item())\n",
        "    return loss\n",
        "\n",
        "  def validation_step(self, batch, batch_idx):\n",
        "    loss, loss_dict = self.common(batch, batch_idx)\n",
        "    self.log('validation_loss', loss)\n",
        "    for k, v in loss_dict.items():\n",
        "      self.log('validation_' + k, v.item())\n",
        "    return loss\n",
        "  \n",
        "  def configure_optimizers(self):\n",
        "    param_dicts = [\n",
        "      {'params': [p for n, p in self.named_paramters() if 'backbone' not in n and p.requires_grad]},\n",
        "      {\n",
        "       'params': [p for n, p in self.named_paramters() if 'backbone' in n and p.requires_grad],\n",
        "       'lr': self.lr_backbone\n",
        "      }\n",
        "    ]\n",
        "    optimizer = torch.optim.AdamW(param_dicts, lr=self.lr, weight_decay=self.weight_decay)\n",
        "    return optimizer\n",
        "\n",
        "  def train_dataloader(self):\n",
        "    return train_dataloader\n",
        "\n",
        "  def val_dataloader(self):\n",
        "    return val_dataloader"
      ],
      "metadata": {
        "id": "Z9QfS4S9Yt3z"
      },
      "execution_count": null,
      "outputs": []
    },
    {
      "cell_type": "code",
      "source": [
        ""
      ],
      "metadata": {
        "id": "Fike2ionZz_7"
      },
      "execution_count": null,
      "outputs": []
    }
  ]
}
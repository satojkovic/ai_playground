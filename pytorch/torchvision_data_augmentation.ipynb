{
  "nbformat": 4,
  "nbformat_minor": 0,
  "metadata": {
    "colab": {
      "name": "torchvision_data_augmentation",
      "private_outputs": true,
      "provenance": []
    },
    "kernelspec": {
      "name": "python3",
      "display_name": "Python 3"
    },
    "language_info": {
      "name": "python"
    }
  },
  "cells": [
    {
      "cell_type": "code",
      "execution_count": null,
      "metadata": {
        "id": "d27n8j3B2pDB"
      },
      "outputs": [],
      "source": [
        "from PIL import Image\n",
        "from pathlib import Path\n",
        "import matplotlib.pyplot as plt\n",
        "import numpy as np"
      ]
    },
    {
      "cell_type": "code",
      "source": [
        "import torch\n",
        "import torchvision.transforms as T"
      ],
      "metadata": {
        "id": "tgKrb3c22yAw"
      },
      "execution_count": null,
      "outputs": []
    },
    {
      "cell_type": "code",
      "source": [
        "!curl -LO https://github.com/pytorch/vision/raw/main/gallery/assets/astronaut.jpg"
      ],
      "metadata": {
        "id": "j52viKGG29ix"
      },
      "execution_count": null,
      "outputs": []
    },
    {
      "cell_type": "code",
      "source": [
        "!ls"
      ],
      "metadata": {
        "id": "I8auZM903zrb"
      },
      "execution_count": null,
      "outputs": []
    },
    {
      "cell_type": "code",
      "source": [
        "plt.rcParams['savefig.bbox'] = 'tight'\n",
        "orig_img = Image.open('astronaut.jpg')\n",
        "torch.manual_seed(0)"
      ],
      "metadata": {
        "id": "M7pfzxrl31-2"
      },
      "execution_count": null,
      "outputs": []
    },
    {
      "cell_type": "code",
      "source": [
        "def plot(imgs, with_orig=True, row_title=None, **imshow_kwargs):\n",
        "  if not isinstance(imgs[0], list):\n",
        "    imgs = [imgs]\n",
        "\n",
        "  num_rows = len(imgs)\n",
        "  num_cols = len(imgs[0]) + with_orig\n",
        "  fig, axs = plt.subplots(nrows=num_rows, ncols=num_cols, squeeze=False)\n",
        "  for row_idx, row in enumerate(imgs):\n",
        "    row = [orig_img] + row if with_orig else row\n",
        "    for col_idx, img in enumerate(row):\n",
        "      ax = axs[row_idx, col_idx]\n",
        "      ax.imshow(np.asarray(img), **imshow_kwargs)\n",
        "      ax.set(xticklabels=[], yticklabels=[], xticks=[], yticks=[])\n",
        "\n",
        "  if with_orig:\n",
        "    axs[0, 0].set(title='Original image')\n",
        "    axs[0, 0].title.set_size(8)\n",
        "  if row_title is not None:\n",
        "    for row_idx in range(num_rows):\n",
        "      axs[row_idx, 0].set(ylabel=row_title[row_idx])\n",
        "\n",
        "  plt.tight_layout()\n"
      ],
      "metadata": {
        "id": "SaEESZcJ4Eqc"
      },
      "execution_count": null,
      "outputs": []
    },
    {
      "cell_type": "code",
      "source": [
        "# Rand augment\n",
        "augmenter = T.RandAugment()\n",
        "imgs = [augmenter(orig_img) for _ in range(4)]\n",
        "plot(imgs)"
      ],
      "metadata": {
        "id": "FYFec1kX4Q7_"
      },
      "execution_count": null,
      "outputs": []
    },
    {
      "cell_type": "code",
      "source": [
        ""
      ],
      "metadata": {
        "id": "yR7BUWBJ74YC"
      },
      "execution_count": null,
      "outputs": []
    }
  ]
}
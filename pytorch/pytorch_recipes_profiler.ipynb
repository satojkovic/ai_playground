{
  "nbformat": 4,
  "nbformat_minor": 0,
  "metadata": {
    "colab": {
      "name": "pytorch_recipes_profiler",
      "private_outputs": true,
      "provenance": []
    },
    "kernelspec": {
      "name": "python3",
      "display_name": "Python 3"
    },
    "language_info": {
      "name": "python"
    },
    "accelerator": "GPU"
  },
  "cells": [
    {
      "cell_type": "markdown",
      "source": [
        "## Steps\n",
        "1. Import all necessary libraries\n",
        "1. Instantiate a simple Resnet model\n",
        "1. Using profiler to analyze execution time\n",
        "1. Using profiler to analyze memory consumption\n",
        "1. Using tracing functionality\n",
        "1. Examining stack traces\n",
        "1. Visalizing data as a flamegraph\n",
        "1. Using profiler to analyze long-running jobs"
      ],
      "metadata": {
        "id": "bXiLL5MkuGDx"
      }
    },
    {
      "cell_type": "code",
      "execution_count": null,
      "metadata": {
        "id": "HHcVXweHtWlF"
      },
      "outputs": [],
      "source": [
        "import torch\n",
        "import torchvision.models as models\n",
        "from torch.profiler import profile, record_function, ProfilerActivity"
      ]
    },
    {
      "cell_type": "code",
      "source": [
        "model = models.resnet18()\n",
        "inputs = torch.randn(5, 3, 224, 224)"
      ],
      "metadata": {
        "id": "RMhG0jWFt_Xu"
      },
      "execution_count": null,
      "outputs": []
    },
    {
      "cell_type": "code",
      "source": [
        "with profile(activities=[ProfilerActivity.CPU], record_shapes=True) as prof:\n",
        "  with record_function('model_inference'):\n",
        "    model(inputs)"
      ],
      "metadata": {
        "id": "wEo4ftEPut5k"
      },
      "execution_count": null,
      "outputs": []
    },
    {
      "cell_type": "code",
      "source": [
        "print(prof.key_averages(group_by_input_shape=True).table(sort_by='cpu_time_total', row_limit=10))"
      ],
      "metadata": {
        "id": "4dxl-S_jvAON"
      },
      "execution_count": null,
      "outputs": []
    },
    {
      "cell_type": "code",
      "source": [
        "model = models.resnet18().cuda()\n",
        "inputs = torch.randn(5, 3, 224, 224).cuda()\n",
        "\n",
        "with profile(activities=[ProfilerActivity.CPU, ProfilerActivity.CUDA], record_shapes=True) as prof:\n",
        "  with record_function('model_inference'):\n",
        "    model(inputs)"
      ],
      "metadata": {
        "id": "GGswZElrvRzy"
      },
      "execution_count": null,
      "outputs": []
    },
    {
      "cell_type": "code",
      "source": [
        "print(prof.key_averages().table(sort_by='cuda_time_total', row_limit=10))"
      ],
      "metadata": {
        "id": "_pHlvYz_wLXA"
      },
      "execution_count": null,
      "outputs": []
    },
    {
      "cell_type": "code",
      "source": [
        ""
      ],
      "metadata": {
        "id": "k1eoYCocwX85"
      },
      "execution_count": null,
      "outputs": []
    }
  ]
}
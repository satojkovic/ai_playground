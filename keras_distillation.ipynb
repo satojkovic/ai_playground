{
  "nbformat": 4,
  "nbformat_minor": 0,
  "metadata": {
    "colab": {
      "name": "keras_distillation",
      "private_outputs": true,
      "provenance": []
    },
    "kernelspec": {
      "name": "python3",
      "display_name": "Python 3"
    },
    "language_info": {
      "name": "python"
    },
    "accelerator": "GPU"
  },
  "cells": [
    {
      "cell_type": "code",
      "execution_count": null,
      "metadata": {
        "id": "DZWxby3vw1jA"
      },
      "outputs": [],
      "source": [
        "import tensorflow as tf\n",
        "import numpy as np"
      ]
    },
    {
      "cell_type": "code",
      "source": [
        "class Distiller(tf.keras.Model):\n",
        "  def __init__(self, student, teacher):\n",
        "    super(Distiller, self).__init__()\n",
        "    self.teacher = teacher\n",
        "    self.student = student\n",
        "\n",
        "  def compile(\n",
        "      self,\n",
        "      optimizer,\n",
        "      metrics,\n",
        "      student_loss_fn,\n",
        "      distillation_loss_fn,\n",
        "      alpha=0.1,\n",
        "      temperature=0.3\n",
        "  ):\n",
        "    super(Distiller, self).compile(optimizer=optimizer, metrics=metrics)\n",
        "    self.student_loss_fn = student_loss_fn\n",
        "    self.distillation_loss_fn = distillation_loss_fn\n",
        "    self.alpha = alpha\n",
        "    self.temperature = temperature\n",
        "\n",
        "  def train_step(self, data):\n",
        "    x, y = data\n",
        "    teacher_predictions = self.teacher(x, training=False)\n",
        "    with tf.GradientTape() as tape:\n",
        "      student_predictions = self.student(x, training=True)\n",
        "      student_loss = self.student_loss_fn(y, student_predictions)\n",
        "      distillation_loss = self.distillation_loss_fn(\n",
        "          tf.nn.softmax(teacher_predictions / self.temperature, axis=1),\n",
        "          tf.nn.softmax(student_predictions / self.temperature, axis=1)\n",
        "      )\n",
        "      loss = self.alpha * student_loss + (1 - self.alpha) * distillation_loss\n",
        "\n",
        "    # Compute gradients\n",
        "    trainable_vars = self.student.trainable_variables\n",
        "    gradients = tape.gradient(loss, trainable_vars)\n",
        "\n",
        "    # Update weights\n",
        "    self.optimizer.apply_gradients(zip(gradients, trainable_vars))\n",
        "\n",
        "    # Update metrics\n",
        "    self.compiled_metrics.update_state(y, student_predictions)\n",
        "\n",
        "    results = {m.name: m.result() for m in self.metrics}\n",
        "    results.update(\n",
        "        {\"student_loss\": student_loss, \"distillation_loss\": distillation_loss}\n",
        "    )\n",
        "    return results\n",
        "\n",
        "  def test_step(self, data):\n",
        "    x, y = data\n",
        "    y_prediction = self.student(x, training=False)\n",
        "    student_loss = self.student_loss_fn(y, y_prediction)\n",
        "    self.compiled_metrics.update_state(y, y_prediction)\n",
        "    results = {m.name: m.result() for m in self.metrics}\n",
        "    results.update({\"student_loss\": student_loss})\n",
        "    return results\n"
      ],
      "metadata": {
        "id": "dXoW-wtTxEMU"
      },
      "execution_count": null,
      "outputs": []
    },
    {
      "cell_type": "code",
      "source": [
        "teacher = tf.keras.Sequential([\n",
        "  tf.keras.Input(shape=(28, 28, 1)),\n",
        "  tf.keras.layers.Conv2D(256, (3, 3), strides=(2, 2), padding='same'),\n",
        "  tf.keras.layers.LeakyReLU(alpha=0.2),\n",
        "  tf.keras.layers.MaxPooling2D(pool_size=(2, 2), strides=(1, 1), padding='same'),\n",
        "  tf.keras.layers.Conv2D(512, (3, 3), strides=(2, 2), padding='same'),\n",
        "  tf.keras.layers.Flatten(),\n",
        "  tf.keras.layers.Dense(10)\n",
        "], name='teacher')"
      ],
      "metadata": {
        "id": "MA7hWVGP0CYr"
      },
      "execution_count": null,
      "outputs": []
    },
    {
      "cell_type": "code",
      "source": [
        "student = tf.keras.Sequential([\n",
        "  tf.keras.layers.Input(shape=(28, 28, 1)),\n",
        "  tf.keras.layers.Conv2D(16, (3, 3), strides=(2, 2), padding='same'),\n",
        "  tf.keras.layers.LeakyReLU(alpha=0.2),\n",
        "  tf.keras.layers.MaxPooling2D(pool_size=(2, 2), strides=(1, 1), padding='same'),\n",
        "  tf.keras.layers.Conv2D(32, (3, 3), strides=(2, 2), padding='same'),\n",
        "  tf.keras.layers.Flatten(),\n",
        "  tf.keras.layers.Dense(10)\n",
        "], name='student')"
      ],
      "metadata": {
        "id": "8u7fqPBp0q26"
      },
      "execution_count": null,
      "outputs": []
    },
    {
      "cell_type": "code",
      "source": [
        "student_scratch = tf.keras.models.clone_model(student)"
      ],
      "metadata": {
        "id": "hPeuc1hL1MSW"
      },
      "execution_count": null,
      "outputs": []
    },
    {
      "cell_type": "code",
      "source": [
        "batch_size = 64\n",
        "(x_train, y_train), (x_test, y_test) = tf.keras.datasets.mnist.load_data()\n",
        "x_train = x_train.astype('float32') / 255.0\n",
        "x_train = np.reshape(x_train, (-1, 28, 28, 1))\n",
        "x_test = x_test.astype('float32') / 255.0\n",
        "x_test = np.reshape(x_test, (-1, 28, 28, 1))"
      ],
      "metadata": {
        "id": "7cp5oB4f1Umo"
      },
      "execution_count": null,
      "outputs": []
    },
    {
      "cell_type": "code",
      "source": [
        "teacher.compile(\n",
        "    optimizer=tf.keras.optimizers.Adam(), loss=tf.keras.losses.SparseCategoricalCrossentropy(from_logits=True), \n",
        "    metrics=[tf.keras.metrics.SparseCategoricalAccuracy()])"
      ],
      "metadata": {
        "id": "8wH-cAZ91zcL"
      },
      "execution_count": null,
      "outputs": []
    },
    {
      "cell_type": "code",
      "source": [
        "teacher.fit(x_train, y_train, epochs=5)"
      ],
      "metadata": {
        "id": "PiOcnIhQ2Jw-"
      },
      "execution_count": null,
      "outputs": []
    },
    {
      "cell_type": "code",
      "source": [
        "teacher.evaluate(x_test, y_test)"
      ],
      "metadata": {
        "id": "UKOIkrIB2NNu"
      },
      "execution_count": null,
      "outputs": []
    },
    {
      "cell_type": "code",
      "source": [
        "distiller = Distiller(student, teacher)\n",
        "distiller.compile(\n",
        "    optimizer=tf.keras.optimizers.Adam(),\n",
        "    metrics=[tf.keras.metrics.SparseCategoricalAccuracy()],\n",
        "    student_loss_fn=tf.keras.losses.SparseCategoricalCrossentropy(from_logits=True),\n",
        "    distillation_loss_fn=tf.keras.losses.KLDivergence(),\n",
        "    alpha=0.1,\n",
        "    temperature=10\n",
        ")"
      ],
      "metadata": {
        "id": "-_DleMZf2qyX"
      },
      "execution_count": null,
      "outputs": []
    },
    {
      "cell_type": "code",
      "source": [
        "distiller.fit(x_train, y_train, epochs=3)"
      ],
      "metadata": {
        "id": "BL6klAag3KDF"
      },
      "execution_count": null,
      "outputs": []
    },
    {
      "cell_type": "code",
      "source": [
        "distiller.evaluate(x_test, y_test)"
      ],
      "metadata": {
        "id": "Bc6FWy1Y3Pa7"
      },
      "execution_count": null,
      "outputs": []
    },
    {
      "cell_type": "code",
      "source": [
        "student_scratch.compile(\n",
        "    optimizer=tf.keras.optimizers.Adam(),\n",
        "    loss=tf.keras.losses.SparseCategoricalCrossentropy(from_logits=True),\n",
        "    metrics=[tf.keras.metrics.SparseCategoricalAccuracy()]\n",
        ")"
      ],
      "metadata": {
        "id": "RqBq8FPB3m8O"
      },
      "execution_count": null,
      "outputs": []
    },
    {
      "cell_type": "code",
      "source": [
        "student_scratch.fit(x_train, y_train, epochs=3)"
      ],
      "metadata": {
        "id": "E7PcVPzB34nC"
      },
      "execution_count": null,
      "outputs": []
    },
    {
      "cell_type": "code",
      "source": [
        "student_scratch.evaluate(x_test, y_test)"
      ],
      "metadata": {
        "id": "gawXkm_9392p"
      },
      "execution_count": null,
      "outputs": []
    }
  ]
}
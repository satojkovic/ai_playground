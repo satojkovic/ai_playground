{
  "nbformat": 4,
  "nbformat_minor": 0,
  "metadata": {
    "colab": {
      "name": "keras_randagument",
      "private_outputs": true,
      "provenance": []
    },
    "kernelspec": {
      "name": "python3",
      "display_name": "Python 3"
    },
    "language_info": {
      "name": "python"
    }
  },
  "cells": [
    {
      "cell_type": "code",
      "execution_count": null,
      "metadata": {
        "id": "IqsvNbXbIZCU"
      },
      "outputs": [],
      "source": [
        "!pip install imgaug -U"
      ]
    },
    {
      "cell_type": "code",
      "source": [
        "import tensorflow as tf\n",
        "import numpy as np\n",
        "import matplotlib.pyplot as plt\n",
        "import tensorflow_datasets as tfds\n",
        "import imgaug.augmenters as iaa\n",
        "import imgaug as ia"
      ],
      "metadata": {
        "id": "_UixJzzgIuTx"
      },
      "execution_count": null,
      "outputs": []
    },
    {
      "cell_type": "code",
      "source": [
        "tf.random.set_seed(42)\n",
        "ia.seed(42)"
      ],
      "metadata": {
        "id": "ftpPQ-c5JOI3"
      },
      "execution_count": null,
      "outputs": []
    },
    {
      "cell_type": "code",
      "source": [
        "(x_train, y_train), (x_test, y_test) = tf.keras.datasets.cifar10.load_data()"
      ],
      "metadata": {
        "id": "xo0CSOdXJUOL"
      },
      "execution_count": null,
      "outputs": []
    },
    {
      "cell_type": "code",
      "source": [
        "AUTO = tf.data.AUTOTUNE\n",
        "BATCH_SIZE = 128\n",
        "EPOCHS = 1\n",
        "IMAGE_SIZE = 72"
      ],
      "metadata": {
        "id": "b3N9LGvsJfwS"
      },
      "execution_count": null,
      "outputs": []
    },
    {
      "cell_type": "code",
      "source": [
        "rand_aug = iaa.RandAugment(n=3, m=7)"
      ],
      "metadata": {
        "id": "si2vroTgKhaa"
      },
      "execution_count": null,
      "outputs": []
    },
    {
      "cell_type": "code",
      "source": [
        "def augment(images):\n",
        "  images = tf.cast(images, np.uint8)\n",
        "  return rand_aug(images=images.numpy())"
      ],
      "metadata": {
        "id": "CO_CWtuLLBAl"
      },
      "execution_count": null,
      "outputs": []
    },
    {
      "cell_type": "code",
      "source": [
        ""
      ],
      "metadata": {
        "id": "uUjlfGxCLS_s"
      },
      "execution_count": null,
      "outputs": []
    }
  ]
}
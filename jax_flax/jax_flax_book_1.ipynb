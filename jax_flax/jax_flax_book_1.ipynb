{
  "nbformat": 4,
  "nbformat_minor": 0,
  "metadata": {
    "colab": {
      "private_outputs": true,
      "provenance": []
    },
    "kernelspec": {
      "name": "python3",
      "display_name": "Python 3"
    },
    "language_info": {
      "name": "python"
    },
    "gpuClass": "standard"
  },
  "cells": [
    {
      "cell_type": "code",
      "execution_count": null,
      "metadata": {
        "id": "tfu2jLf-A2Kr"
      },
      "outputs": [],
      "source": [
        "%%bash\n",
        "curl -sLO https://raw.githubusercontent.com/enakai00/colab_jaxbook/main/requirements.txt\n",
        "pip install -r requirements.txt\n",
        "pip list | grep -E '(jax|flax|optax)'"
      ]
    },
    {
      "cell_type": "code",
      "source": [
        "import numpy as np\n",
        "import matplotlib.pyplot as plt\n",
        "\n",
        "import jax\n",
        "from jax import random, numpy as jnp\n",
        "\n",
        "plt.rcParams.update({'font.size': 12})"
      ],
      "metadata": {
        "id": "jImzcka3BdUg"
      },
      "execution_count": null,
      "outputs": []
    },
    {
      "cell_type": "code",
      "source": [
        "train_t = jnp.asarray([5.2, 5.7, 8.6, 14.9, 18.2, 20.4, 25.5, 26.4, 22.8, 17.5, 11.1, 6.6])"
      ],
      "metadata": {
        "id": "Em2i2ePcBz-o"
      },
      "execution_count": null,
      "outputs": []
    },
    {
      "cell_type": "code",
      "source": [
        "train_t = train_t.reshape([12, 1])"
      ],
      "metadata": {
        "id": "JvaasCoUB_l8"
      },
      "execution_count": null,
      "outputs": []
    },
    {
      "cell_type": "code",
      "source": [
        "train_t"
      ],
      "metadata": {
        "id": "U8v8pZeSCDD_"
      },
      "execution_count": null,
      "outputs": []
    },
    {
      "cell_type": "code",
      "source": [
        "train_x = jnp.asarray([[month ** n for n in range(0, 5)] for month in range(1, 13)])"
      ],
      "metadata": {
        "id": "mWptoYctCEE5"
      },
      "execution_count": null,
      "outputs": []
    },
    {
      "cell_type": "code",
      "source": [
        "train_x"
      ],
      "metadata": {
        "id": "yn7Qv1kaDDyF"
      },
      "execution_count": null,
      "outputs": []
    },
    {
      "cell_type": "code",
      "source": [
        "train_x.shape"
      ],
      "metadata": {
        "id": "SOD3YBctDGvv"
      },
      "execution_count": null,
      "outputs": []
    },
    {
      "cell_type": "code",
      "source": [
        "key, key1 = random.split(random.PRNGKey(0))\n",
        "w = random.normal(key1, [5, 1])\n",
        "w"
      ],
      "metadata": {
        "id": "cu2uIreIDKM7"
      },
      "execution_count": null,
      "outputs": []
    },
    {
      "cell_type": "code",
      "source": [
        "@jax.jit\n",
        "def predict(w, x):\n",
        "  y = jnp.matmul(x, w)\n",
        "  return y"
      ],
      "metadata": {
        "id": "pOVBFbySDaM7"
      },
      "execution_count": null,
      "outputs": []
    },
    {
      "cell_type": "code",
      "source": [
        "@jax.jit\n",
        "def loss_fn(w, train_x, train_t):\n",
        "  y = predict(w, train_x)\n",
        "  loss = jnp.mean((y - train_t) ** 2)\n",
        "  return loss"
      ],
      "metadata": {
        "id": "9iJyWV_5b-KO"
      },
      "execution_count": null,
      "outputs": []
    },
    {
      "cell_type": "code",
      "source": [
        "grad_loss = jax.jit(jax.grad(loss_fn))"
      ],
      "metadata": {
        "id": "YXir5V6NcIEv"
      },
      "execution_count": null,
      "outputs": []
    },
    {
      "cell_type": "code",
      "source": [
        "%%time\n",
        "learning_rate = 1e-8 * 1.4\n",
        "for step in range(1, 5000001):\n",
        "  grads = grad_loss(w, train_x, train_t)\n",
        "  w = w - learning_rate * grads\n",
        "  if step % 500000 == 0:\n",
        "    loss_val = loss_fn(w, train_x, train_t)\n",
        "    print('Step: {}, Loss: {:0.4f}'.format(step, loss_val), flush=True)"
      ],
      "metadata": {
        "id": "v4K7IZfncbzH"
      },
      "execution_count": null,
      "outputs": []
    },
    {
      "cell_type": "code",
      "source": [
        "w"
      ],
      "metadata": {
        "id": "eHKtY_kLc6-2"
      },
      "execution_count": null,
      "outputs": []
    },
    {
      "cell_type": "code",
      "source": [
        "xs = np.linspace(1, 12, 100)\n",
        "inputs = jnp.asarray([[month ** n for n in range(0, 5)] for month in xs])\n",
        "ys = predict(w, inputs)\n",
        "\n",
        "fig = plt.figure(figsize=(6, 4))\n",
        "subplot = fig.add_subplot(1, 1, 1)\n",
        "subplot.set_xlim(1, 12)\n",
        "subplot.set_ylim(0, 30)\n",
        "subplot.set_xticks(range(1, 3))\n",
        "subplot.set_xlabel('Month')\n",
        "subplot.set_ylabel('C')\n",
        "\n",
        "subplot.scatter(range(1, 13), train_t)\n",
        "_ = subplot.plot(xs, ys)"
      ],
      "metadata": {
        "id": "iYkj6owtdXPA"
      },
      "execution_count": null,
      "outputs": []
    },
    {
      "cell_type": "markdown",
      "source": [
        "## Least Squares Method"
      ],
      "metadata": {
        "id": "G04fiZ0VI0Ku"
      }
    },
    {
      "cell_type": "code",
      "source": [
        "import numpy as np\n",
        "import matplotlib.pyplot as plt\n",
        "from pandas import DataFrame\n",
        "\n",
        "import jax, optax\n",
        "from jax import random, numpy as jnp\n",
        "from flax import linen as nn\n",
        "from flax.training import train_state\n",
        "\n",
        "plt.rcParams.update({'font.size': 12})"
      ],
      "metadata": {
        "id": "VvnA4ys9ePPn"
      },
      "execution_count": null,
      "outputs": []
    },
    {
      "cell_type": "code",
      "source": [
        "train_x = jnp.asarray([[month ** n for n in range(1, 5)] for month in range(1, 13)])"
      ],
      "metadata": {
        "id": "4Y2uCZrpJjtC"
      },
      "execution_count": null,
      "outputs": []
    },
    {
      "cell_type": "code",
      "source": [
        "train_x"
      ],
      "metadata": {
        "id": "Doxk9KUXJ4di"
      },
      "execution_count": null,
      "outputs": []
    },
    {
      "cell_type": "code",
      "source": [
        "class TemperatureModel(nn.Module):\n",
        "  @nn.compact\n",
        "  def __call__(self, x):\n",
        "    y = nn.Dense(features=1)(x)\n",
        "    return y"
      ],
      "metadata": {
        "id": "3me5v3o3J5mi"
      },
      "execution_count": null,
      "outputs": []
    },
    {
      "cell_type": "code",
      "source": [
        "key, key1 = random.split(random.PRNGKey(0))\n",
        "variables = TemperatureModel().init(key1, train_x)"
      ],
      "metadata": {
        "id": "gljJk-t3KZo0"
      },
      "execution_count": null,
      "outputs": []
    },
    {
      "cell_type": "code",
      "source": [
        "variables"
      ],
      "metadata": {
        "id": "aJX-yBjGNw0e"
      },
      "execution_count": null,
      "outputs": []
    },
    {
      "cell_type": "code",
      "source": [
        "TemperatureModel().apply(variables, train_x)"
      ],
      "metadata": {
        "id": "vvbB_eSjNxuy"
      },
      "execution_count": null,
      "outputs": []
    },
    {
      "cell_type": "code",
      "source": [
        "state = train_state.TrainState.create(\n",
        "    apply_fn=TemperatureModel().apply,\n",
        "    params=variables['params'],\n",
        "    tx=optax.adam(learning_rate=0.001)\n",
        ")"
      ],
      "metadata": {
        "id": "SDWDEU8kOmma"
      },
      "execution_count": null,
      "outputs": []
    },
    {
      "cell_type": "code",
      "source": [
        "@jax.jit\n",
        "def loss_fn(params, state, inputs, labels):\n",
        "  predicts = state.apply_fn({'params': params}, inputs)\n",
        "  loss = optax.l2_loss(predicts, labels).mean()\n",
        "  return loss"
      ],
      "metadata": {
        "id": "q5fAn0INO_Q9"
      },
      "execution_count": null,
      "outputs": []
    },
    {
      "cell_type": "code",
      "source": [
        "@jax.jit\n",
        "def train_step(state, inputs, labels):\n",
        "  loss, grads = jax.value_and_grad(loss_fn)(state.params, state, inputs, labels)\n",
        "  new_state = state.apply_gradients(grads=grads)\n",
        "  return new_state, loss"
      ],
      "metadata": {
        "id": "vvUYQ6Q4PglC"
      },
      "execution_count": null,
      "outputs": []
    },
    {
      "cell_type": "code",
      "source": [
        "%%time\n",
        "loss_history = []\n",
        "for step in range(1, 100001):\n",
        "  state, loss_val = train_step(state, train_x, train_t)\n",
        "  loss_history.append(jax.device_get(loss_val).tolist())\n",
        "  if step % 10000 == 0:\n",
        "    print('Step: {}, Loss: {:0.4f}'.format(step, loss_val), flush=True)"
      ],
      "metadata": {
        "id": "gLNW35T1QlN3"
      },
      "execution_count": null,
      "outputs": []
    },
    {
      "cell_type": "code",
      "source": [
        "df = DataFrame({'Loss': loss_history})\n",
        "df.index.name = 'Steps'\n",
        "_ = df.plot(figsize=(6, 4), xlim=(0, 100))\n",
        "\n",
        "df = DataFrame({'Loss': loss_history})\n",
        "df.index.name = 'Steps'\n",
        "_ = df.plot(figsize=(6, 4), ylim=(0, 8))"
      ],
      "metadata": {
        "id": "NVV-TBxgRUsH"
      },
      "execution_count": null,
      "outputs": []
    },
    {
      "cell_type": "code",
      "source": [
        "state.params"
      ],
      "metadata": {
        "id": "nWblM3TnR-qg"
      },
      "execution_count": null,
      "outputs": []
    },
    {
      "cell_type": "code",
      "source": [
        "xs = np.linspace(1, 12, 100)\n",
        "inputs = jnp.asarray([[month ** n for n in range(1, 5)] for month in xs])\n",
        "ys = state.apply_fn({'params': state.params}, inputs)\n",
        "\n",
        "fig = plt.figure(figsize=(6, 4))\n",
        "subplot = fig.add_subplot(1, 1, 1)\n",
        "subplot.set_xlim(1, 12)\n",
        "subplot.set_ylim(0, 30)\n",
        "subplot.set_xticks(range(1, 3))\n",
        "subplot.set_xlabel('Month')\n",
        "subplot.set_ylabel('C')\n",
        "\n",
        "subplot.scatter(range(1, 13), train_t)\n",
        "_ = subplot.plot(xs, ys)"
      ],
      "metadata": {
        "id": "XYkjWuUMSMKY"
      },
      "execution_count": null,
      "outputs": []
    },
    {
      "cell_type": "markdown",
      "source": [
        "## Logistic regression"
      ],
      "metadata": {
        "id": "eKuzYwyWnTjx"
      }
    },
    {
      "cell_type": "code",
      "source": [
        "key, key1, key2, key3 = random.split(random.PRNGKey(0), 4)\n",
        "n0, mu0, variance0 = 20, [10, 11], 20\n",
        "data0 = random.multivariate_normal(\n",
        "    key1, jnp.asarray(mu0), jnp.eye(2)*variance0, jnp.asarray([n0])\n",
        ")\n",
        "data0 = jnp.hstack([data0, jnp.zeros([n0, 1])])"
      ],
      "metadata": {
        "id": "Dh9AKtRfSf6Q"
      },
      "execution_count": null,
      "outputs": []
    },
    {
      "cell_type": "code",
      "source": [
        "data0[:10]"
      ],
      "metadata": {
        "id": "HptXSx9hn2BF"
      },
      "execution_count": null,
      "outputs": []
    },
    {
      "cell_type": "code",
      "source": [
        "n1, mu1, variance1 = 15, [18, 20], 22\n",
        "data1 = random.multivariate_normal(\n",
        "    key2, jnp.asarray(mu1), jnp.eye(2)*variance1, jnp.asarray([n1])\n",
        ")\n",
        "data1 = jnp.hstack([data1, jnp.ones([n1, 1])])"
      ],
      "metadata": {
        "id": "iU0pS73qn8yJ"
      },
      "execution_count": null,
      "outputs": []
    },
    {
      "cell_type": "code",
      "source": [
        "data1[:10]"
      ],
      "metadata": {
        "id": "KsvFPu16orU7"
      },
      "execution_count": null,
      "outputs": []
    },
    {
      "cell_type": "code",
      "source": [
        "data = random.permutation(key3, jnp.vstack([data0, data1]))"
      ],
      "metadata": {
        "id": "_k5BS0fMotFX"
      },
      "execution_count": null,
      "outputs": []
    },
    {
      "cell_type": "code",
      "source": [
        "train_x, train_t = jnp.split(data, [2], axis=1)"
      ],
      "metadata": {
        "id": "PjbsgYDQo1LR"
      },
      "execution_count": null,
      "outputs": []
    },
    {
      "cell_type": "code",
      "source": [
        "train_x[:10]"
      ],
      "metadata": {
        "id": "z9ymB6Q3o4UT"
      },
      "execution_count": null,
      "outputs": []
    },
    {
      "cell_type": "code",
      "source": [
        "train_t[:10]"
      ],
      "metadata": {
        "id": "E6prX8V0sXkr"
      },
      "execution_count": null,
      "outputs": []
    },
    {
      "cell_type": "code",
      "source": [
        "class LogisticRegression(nn.Module):\n",
        "  @nn.compact\n",
        "  def __call__(self, x, get_logits=False):\n",
        "    x = nn.Dense(features=1)(x)\n",
        "    if get_logits:\n",
        "      return x\n",
        "    x = nn.sigmoid(x)\n",
        "    return x"
      ],
      "metadata": {
        "id": "Uq3TQY9po8gQ"
      },
      "execution_count": null,
      "outputs": []
    },
    {
      "cell_type": "code",
      "source": [
        "key, key1 = random.split(key, 2)\n",
        "variables = LogisticRegression().init(key1, train_x)"
      ],
      "metadata": {
        "id": "ATzao3PqpYOr"
      },
      "execution_count": null,
      "outputs": []
    },
    {
      "cell_type": "code",
      "source": [
        "variables"
      ],
      "metadata": {
        "id": "yk4F65tCpyNB"
      },
      "execution_count": null,
      "outputs": []
    },
    {
      "cell_type": "code",
      "source": [
        "state = train_state.TrainState.create(\n",
        "    apply_fn=LogisticRegression().apply,\n",
        "    params=variables['params'],\n",
        "    tx=optax.adam(learning_rate=0.001)\n",
        ")"
      ],
      "metadata": {
        "id": "6USSQVvlpzQr"
      },
      "execution_count": null,
      "outputs": []
    },
    {
      "cell_type": "code",
      "source": [
        "@jax.jit\n",
        "def loss_fn(params, state, inputs, labels):\n",
        "  logits = state.apply_fn({'params': params}, inputs, get_logits=True)\n",
        "  loss = optax.sigmoid_binary_cross_entropy(logits, labels).mean()\n",
        "  acc = jnp.mean(jnp.sign(logits) == jnp.sign(labels-0.5))\n",
        "  return loss, acc"
      ],
      "metadata": {
        "id": "1givZhByqJWx"
      },
      "execution_count": null,
      "outputs": []
    },
    {
      "cell_type": "code",
      "source": [
        "@jax.jit\n",
        "def train_step(state, inputs, labels):\n",
        "  (loss, acc), grads = jax.value_and_grad(loss_fn, has_aux=True)(\n",
        "      state.params, state, inputs, labels\n",
        "  )\n",
        "  new_state = state.apply_gradients(grads=grads)\n",
        "  return new_state, loss, acc"
      ],
      "metadata": {
        "id": "c6mv6cspqdGq"
      },
      "execution_count": null,
      "outputs": []
    },
    {
      "cell_type": "code",
      "source": [
        "%%time\n",
        "loss_history, acc_history = [], []\n",
        "for step in range(1, 10001):\n",
        "  state, loss, acc = train_step(state, train_x, train_t)\n",
        "  loss_history.append(jax.device_get(loss).tolist())\n",
        "  acc_history.append(jax.device_get(acc).tolist())\n",
        "  if step % 1000 == 0:\n",
        "    print('Step: {}, Loss: {:.4f}, Acc: {:.4f}'.format(step, loss, acc), flush=True)"
      ],
      "metadata": {
        "id": "r7QnhwffrU6u"
      },
      "execution_count": null,
      "outputs": []
    },
    {
      "cell_type": "code",
      "source": [
        "df = DataFrame({'Accuracy': acc_history})\n",
        "df.index.name = 'Steps'\n",
        "_ = df.plot(figsize=(6, 4))\n",
        "\n",
        "df = DataFrame({'Loss': loss_history})\n",
        "df.index.name = 'Steps'\n",
        "_ = df.plot(figsize=(6, 4))"
      ],
      "metadata": {
        "id": "GESJcGVir1xt"
      },
      "execution_count": null,
      "outputs": []
    },
    {
      "cell_type": "code",
      "source": [
        "state.params"
      ],
      "metadata": {
        "id": "I7cuLDfJtPro"
      },
      "execution_count": null,
      "outputs": []
    },
    {
      "cell_type": "code",
      "source": [
        "[w1], [w2] = state.params['Dense_0']['kernel']\n",
        "[b] = state.params['Dense_0']['bias']"
      ],
      "metadata": {
        "id": "uR9WO1z3tkYA"
      },
      "execution_count": null,
      "outputs": []
    },
    {
      "cell_type": "code",
      "source": [
        "train_set0 = [jax.device_get(x).tolist()\n",
        "              for x, t in zip(train_x, train_t) if t == 0]\n",
        "train_set1 = [jax.device_get(x).tolist()\n",
        "              for x, t in zip(train_x, train_t) if t == 1]"
      ],
      "metadata": {
        "id": "Zlno1X7ctvmn"
      },
      "execution_count": null,
      "outputs": []
    },
    {
      "cell_type": "code",
      "source": [
        "fig = plt.figure(figsize=(7, 7))\n",
        "subplot = fig.add_subplot(1, 1, 1)\n",
        "subplot.set_xlim([0, 30])\n",
        "subplot.set_ylim([0, 30])\n",
        "subplot.set_xlabel('x1')\n",
        "subplot.set_ylabel('x2')\n",
        "subplot.scatter([x for x, y in train_set1],\n",
        "                [y for x, y in train_set1], marker='x')\n",
        "subplot.scatter([x for x, y in train_set0],\n",
        "                [y for x, y in train_set0], marker='o')\n",
        "\n",
        "xs = np.linspace(0, 30, 10)\n",
        "ys = - (w1*xs/w2 + b/w2)\n",
        "subplot.plot(xs, ys)\n",
        "\n",
        "locations = [[x1, x2] for x2 in np.linspace(0, 30, 100) \n",
        "                      for x1 in np.linspace(0, 30, 100)]\n",
        "p_vals = state.apply_fn(\n",
        "    {'params': state.params}, np.array(locations)).reshape([100, 100])\n",
        "_ = subplot.imshow(p_vals, origin='lower', extent=(0, 30, 0, 30),\n",
        "                   vmin=0, vmax=1, cmap=plt.cm.gray_r, alpha=0.4)"
      ],
      "metadata": {
        "id": "NoFqhPJZuIHa"
      },
      "execution_count": null,
      "outputs": []
    },
    {
      "cell_type": "markdown",
      "source": [
        "## LogisticRegression classification on MNIST"
      ],
      "metadata": {
        "id": "54Jo-I7QJelq"
      }
    },
    {
      "cell_type": "code",
      "source": [
        "import numpy as np\n",
        "import matplotlib.pyplot as plot\n",
        "from tensorflow.keras.datasets import mnist\n",
        "\n",
        "plt.rcParams.update({'font.size': 12})"
      ],
      "metadata": {
        "id": "UtosGEWcJdx3"
      },
      "execution_count": null,
      "outputs": []
    },
    {
      "cell_type": "code",
      "source": [
        "(train_images, train_labels), (test_images, test_labels) = mnist.load_data()\n",
        "print(train_labels[:3])\n",
        "train_images = train_images.reshape([-1, 784]).astype('float32') / 255.\n",
        "test_images = test_images.reshape([-1, 784]).astype('float32') / 255.\n",
        "train_labels = np.eye(10)[train_labels]  # one hot encoding\n",
        "test_labels = np.eye(10)[test_labels]"
      ],
      "metadata": {
        "id": "jXJNgc7XJw4Q"
      },
      "execution_count": null,
      "outputs": []
    },
    {
      "cell_type": "code",
      "source": [
        "fig = plt.figure(figsize=(8, 4))\n",
        "for c, (image, label) in enumerate(zip(train_images[:10], train_labels[:10])):\n",
        "  subplot = fig.add_subplot(2, 5, c + 1)\n",
        "  subplot.set_xticks([])\n",
        "  subplot.set_yticks([])\n",
        "  subplot.set_title(np.argmax(label))\n",
        "  subplot.imshow(image.reshape([28, 28]), vmin=0, vmax=1, cmap=plt.cm.gray_r)"
      ],
      "metadata": {
        "id": "tdv293lqK-wi"
      },
      "execution_count": null,
      "outputs": []
    },
    {
      "cell_type": "code",
      "source": [
        "import jax, optax\n",
        "from jax import random, numpy as jnp\n",
        "from flax import linen as nn\n",
        "from flax.training import train_state"
      ],
      "metadata": {
        "id": "C93vI8PoLDND"
      },
      "execution_count": null,
      "outputs": []
    },
    {
      "cell_type": "code",
      "source": [
        "def create_batches(data, batch_size):\n",
        "  num_batches, mod = divmod(len(data), batch_size)\n",
        "  data_batched = np.split(data[:num_batches * batch_size], num_batches)\n",
        "  if mod:\n",
        "    data_batched.append(data[num_batches * batch_size:])  # Remaining data less than the batch_size\n",
        "  data_batched = [jnp.asarray(x) for x in data_batched]\n",
        "  return data_batched"
      ],
      "metadata": {
        "id": "VHH1x6n-PPS8"
      },
      "execution_count": null,
      "outputs": []
    },
    {
      "cell_type": "code",
      "source": [
        "class SoftmaxModel(nn.Module):\n",
        "  @nn.compact\n",
        "  def __call__(self, x, get_logits=False):\n",
        "    x = nn.Dense(features=10)(x)\n",
        "    if get_logits:\n",
        "      return x\n",
        "    x = nn.softmax(x)\n",
        "    return x"
      ],
      "metadata": {
        "id": "gAVstA_OQnGM"
      },
      "execution_count": null,
      "outputs": []
    },
    {
      "cell_type": "code",
      "source": [
        "key, key1 = random.split(random.PRNGKey(0))\n",
        "variables = SoftmaxModel().init(key1, train_images[:1])\n",
        "jax.tree_util.tree_map(lambda x: x.shape, variables['params'])"
      ],
      "metadata": {
        "id": "Inf_xx6TQ05K"
      },
      "execution_count": null,
      "outputs": []
    },
    {
      "cell_type": "code",
      "source": [
        "state = train_state.TrainState.create(\n",
        "    apply_fn=SoftmaxModel().apply,\n",
        "    params=variables['params'],\n",
        "    tx=optax.adam(learning_rate=0.001)\n",
        ")"
      ],
      "metadata": {
        "id": "BGg9M1DARfnk"
      },
      "execution_count": null,
      "outputs": []
    },
    {
      "cell_type": "code",
      "source": [
        "@jax.jit\n",
        "def loss_fn(params, state, inputs, labels):\n",
        "  logits = state.apply_fn({'params': params}, inputs, get_logits=True)\n",
        "  loss = optax.softmax_cross_entropy(logits, labels).mean()  # categorical cross entropy\n",
        "  acc = jnp.mean(jnp.argmax(logits, -1) == jnp.argmax(labels, -1))\n",
        "  return loss, acc"
      ],
      "metadata": {
        "id": "QDOpEVwvSHVO"
      },
      "execution_count": null,
      "outputs": []
    },
    {
      "cell_type": "code",
      "source": [
        "@jax.jit\n",
        "def train_step(state, inputs, labels):\n",
        "  (loss, acc), grads = jax.value_and_grad(loss_fn, has_aux=True)(state.params, state, inputs, labels)\n",
        "  new_state = state.apply_gradients(grads=grads)  \n",
        "  return new_state, loss, acc"
      ],
      "metadata": {
        "id": "jxo9cMYeSZAP"
      },
      "execution_count": null,
      "outputs": []
    },
    {
      "cell_type": "code",
      "source": [
        "def train_epoch(state, input_batched, label_batched, eval):\n",
        "  loss_history, acc_history = [], []\n",
        "  for inputs, labels in zip(input_batched, label_batched):\n",
        "    new_state, loss, acc = train_step(state, inputs, labels)\n",
        "    if not eval:\n",
        "      state = new_state\n",
        "    loss_history.append(jax.device_get(loss).tolist())\n",
        "    acc_history.append(jax.device_get(acc).tolist())\n",
        "  return state, np.mean(loss_history), np.mean(acc_history)"
      ],
      "metadata": {
        "id": "S-kviVxvULIs"
      },
      "execution_count": null,
      "outputs": []
    },
    {
      "cell_type": "code",
      "source": [
        "def fit(state, train_inputs, train_labels, test_inputs, test_labels, epochs, batch_size):\n",
        "  train_inputs_batched = create_batches(train_inputs, batch_size)\n",
        "  train_labels_batched = create_batches(train_labels, batch_size)\n",
        "  test_inputs_batched = create_batches(test_inputs, batch_size)\n",
        "  test_labels_batched = create_batches(test_labels, batch_size)\n",
        "\n",
        "  loss_history_train, acc_history_train = [], []\n",
        "  loss_history_test, acc_history_test = [], []\n",
        "\n",
        "  for epoch in range(1, epochs + 1):\n",
        "    # Training\n",
        "    state, loss_train, acc_train = train_epoch(state, train_inputs_batched, train_labels_batched, eval=False)\n",
        "    loss_history_train.append(loss_train)\n",
        "    acc_history_train.append(acc_train)\n",
        "\n",
        "    # Evaluation\n",
        "    _, loss_test, acc_test = train_epoch(state, test_inputs_batched, test_labels_batched, eval=True)\n",
        "    loss_history_test.append(loss_test)\n",
        "    acc_history_test.append(acc_test)\n",
        "\n",
        "    print('Epoch: {}, Loss: {:.4f}, Acc: {:.4f} / '.format(epoch, loss_train, acc_train), end='', flush=True)\n",
        "    print('Loss(test): {:.4f}, Acc(test): {:.4f}'.format(loss_test, acc_test), flush=True)\n",
        "\n",
        "  history = {\n",
        "      'loss_train': loss_history_train,\n",
        "      'acc_train': acc_history_train,\n",
        "      'loss_test': loss_history_test,\n",
        "      'acc_test': acc_history_test\n",
        "  }\n",
        "\n",
        "  return state, history"
      ],
      "metadata": {
        "id": "ltrLZ8GNVCEc"
      },
      "execution_count": null,
      "outputs": []
    },
    {
      "cell_type": "code",
      "source": [
        "%%time\n",
        "state, history = fit(\n",
        "    state, train_images, train_labels, test_images, test_labels,\n",
        "    epochs=16, batch_size=128\n",
        ")"
      ],
      "metadata": {
        "id": "Nr20-KBSWxbX"
      },
      "execution_count": null,
      "outputs": []
    },
    {
      "cell_type": "code",
      "source": [
        "df = DataFrame({'Acc(train)': history['acc_train'], 'Acc(test)': history['acc_test']})\n",
        "df.index_name = 'Epochs'\n",
        "ax = df.plot(figsize=(6, 4))\n",
        "ax.set_xticks(df.index)\n",
        "_ = ax.set_xticklabels(df.index+1)\n",
        "\n",
        "df = DataFrame({'Loss(train)': history['loss_train'], 'Loss(test)': history['loss_test']})\n",
        "df.index_name = 'Epochs'\n",
        "ax = df.plot(figsize=(6, 4))\n",
        "ax.set_xticks(df.index)\n",
        "_ = ax.set_xticklabels(df.index+1)"
      ],
      "metadata": {
        "id": "L5xz1R38XPkp"
      },
      "execution_count": null,
      "outputs": []
    },
    {
      "cell_type": "code",
      "source": [
        "predictions = jax.device_get(\n",
        "    state.apply_fn({'params': state.params}, test_images))\n",
        "\n",
        "df = DataFrame({'pred': list(map(np.argmax, predictions)),\n",
        "                'label': list(map(np.argmax, jax.device_get(test_labels)))})\n",
        "correct = df[df['pred']==df['label']]\n",
        "incorrect = df[df['pred']!=df['label']]\n",
        "\n",
        "fig = plt.figure(figsize=(8, 16))\n",
        "for i in range(10):\n",
        "    indices = list(correct[correct['pred']==i].index[:3]) \\\n",
        "                + list(incorrect[incorrect['pred']==i].index[:3])\n",
        "    for c, image in enumerate(test_images[indices]):\n",
        "        subplot = fig.add_subplot(10, 6, i*6+c+1)\n",
        "        subplot.set_xticks([])\n",
        "        subplot.set_yticks([])\n",
        "        subplot.set_title('{} / {}'.format(i, df['label'][indices[c]]))\n",
        "        subplot.imshow(image.reshape([28, 28]),\n",
        "                       vmin=0, vmax=1, cmap=plt.cm.gray_r)"
      ],
      "metadata": {
        "id": "sNJSwR-BYEiB"
      },
      "execution_count": null,
      "outputs": []
    },
    {
      "cell_type": "markdown",
      "source": [
        "## MLP"
      ],
      "metadata": {
        "id": "nNyzaVJ6x6Kb"
      }
    },
    {
      "cell_type": "code",
      "source": [
        "import numpy as np\n",
        "import matplotlib.pyplot as plt\n",
        "from pandas import DataFrame\n",
        "\n",
        "import jax, optax\n",
        "from jax import random, numpy as jnp\n",
        "from flax import linen as nn\n",
        "from flax.training import train_state\n",
        "\n",
        "plt.rcParams.update({'font.size': 12})"
      ],
      "metadata": {
        "id": "1-9JE-ZPYf2D"
      },
      "execution_count": null,
      "outputs": []
    },
    {
      "cell_type": "code",
      "source": [
        "def generate_datablock(key, n, mu, cov, t):\n",
        "  data = random.multivariate_normal(\n",
        "      key, jnp.asarray(mu), jnp.asarray(cov), jnp.asarray([n])\n",
        "  )\n",
        "  data = jnp.hstack([data, jnp.ones([n, 1]) * t])\n",
        "  return data\n",
        "\n",
        "key, key1, key2, key3, key4, key5 = random.split(random.PRNGKey(0), 6)\n",
        "data1 = generate_datablock(key1, 15, [-3, -8], [[22, 0], [0, 22]], 0)\n",
        "data2 = generate_datablock(key2, 15, [13, -8], [[22, 0], [0, 22]], 0)\n",
        "data3 = generate_datablock(key3, 20, [-2, 8], [[40, 0], [0, 40]], 0)\n",
        "data4 = generate_datablock(key4, 25, [8, 3], [[14, 4], [4, 14]], 1)\n",
        "\n",
        "data = random.permutation(key5, jnp.vstack([data1, data2, data3, data4]))\n",
        "train_x, train_t = jnp.split(data, [2], axis=1)"
      ],
      "metadata": {
        "id": "y94sBq4wyJqB"
      },
      "execution_count": null,
      "outputs": []
    },
    {
      "cell_type": "code",
      "source": [
        "print(data1.shape, data1[0])\n",
        "print(data2.shape, data2[0])\n",
        "print(data3.shape, data3[0])\n",
        "print(data4.shape, data4[0])\n",
        "print(data.shape, data[0])\n",
        "print(train_x.shape, train_t.shape)"
      ],
      "metadata": {
        "id": "d96shy-vzH_-"
      },
      "execution_count": null,
      "outputs": []
    },
    {
      "cell_type": "code",
      "source": [
        "class SingleLayerModel(nn.Module):\n",
        "  @nn.compact\n",
        "  def __call__(self, x, get_logits=False):\n",
        "    x = nn.Dense(features=2, name='HiddenLayer')(x)\n",
        "    x = nn.tanh(x)\n",
        "    x = nn.Dense(features=1, name='OutputLayer')(x)\n",
        "    if get_logits:\n",
        "      return x\n",
        "    x = nn.sigmoid(x)\n",
        "    return x"
      ],
      "metadata": {
        "id": "0H5ebfwYzb0e"
      },
      "execution_count": null,
      "outputs": []
    },
    {
      "cell_type": "code",
      "source": [
        "key, key1 = random.split(key)\n",
        "variables = SingleLayerModel().init(key1, train_x)\n",
        "\n",
        "jax.tree_util.tree_map(lambda x: x.shape, variables['params'])"
      ],
      "metadata": {
        "id": "17XVqwjp0cr2"
      },
      "execution_count": null,
      "outputs": []
    },
    {
      "cell_type": "code",
      "source": [
        "state = train_state.TrainState.create(\n",
        "    apply_fn=SingleLayerModel().apply,\n",
        "    params=variables['params'],\n",
        "    tx=optax.adam(learning_rate=0.001)\n",
        ")"
      ],
      "metadata": {
        "id": "XKISeGs90tzG"
      },
      "execution_count": null,
      "outputs": []
    },
    {
      "cell_type": "code",
      "source": [
        "@jax.jit\n",
        "def loss_fn(params, state, inputs, labels):\n",
        "  logits = state.apply_fn({'params': params}, inputs, get_logits=True)\n",
        "  loss = optax.sigmoid_binary_cross_entropy(logits, labels).mean()\n",
        "  acc = jnp.mean(jnp.sign(logits) == jnp.sign(labels-0.5))\n",
        "  return loss, acc"
      ],
      "metadata": {
        "id": "HhVfSkUo1aad"
      },
      "execution_count": null,
      "outputs": []
    },
    {
      "cell_type": "code",
      "source": [
        "@jax.jit\n",
        "def train_step(state, inputs, labels):\n",
        "  (loss, acc), grads = jax.value_and_grad(loss_fn, has_aux=True)(state.params, state, inputs, labels)\n",
        "  new_state = state.apply_gradients(grads=grads)\n",
        "  return new_state, loss, acc"
      ],
      "metadata": {
        "id": "YZ-nSijY13wp"
      },
      "execution_count": null,
      "outputs": []
    },
    {
      "cell_type": "code",
      "source": [
        "%%time\n",
        "loss_history, acc_history = [], []\n",
        "for step in range(1, 5001):\n",
        "  state, loss, acc = train_step(state, train_x, train_t)\n",
        "  loss_history.append(jax.device_get(loss).tolist())\n",
        "  acc_history.append(jax.device_get(acc).tolist())\n",
        "  if step % 1000 == 0:\n",
        "    print('Step: {}, Loss: {:.4f}, Acc: {:.4f}'.format(step, loss, acc), flush=True)"
      ],
      "metadata": {
        "id": "Uxt8GNcn2KHt"
      },
      "execution_count": null,
      "outputs": []
    },
    {
      "cell_type": "code",
      "source": [
        "df = DataFrame({'Acc': acc_history})\n",
        "df.index_name = 'Steps'\n",
        "_ = df.plot(figsize=(6, 4))\n",
        "\n",
        "df = DataFrame({'Loss': loss_history})\n",
        "df.index_name = 'Steps'\n",
        "_ = df.plot(figsize=(6, 4))"
      ],
      "metadata": {
        "id": "AUQnOW2M5Yp1"
      },
      "execution_count": null,
      "outputs": []
    },
    {
      "cell_type": "code",
      "source": [
        "train_set0 = [jax.device_get(x).tolist()\n",
        "              for x, t in zip(train_x, train_t) if t == 0]\n",
        "train_set1 = [jax.device_get(x).tolist()\n",
        "              for x, t in zip(train_x, train_t) if t == 1]\n",
        "\n",
        "fig = plt.figure(figsize=(7, 7))\n",
        "subplot = fig.add_subplot(1, 1, 1)\n",
        "subplot.set_ylim([-15, 15])\n",
        "subplot.set_xlim([-15, 15])\n",
        "subplot.set_xlabel('x1')\n",
        "subplot.set_ylabel('x2')\n",
        "subplot.scatter([x for x, y in train_set1],\n",
        "                [y for x, y in train_set1], marker='x')\n",
        "subplot.scatter([x for x, y in train_set0],\n",
        "                [y for x, y in train_set0], marker='o')\n",
        "\n",
        "locations = [[x1, x2] for x2 in np.linspace(-15, 15, 500) \n",
        "                      for x1 in np.linspace(-15, 15, 500)]\n",
        "p_vals = state.apply_fn({'params': state.params},\n",
        "                        np.array(locations)).reshape([500, 500])\n",
        "_ = subplot.imshow(p_vals, origin='lower', extent=(-15, 15, -15, 15),\n",
        "                   vmin=0, vmax=1, cmap=plt.cm.gray_r, alpha=0.4)"
      ],
      "metadata": {
        "id": "9OQNadQn5o0o"
      },
      "execution_count": null,
      "outputs": []
    },
    {
      "cell_type": "markdown",
      "source": [
        "## MLP on MNIST"
      ],
      "metadata": {
        "id": "gzjU44Hd-Jmy"
      }
    },
    {
      "cell_type": "code",
      "source": [
        "class SingleLayerSoftmaxModel(nn.Module):\n",
        "  num_nodes: int =1024\n",
        "\n",
        "  @nn.compact\n",
        "  def __call__(self, x, get_logits=False):\n",
        "    x = nn.Dense(features=self.num_nodes)(x)\n",
        "    x = nn.relu(x)\n",
        "    x = nn.Dense(features=10)(x)\n",
        "    if get_logits:\n",
        "      return x\n",
        "    x = nn.softmax(x)\n",
        "    return x"
      ],
      "metadata": {
        "id": "WrPqvsSD55_i"
      },
      "execution_count": null,
      "outputs": []
    }
  ]
}
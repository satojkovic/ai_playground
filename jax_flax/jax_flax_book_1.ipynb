{
  "nbformat": 4,
  "nbformat_minor": 0,
  "metadata": {
    "colab": {
      "private_outputs": true,
      "provenance": []
    },
    "kernelspec": {
      "name": "python3",
      "display_name": "Python 3"
    },
    "language_info": {
      "name": "python"
    },
    "gpuClass": "standard"
  },
  "cells": [
    {
      "cell_type": "code",
      "execution_count": null,
      "metadata": {
        "id": "tfu2jLf-A2Kr"
      },
      "outputs": [],
      "source": [
        "%%bash\n",
        "curl -sLO https://raw.githubusercontent.com/enakai00/colab_jaxbook/main/requirements.txt\n",
        "pip install -r requirements.txt\n",
        "pip list | grep -E '(jax|flax|optax)'"
      ]
    },
    {
      "cell_type": "code",
      "source": [
        "import numpy as np\n",
        "import matplotlib.pyplot as plt\n",
        "\n",
        "import jax\n",
        "from jax import random, numpy as jnp\n",
        "\n",
        "plt.rcParams.update({'font.size': 12})"
      ],
      "metadata": {
        "id": "jImzcka3BdUg"
      },
      "execution_count": null,
      "outputs": []
    },
    {
      "cell_type": "code",
      "source": [
        "train_t = jnp.asarray([5.2, 5.7, 8.6, 14.9, 18.2, 20.4, 25.5, 26.4, 22.8, 17.5, 11.1, 6.6])"
      ],
      "metadata": {
        "id": "Em2i2ePcBz-o"
      },
      "execution_count": null,
      "outputs": []
    },
    {
      "cell_type": "code",
      "source": [
        "train_t = train_t.reshape([12, 1])"
      ],
      "metadata": {
        "id": "JvaasCoUB_l8"
      },
      "execution_count": null,
      "outputs": []
    },
    {
      "cell_type": "code",
      "source": [
        "train_t"
      ],
      "metadata": {
        "id": "U8v8pZeSCDD_"
      },
      "execution_count": null,
      "outputs": []
    },
    {
      "cell_type": "code",
      "source": [
        "train_x = jnp.asarray([[month ** n for n in range(0, 5)] for month in range(1, 13)])"
      ],
      "metadata": {
        "id": "mWptoYctCEE5"
      },
      "execution_count": null,
      "outputs": []
    },
    {
      "cell_type": "code",
      "source": [
        "train_x"
      ],
      "metadata": {
        "id": "yn7Qv1kaDDyF"
      },
      "execution_count": null,
      "outputs": []
    },
    {
      "cell_type": "code",
      "source": [
        "train_x.shape"
      ],
      "metadata": {
        "id": "SOD3YBctDGvv"
      },
      "execution_count": null,
      "outputs": []
    },
    {
      "cell_type": "code",
      "source": [
        "key, key1 = random.split(random.PRNGKey(0))\n",
        "w = random.normal(key1, [5, 1])\n",
        "w"
      ],
      "metadata": {
        "id": "cu2uIreIDKM7"
      },
      "execution_count": null,
      "outputs": []
    },
    {
      "cell_type": "code",
      "source": [
        "@jax.jit\n",
        "def predict(w, x):\n",
        "  y = jnp.matmul(x, w)\n",
        "  return y"
      ],
      "metadata": {
        "id": "pOVBFbySDaM7"
      },
      "execution_count": null,
      "outputs": []
    },
    {
      "cell_type": "code",
      "source": [
        "@jax.jit\n",
        "def loss_fn(w, train_x, train_t):\n",
        "  y = predict(w, train_x)\n",
        "  loss = jnp.mean((y - train_t) ** 2)\n",
        "  return loss"
      ],
      "metadata": {
        "id": "9iJyWV_5b-KO"
      },
      "execution_count": null,
      "outputs": []
    },
    {
      "cell_type": "code",
      "source": [
        "grad_loss = jax.jit(jax.grad(loss_fn))"
      ],
      "metadata": {
        "id": "YXir5V6NcIEv"
      },
      "execution_count": null,
      "outputs": []
    },
    {
      "cell_type": "code",
      "source": [
        "%%time\n",
        "learning_rate = 1e-8 * 1.4\n",
        "for step in range(1, 5000001):\n",
        "  grads = grad_loss(w, train_x, train_t)\n",
        "  w = w - learning_rate * grads\n",
        "  if step % 500000 == 0:\n",
        "    loss_val = loss_fn(w, train_x, train_t)\n",
        "    print('Step: {}, Loss: {:0.4f}'.format(step, loss_val), flush=True)"
      ],
      "metadata": {
        "id": "v4K7IZfncbzH"
      },
      "execution_count": null,
      "outputs": []
    },
    {
      "cell_type": "code",
      "source": [
        "w"
      ],
      "metadata": {
        "id": "eHKtY_kLc6-2"
      },
      "execution_count": null,
      "outputs": []
    },
    {
      "cell_type": "code",
      "source": [
        "xs = np.linspace(1, 12, 100)\n",
        "inputs = jnp.asarray([[month ** n for n in range(0, 5)] for month in xs])\n",
        "ys = predict(w, inputs)\n",
        "\n",
        "fig = plt.figure(figsize=(6, 4))\n",
        "subplot = fig.add_subplot(1, 1, 1)\n",
        "subplot.set_xlim(1, 12)\n",
        "subplot.set_ylim(0, 30)\n",
        "subplot.set_xticks(range(1, 3))\n",
        "subplot.set_xlabel('Month')\n",
        "subplot.set_ylabel('C')\n",
        "\n",
        "subplot.scatter(range(1, 13), train_t)\n",
        "_ = subplot.plot(xs, ys)"
      ],
      "metadata": {
        "id": "iYkj6owtdXPA"
      },
      "execution_count": null,
      "outputs": []
    },
    {
      "cell_type": "markdown",
      "source": [
        "## Least Squares Method"
      ],
      "metadata": {
        "id": "G04fiZ0VI0Ku"
      }
    },
    {
      "cell_type": "code",
      "source": [
        "import numpy as np\n",
        "import matplotlib.pyplot as plt\n",
        "from pandas import DataFrame\n",
        "\n",
        "import jax, optax\n",
        "from jax import random, numpy as jnp\n",
        "from flax import linen as nn\n",
        "from flax.training import train_state\n",
        "\n",
        "plt.rcParams.update({'font.size': 12})"
      ],
      "metadata": {
        "id": "VvnA4ys9ePPn"
      },
      "execution_count": null,
      "outputs": []
    },
    {
      "cell_type": "code",
      "source": [
        "train_x = jnp.asarray([[month ** n for n in range(1, 5)] for month in range(1, 13)])"
      ],
      "metadata": {
        "id": "4Y2uCZrpJjtC"
      },
      "execution_count": null,
      "outputs": []
    },
    {
      "cell_type": "code",
      "source": [
        "train_x"
      ],
      "metadata": {
        "id": "Doxk9KUXJ4di"
      },
      "execution_count": null,
      "outputs": []
    },
    {
      "cell_type": "code",
      "source": [
        "class TemperatureModel(nn.Module):\n",
        "  @nn.compact\n",
        "  def __call__(self, x):\n",
        "    y = nn.Dense(features=1)(x)\n",
        "    return y"
      ],
      "metadata": {
        "id": "3me5v3o3J5mi"
      },
      "execution_count": null,
      "outputs": []
    },
    {
      "cell_type": "code",
      "source": [
        "key, key1 = random.split(random.PRNGKey(0))\n",
        "variables = TemperatureModel().init(key1, train_x)"
      ],
      "metadata": {
        "id": "gljJk-t3KZo0"
      },
      "execution_count": null,
      "outputs": []
    },
    {
      "cell_type": "code",
      "source": [
        "variables"
      ],
      "metadata": {
        "id": "aJX-yBjGNw0e"
      },
      "execution_count": null,
      "outputs": []
    },
    {
      "cell_type": "code",
      "source": [
        "TemperatureModel().apply(variables, train_x)"
      ],
      "metadata": {
        "id": "vvbB_eSjNxuy"
      },
      "execution_count": null,
      "outputs": []
    },
    {
      "cell_type": "code",
      "source": [
        "state = train_state.TrainState.create(\n",
        "    apply_fn=TemperatureModel().apply,\n",
        "    params=variables['params'],\n",
        "    tx=optax.adam(learning_rate=0.001)\n",
        ")"
      ],
      "metadata": {
        "id": "SDWDEU8kOmma"
      },
      "execution_count": null,
      "outputs": []
    },
    {
      "cell_type": "code",
      "source": [
        "@jax.jit\n",
        "def loss_fn(params, state, inputs, labels):\n",
        "  predicts = state.apply_fn({'params': params}, inputs)\n",
        "  loss = optax.l2_loss(predicts, labels).mean()\n",
        "  return loss"
      ],
      "metadata": {
        "id": "q5fAn0INO_Q9"
      },
      "execution_count": null,
      "outputs": []
    },
    {
      "cell_type": "code",
      "source": [
        "@jax.jit\n",
        "def train_step(state, inputs, labels):\n",
        "  loss, grads = jax.value_and_grad(loss_fn)(state.params, state, inputs, labels)\n",
        "  new_state = state.apply_gradients(grads=grads)\n",
        "  return new_state, loss"
      ],
      "metadata": {
        "id": "vvUYQ6Q4PglC"
      },
      "execution_count": null,
      "outputs": []
    },
    {
      "cell_type": "code",
      "source": [
        "%%time\n",
        "loss_history = []\n",
        "for step in range(1, 100001):\n",
        "  state, loss_val = train_step(state, train_x, train_t)\n",
        "  loss_history.append(jax.device_get(loss_val).tolist())\n",
        "  if step % 10000 == 0:\n",
        "    print('Step: {}, Loss: {:0.4f}'.format(step, loss_val), flush=True)"
      ],
      "metadata": {
        "id": "gLNW35T1QlN3"
      },
      "execution_count": null,
      "outputs": []
    },
    {
      "cell_type": "code",
      "source": [
        "df = DataFrame({'Loss': loss_history})\n",
        "df.index.name = 'Steps'\n",
        "_ = df.plot(figsize=(6, 4), xlim=(0, 100))\n",
        "\n",
        "df = DataFrame({'Loss': loss_history})\n",
        "df.index.name = 'Steps'\n",
        "_ = df.plot(figsize=(6, 4), ylim=(0, 8))"
      ],
      "metadata": {
        "id": "NVV-TBxgRUsH"
      },
      "execution_count": null,
      "outputs": []
    },
    {
      "cell_type": "code",
      "source": [
        "state.params"
      ],
      "metadata": {
        "id": "nWblM3TnR-qg"
      },
      "execution_count": null,
      "outputs": []
    },
    {
      "cell_type": "code",
      "source": [
        "xs = np.linspace(1, 12, 100)\n",
        "inputs = jnp.asarray([[month ** n for n in range(1, 5)] for month in xs])\n",
        "ys = state.apply_fn({'params': state.params}, inputs)\n",
        "\n",
        "fig = plt.figure(figsize=(6, 4))\n",
        "subplot = fig.add_subplot(1, 1, 1)\n",
        "subplot.set_xlim(1, 12)\n",
        "subplot.set_ylim(0, 30)\n",
        "subplot.set_xticks(range(1, 3))\n",
        "subplot.set_xlabel('Month')\n",
        "subplot.set_ylabel('C')\n",
        "\n",
        "subplot.scatter(range(1, 13), train_t)\n",
        "_ = subplot.plot(xs, ys)"
      ],
      "metadata": {
        "id": "XYkjWuUMSMKY"
      },
      "execution_count": null,
      "outputs": []
    },
    {
      "cell_type": "code",
      "source": [],
      "metadata": {
        "id": "Dh9AKtRfSf6Q"
      },
      "execution_count": null,
      "outputs": []
    }
  ]
}
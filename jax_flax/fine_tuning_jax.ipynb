{
  "nbformat": 4,
  "nbformat_minor": 0,
  "metadata": {
    "colab": {
      "provenance": [],
      "gpuType": "V100",
      "private_outputs": true
    },
    "kernelspec": {
      "name": "python3",
      "display_name": "Python 3"
    },
    "language_info": {
      "name": "python"
    },
    "accelerator": "GPU"
  },
  "cells": [
    {
      "cell_type": "code",
      "source": [
        "%%capture\n",
        "!pip install datasets\n",
        "!pip install git+https://github.com/huggingface/transformers.git\n",
        "!pip install flax\n",
        "!pip install git+https://github.com/deepmind/optax.git"
      ],
      "metadata": {
        "id": "0pf1ijqRbjrF"
      },
      "execution_count": null,
      "outputs": []
    },
    {
      "cell_type": "code",
      "source": [
        "!pip install -q datasets"
      ],
      "metadata": {
        "id": "Y7WtYimzWgYK"
      },
      "execution_count": null,
      "outputs": []
    },
    {
      "cell_type": "code",
      "source": [
        "import jax\n",
        "jax.local_devices()"
      ],
      "metadata": {
        "id": "_HALqFF8cfAZ"
      },
      "execution_count": null,
      "outputs": []
    },
    {
      "cell_type": "markdown",
      "source": [
        "# Beans dataset"
      ],
      "metadata": {
        "id": "1Rlq6ZMI_1X0"
      }
    },
    {
      "cell_type": "code",
      "source": [
        "from transformers import FlaxResNetModel, AutoImageProcessor\n",
        "from PIL import Image\n",
        "import requests\n",
        "from flax.training import train_state\n",
        "import optax\n",
        "import jax.numpy as jnp\n",
        "from datasets import load_dataset"
      ],
      "metadata": {
        "id": "D4bmpHDAA6sg"
      },
      "execution_count": null,
      "outputs": []
    },
    {
      "cell_type": "code",
      "source": [
        "ds = load_dataset('beans')"
      ],
      "metadata": {
        "id": "pps53ZllgRLv"
      },
      "execution_count": null,
      "outputs": []
    },
    {
      "cell_type": "code",
      "source": [
        "ds['train'][200]"
      ],
      "metadata": {
        "id": "euMi-FpkgWgG"
      },
      "execution_count": null,
      "outputs": []
    },
    {
      "cell_type": "code",
      "source": [
        "ds['train'][200]['image']"
      ],
      "metadata": {
        "id": "7s2ePU8ggo3s"
      },
      "execution_count": null,
      "outputs": []
    },
    {
      "cell_type": "code",
      "source": [
        "labels = ds['train'].features['labels']\n",
        "print(labels)"
      ],
      "metadata": {
        "id": "Plgw3HXxg5lN"
      },
      "execution_count": null,
      "outputs": []
    },
    {
      "cell_type": "code",
      "source": [
        "labels.int2str(ds['train'][200]['labels'])"
      ],
      "metadata": {
        "id": "yX4342VThJL6"
      },
      "execution_count": null,
      "outputs": []
    },
    {
      "cell_type": "code",
      "source": [
        "from transformers.utils.dummy_vision_objects import ImageGPTFeatureExtractor\n",
        "import random\n",
        "from PIL import ImageDraw, ImageFont, Image"
      ],
      "metadata": {
        "id": "o1YUCBWEhZf5"
      },
      "execution_count": null,
      "outputs": []
    },
    {
      "cell_type": "code",
      "source": [
        "def show_examples(ds, seed: int = 1234, examples_per_class: int = 3, size=(350, 350)):\n",
        "  w, h = size\n",
        "  labels = ds['train'].features['labels'].names\n",
        "  grid = Image.new('RGB', size=(examples_per_class * w, len(labels) * h))\n",
        "  draw = ImageDraw.Draw(grid)\n",
        "  font = ImageFont.truetype(\"/usr/share/fonts/truetype/liberation/LiberationMono-Bold.ttf\", 24)\n",
        "\n",
        "  for label_id, label in enumerate(labels):\n",
        "    ds_slice = ds['train'].filter(lambda ex: ex['labels'] == label_id).shuffle(seed).select(range(examples_per_class))\n",
        "    for i, example in enumerate(ds_slice):\n",
        "      image = example['image']\n",
        "      idx = examples_per_class * label_id + i\n",
        "      box = (idx % examples_per_class * w, idx // examples_per_class * h)\n",
        "      grid.paste(image.resize(size), box=box)\n",
        "      draw.text(box, label, (255, 255, 255), font=font)\n",
        "  return grid"
      ],
      "metadata": {
        "id": "WN9z2JjThnVU"
      },
      "execution_count": null,
      "outputs": []
    },
    {
      "cell_type": "code",
      "source": [
        "show_examples(ds, seed=random.randint(0, 1337), examples_per_class=3)"
      ],
      "metadata": {
        "id": "gQmty8xrjAsd"
      },
      "execution_count": null,
      "outputs": []
    },
    {
      "cell_type": "code",
      "source": [
        "image_processor = AutoImageProcessor.from_pretrained('microsoft/resnet-50')"
      ],
      "metadata": {
        "id": "wwgf17JIkHLu"
      },
      "execution_count": null,
      "outputs": []
    },
    {
      "cell_type": "code",
      "source": [
        "image_example = ds['train'][200]['image']"
      ],
      "metadata": {
        "id": "-KmRapBmkf81"
      },
      "execution_count": null,
      "outputs": []
    },
    {
      "cell_type": "code",
      "source": [
        "inputs_example = image_processor(image_example)"
      ],
      "metadata": {
        "id": "SMcrAsffklRO"
      },
      "execution_count": null,
      "outputs": []
    },
    {
      "cell_type": "code",
      "source": [
        "inputs_example.keys()"
      ],
      "metadata": {
        "id": "yYfkWu7Hk8K5"
      },
      "execution_count": null,
      "outputs": []
    },
    {
      "cell_type": "markdown",
      "source": [
        "While we could call ds.map and apply this to every example at once, this can be very slow, especially if you use a larger dataset. Instead, we'll apply a transform to the dataset. Transforms are only applied to examples as you index them."
      ],
      "metadata": {
        "id": "SA3A6uqSmQFM"
      }
    },
    {
      "cell_type": "code",
      "source": [
        "def transform(example_batch):\n",
        "  inputs = image_processor([example for example in example_batch['image']])\n",
        "  inputs['labels'] = example_batch['labels']\n",
        "  return inputs"
      ],
      "metadata": {
        "id": "63QTgD3-lm93"
      },
      "execution_count": null,
      "outputs": []
    },
    {
      "cell_type": "code",
      "source": [
        "prepared_ds = ds.with_transform(transform)"
      ],
      "metadata": {
        "id": "weLMJPZJl3Qr"
      },
      "execution_count": null,
      "outputs": []
    },
    {
      "cell_type": "code",
      "source": [
        "# dataset = load_dataset('cifar100')"
      ],
      "metadata": {
        "id": "8A8UIvT_Wsen"
      },
      "execution_count": null,
      "outputs": []
    },
    {
      "cell_type": "code",
      "source": [
        "# image_processor = AutoImageProcessor.from_pretrained(\"microsoft/resnet-50\")\n",
        "# preprocessed_dataset = dataset.map(lambda x: image_processor(x['img']), batched=True)"
      ],
      "metadata": {
        "id": "t-fjKHyUQojd"
      },
      "execution_count": null,
      "outputs": []
    },
    {
      "cell_type": "code",
      "source": [
        "# train_dataset, test_dataset = dataset['train'], dataset['test']\n",
        "# print(f'train: {len(train_dataset)}, test: {len(test_dataset)}')"
      ],
      "metadata": {
        "id": "h9m76pUPaXfs"
      },
      "execution_count": null,
      "outputs": []
    },
    {
      "cell_type": "code",
      "source": [
        "# model = FlaxResNetModel.from_pretrained('microsoft/resnet-50')"
      ],
      "metadata": {
        "id": "E_gBACGdG0Z-"
      },
      "execution_count": null,
      "outputs": []
    },
    {
      "cell_type": "code",
      "source": [
        "# # ResNet parameters\n",
        "# jax.tree_map(lambda x: x.shape, model.params)"
      ],
      "metadata": {
        "id": "-NBSmduhCpIm"
      },
      "execution_count": null,
      "outputs": []
    },
    {
      "cell_type": "code",
      "source": [
        "# state = train_state.TrainState.create(\n",
        "#     apply_fn=model.__call__,\n",
        "#     params=model.params,\n",
        "#     tx=optax.adam(1e-3),\n",
        "# )"
      ],
      "metadata": {
        "id": "tVnvBMkSCHLi"
      },
      "execution_count": null,
      "outputs": []
    },
    {
      "cell_type": "code",
      "source": [],
      "metadata": {
        "id": "BjYSGD7QbCly"
      },
      "execution_count": null,
      "outputs": []
    }
  ]
}
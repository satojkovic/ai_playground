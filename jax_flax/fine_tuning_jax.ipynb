{
  "nbformat": 4,
  "nbformat_minor": 0,
  "metadata": {
    "colab": {
      "provenance": [],
      "gpuType": "V100",
      "private_outputs": true
    },
    "kernelspec": {
      "name": "python3",
      "display_name": "Python 3"
    },
    "language_info": {
      "name": "python"
    },
    "accelerator": "GPU"
  },
  "cells": [
    {
      "cell_type": "code",
      "source": [
        "%%capture\n",
        "!pip install datasets\n",
        "!pip install git+https://github.com/huggingface/transformers.git\n",
        "!pip install flax\n",
        "!pip install git+https://github.com/deepmind/optax.git"
      ],
      "metadata": {
        "id": "0pf1ijqRbjrF"
      },
      "execution_count": null,
      "outputs": []
    },
    {
      "cell_type": "code",
      "source": [
        "import jax\n",
        "jax.local_devices()"
      ],
      "metadata": {
        "id": "_HALqFF8cfAZ"
      },
      "execution_count": null,
      "outputs": []
    },
    {
      "cell_type": "markdown",
      "source": [
        "# For CV"
      ],
      "metadata": {
        "id": "1Rlq6ZMI_1X0"
      }
    },
    {
      "cell_type": "code",
      "source": [
        "from transformers import FlaxResNetModel, AutoImageProcessor\n",
        "from PIL import Image\n",
        "import requests\n",
        "from flax.training import train_state\n",
        "import optax"
      ],
      "metadata": {
        "id": "D4bmpHDAA6sg"
      },
      "execution_count": null,
      "outputs": []
    },
    {
      "cell_type": "code",
      "source": [
        "import tensorflow as tf\n",
        "import tensorflow_datasets as tfds"
      ],
      "metadata": {
        "id": "vNoSp6LB_2i9"
      },
      "execution_count": null,
      "outputs": []
    },
    {
      "cell_type": "code",
      "source": [
        "import jax.numpy as jnp"
      ],
      "metadata": {
        "id": "ypOH9je2C50b"
      },
      "execution_count": null,
      "outputs": []
    },
    {
      "cell_type": "code",
      "source": [
        "dataset, ds_info = tfds.load(\n",
        "    name='cifar100',\n",
        "    with_info=True,\n",
        "    as_supervised=True,\n",
        "    data_dir='/tmp/tfds'\n",
        ")"
      ],
      "metadata": {
        "id": "D9wBYyVS_-Um"
      },
      "execution_count": null,
      "outputs": []
    },
    {
      "cell_type": "code",
      "source": [
        "dataset = tfds.as_numpy(dataset)"
      ],
      "metadata": {
        "id": "vHwua1LMLArj"
      },
      "execution_count": null,
      "outputs": []
    },
    {
      "cell_type": "code",
      "source": [
        "ds_train, ds_test = dataset['train'], dataset['test']"
      ],
      "metadata": {
        "id": "aBGjUacQLLzU"
      },
      "execution_count": null,
      "outputs": []
    },
    {
      "cell_type": "code",
      "source": [
        "print(f'train dataset: {len(ds_train)}, test_datset: {len(ds_test)}')"
      ],
      "metadata": {
        "id": "RXN8r2jjAzD2"
      },
      "execution_count": null,
      "outputs": []
    },
    {
      "cell_type": "code",
      "source": [
        "num_labels = ds_info.features['label'].num_classes"
      ],
      "metadata": {
        "id": "oKDZgijPK56f"
      },
      "execution_count": null,
      "outputs": []
    },
    {
      "cell_type": "code",
      "source": [
        "def get_train_batches(batch_size):\n",
        "  ds = tfds.load(name='cifar100', split='train', as_supervised=True, data_dir='/tmp/tfds')\n",
        "  ds = ds.batch(batch_size).prefetch(1)\n",
        "  return tfds.as_numpy(ds)"
      ],
      "metadata": {
        "id": "hqCZIlw3Nox5"
      },
      "execution_count": null,
      "outputs": []
    },
    {
      "cell_type": "code",
      "source": [
        "model = FlaxResNetModel.from_pretrained('microsoft/resnet-50')"
      ],
      "metadata": {
        "id": "E_gBACGdG0Z-"
      },
      "execution_count": null,
      "outputs": []
    },
    {
      "cell_type": "code",
      "source": [
        "# ResNet parameters\n",
        "jax.tree_map(lambda x: x.shape, model.params)"
      ],
      "metadata": {
        "id": "-NBSmduhCpIm"
      },
      "execution_count": null,
      "outputs": []
    },
    {
      "cell_type": "code",
      "source": [
        "state = train_state.TrainState.create(\n",
        "    apply_fn=model.__call__,\n",
        "    params=model.params,\n",
        "    tx=optax.adam(1e-3),\n",
        ")"
      ],
      "metadata": {
        "id": "tVnvBMkSCHLi"
      },
      "execution_count": null,
      "outputs": []
    }
  ]
}
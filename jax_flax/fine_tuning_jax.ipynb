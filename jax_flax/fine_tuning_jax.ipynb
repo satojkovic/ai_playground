{
  "nbformat": 4,
  "nbformat_minor": 0,
  "metadata": {
    "colab": {
      "provenance": [],
      "gpuType": "V100",
      "private_outputs": true
    },
    "kernelspec": {
      "name": "python3",
      "display_name": "Python 3"
    },
    "language_info": {
      "name": "python"
    },
    "accelerator": "GPU"
  },
  "cells": [
    {
      "cell_type": "code",
      "source": [
        "%%capture\n",
        "!pip install datasets\n",
        "!pip install git+https://github.com/huggingface/transformers.git\n",
        "!pip install flax\n",
        "!pip install git+https://github.com/deepmind/optax.git"
      ],
      "metadata": {
        "id": "0pf1ijqRbjrF"
      },
      "execution_count": null,
      "outputs": []
    },
    {
      "cell_type": "code",
      "source": [
        "!pip install -q datasets"
      ],
      "metadata": {
        "id": "Y7WtYimzWgYK"
      },
      "execution_count": null,
      "outputs": []
    },
    {
      "cell_type": "code",
      "source": [
        "import jax\n",
        "jax.local_devices()"
      ],
      "metadata": {
        "id": "_HALqFF8cfAZ"
      },
      "execution_count": null,
      "outputs": []
    },
    {
      "cell_type": "markdown",
      "source": [
        "# For CV"
      ],
      "metadata": {
        "id": "1Rlq6ZMI_1X0"
      }
    },
    {
      "cell_type": "code",
      "source": [
        "from transformers import FlaxResNetModel, AutoImageProcessor\n",
        "from PIL import Image\n",
        "import requests\n",
        "from flax.training import train_state\n",
        "import optax\n",
        "import jax.numpy as jnp\n",
        "from datasets import load_dataset"
      ],
      "metadata": {
        "id": "D4bmpHDAA6sg"
      },
      "execution_count": null,
      "outputs": []
    },
    {
      "cell_type": "code",
      "source": [
        "dataset = load_dataset('cifar100')"
      ],
      "metadata": {
        "id": "8A8UIvT_Wsen"
      },
      "execution_count": null,
      "outputs": []
    },
    {
      "cell_type": "code",
      "source": [
        "image_processor = AutoImageProcessor.from_pretrained(\"microsoft/resnet-50\")\n",
        "preprocessed_dataset = dataset.map(lambda x: image_processor(x['img']), batched=True)"
      ],
      "metadata": {
        "id": "t-fjKHyUQojd"
      },
      "execution_count": null,
      "outputs": []
    },
    {
      "cell_type": "code",
      "source": [
        "train_dataset, test_dataset = dataset['train'], dataset['test']\n",
        "print(f'train: {len(train_dataset)}, test: {len(test_dataset)}')"
      ],
      "metadata": {
        "id": "h9m76pUPaXfs"
      },
      "execution_count": null,
      "outputs": []
    },
    {
      "cell_type": "code",
      "source": [
        "model = FlaxResNetModel.from_pretrained('microsoft/resnet-50')"
      ],
      "metadata": {
        "id": "E_gBACGdG0Z-"
      },
      "execution_count": null,
      "outputs": []
    },
    {
      "cell_type": "code",
      "source": [
        "# ResNet parameters\n",
        "jax.tree_map(lambda x: x.shape, model.params)"
      ],
      "metadata": {
        "id": "-NBSmduhCpIm"
      },
      "execution_count": null,
      "outputs": []
    },
    {
      "cell_type": "code",
      "source": [
        "state = train_state.TrainState.create(\n",
        "    apply_fn=model.__call__,\n",
        "    params=model.params,\n",
        "    tx=optax.adam(1e-3),\n",
        ")"
      ],
      "metadata": {
        "id": "tVnvBMkSCHLi"
      },
      "execution_count": null,
      "outputs": []
    },
    {
      "cell_type": "code",
      "source": [],
      "metadata": {
        "id": "BjYSGD7QbCly"
      },
      "execution_count": null,
      "outputs": []
    }
  ]
}
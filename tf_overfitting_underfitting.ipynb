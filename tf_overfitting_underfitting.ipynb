{
  "nbformat": 4,
  "nbformat_minor": 0,
  "metadata": {
    "colab": {
      "name": "tf_overfitting_underfitting",
      "private_outputs": true,
      "provenance": []
    },
    "kernelspec": {
      "name": "python3",
      "display_name": "Python 3"
    },
    "language_info": {
      "name": "python"
    },
    "accelerator": "GPU"
  },
  "cells": [
    {
      "cell_type": "code",
      "execution_count": null,
      "metadata": {
        "id": "8WDKLW8dyDf4"
      },
      "outputs": [],
      "source": [
        "import tensorflow as tf\n",
        "from tensorflow import keras\n",
        "import numpy as np\n",
        "import matplotlib.pyplot as plt"
      ]
    },
    {
      "cell_type": "code",
      "source": [
        "NUM_WORDS = 10000\n",
        "\n",
        "(train_data, train_labels), (test_data, test_labels) = keras.datasets.imdb.load_data(num_words=NUM_WORDS)"
      ],
      "metadata": {
        "id": "990A2-EfyPOt"
      },
      "execution_count": null,
      "outputs": []
    },
    {
      "cell_type": "code",
      "source": [
        "def multi_hot_sequences(sequences, dimension):\n",
        "  results = np.zeros((len(sequences), dimension))\n",
        "  for i, word_indices in enumerate(sequences):\n",
        "    results[i, word_indices] = 1.0\n",
        "  return results"
      ],
      "metadata": {
        "id": "Wk3FpHTcykRX"
      },
      "execution_count": null,
      "outputs": []
    },
    {
      "cell_type": "code",
      "source": [
        "print(train_data[0])"
      ],
      "metadata": {
        "id": "nvOoeFWuzSKU"
      },
      "execution_count": null,
      "outputs": []
    },
    {
      "cell_type": "code",
      "source": [
        "train_data = multi_hot_sequences(train_data, dimension=NUM_WORDS)\n",
        "test_data = multi_hot_sequences(test_data, dimension=NUM_WORDS)"
      ],
      "metadata": {
        "id": "CNlC-0r2zCnj"
      },
      "execution_count": null,
      "outputs": []
    },
    {
      "cell_type": "code",
      "source": [
        "np.where(train_data[0] == 1.0)"
      ],
      "metadata": {
        "id": "CPHVT27KzXuM"
      },
      "execution_count": null,
      "outputs": []
    },
    {
      "cell_type": "code",
      "source": [
        "plt.plot(train_data[0])"
      ],
      "metadata": {
        "id": "4Vj_AQ0MzbNB"
      },
      "execution_count": null,
      "outputs": []
    },
    {
      "cell_type": "code",
      "source": [
        "baseline_model = keras.Sequential([\n",
        "                                   keras.layers.Dense(16, activation='relu', input_shape=(NUM_WORDS,)),\n",
        "                                   keras.layers.Dense(16, activation='relu'),\n",
        "                                   keras.layers.Dense(1, activation='sigmoid')\n",
        "])"
      ],
      "metadata": {
        "id": "xuYz7Kj2zvdp"
      },
      "execution_count": null,
      "outputs": []
    },
    {
      "cell_type": "code",
      "source": [
        "baseline_model.compile(optimizer='adam', loss='binary_crossentropy', metrics=['accuracy', 'binary_crossentropy'])"
      ],
      "metadata": {
        "id": "pG49RUyw0M1k"
      },
      "execution_count": null,
      "outputs": []
    },
    {
      "cell_type": "code",
      "source": [
        "baseline_model.summary()"
      ],
      "metadata": {
        "id": "dJY7ene50WPs"
      },
      "execution_count": null,
      "outputs": []
    },
    {
      "cell_type": "code",
      "source": [
        "baseline_history = baseline_model.fit(train_data, train_labels, batch_size=512, epochs=20, validation_data=(test_data, test_labels), verbose=2)"
      ],
      "metadata": {
        "id": "YQtiJvIk0Xl2"
      },
      "execution_count": null,
      "outputs": []
    },
    {
      "cell_type": "code",
      "source": [
        "smaller_model = keras.Sequential([\n",
        "                                  keras.layers.Dense(4, activation='relu', input_shape=(NUM_WORDS,)),\n",
        "                                  keras.layers.Dense(4, activation='relu'),\n",
        "                                  keras.layers.Dense(1, activation='sigmoid')\n",
        "])"
      ],
      "metadata": {
        "id": "mx-6HSub0qJM"
      },
      "execution_count": null,
      "outputs": []
    },
    {
      "cell_type": "code",
      "source": [
        "smaller_model.compile(optimizer='adam', loss='binary_crossentropy', metrics=['accuracy', 'binary_crossentropy'])"
      ],
      "metadata": {
        "id": "w1rR0F-s155y"
      },
      "execution_count": null,
      "outputs": []
    },
    {
      "cell_type": "code",
      "source": [
        "smaller_model.summary()"
      ],
      "metadata": {
        "id": "WUOpi6Im2EYW"
      },
      "execution_count": null,
      "outputs": []
    },
    {
      "cell_type": "code",
      "source": [
        "smaller_history = smaller_model.fit(train_data, train_labels, batch_size=512, epochs=20, verbose=2, validation_data=(test_data, test_labels))"
      ],
      "metadata": {
        "id": "9trMr1ZP2eu2"
      },
      "execution_count": null,
      "outputs": []
    },
    {
      "cell_type": "code",
      "source": [
        "bigger_model = keras.models.Sequential([\n",
        "    keras.layers.Dense(512, activation='relu', input_shape=(NUM_WORDS,)),\n",
        "    keras.layers.Dense(512, activation='relu'),\n",
        "    keras.layers.Dense(1, activation='sigmoid')\n",
        "])"
      ],
      "metadata": {
        "id": "1GO8O_tt2ud5"
      },
      "execution_count": null,
      "outputs": []
    },
    {
      "cell_type": "code",
      "source": [
        "bigger_model.compile(optimizer='adam',\n",
        "                     loss='binary_crossentropy',\n",
        "                     metrics=['accuracy','binary_crossentropy'])"
      ],
      "metadata": {
        "id": "173WxzKJ3VrR"
      },
      "execution_count": null,
      "outputs": []
    },
    {
      "cell_type": "code",
      "source": [
        "bigger_model.summary()"
      ],
      "metadata": {
        "id": "FZ0pd3Xl3XW9"
      },
      "execution_count": null,
      "outputs": []
    },
    {
      "cell_type": "code",
      "source": [
        "bigger_history = bigger_model.fit(train_data, train_labels,\n",
        "                                  epochs=20,\n",
        "                                  batch_size=512,\n",
        "                                  validation_data=(test_data, test_labels),\n",
        "                                  verbose=2)"
      ],
      "metadata": {
        "id": "hVllUl0Y3ZKx"
      },
      "execution_count": null,
      "outputs": []
    },
    {
      "cell_type": "code",
      "source": [
        "def plot_history(histories, key='binary_crossentropy'):\n",
        "  plt.figure(figsize=(16, 10))\n",
        "\n",
        "  for name, history in histories:\n",
        "    val = plt.plot(history.epoch, history.history['val_' + key], '--', label=name.title() + ' Val')\n",
        "    plt.plot(history.epoch, history.history[key], color=val[0].get_color(), label=name.title() + ' Train')\n",
        "  plt.xlabel('Epochs')\n",
        "  plt.ylabel(key.replace('-', ' ').title())\n",
        "  plt.legend()\n",
        "  plt.xlim([0, max(history.epoch)])"
      ],
      "metadata": {
        "id": "jKNh88Ti3cc3"
      },
      "execution_count": null,
      "outputs": []
    },
    {
      "cell_type": "code",
      "source": [
        "plot_history([('baseline', baseline_history), ('smaller', smaller_history), ('bigger', bigger_history)])"
      ],
      "metadata": {
        "id": "8SGxa24p6DBo"
      },
      "execution_count": null,
      "outputs": []
    },
    {
      "cell_type": "code",
      "source": [
        "l2_model = tf.keras.Sequential([\n",
        "                                keras.layers.Dense(16, activation='relu', kernel_regularizer=keras.regularizers.l2(0.001), input_shape=(NUM_WORDS,)),\n",
        "                                keras.layers.Dense(16, activation='relu', kernel_regularizer=keras.regularizers.l2(0.001)),\n",
        "                                keras.layers.Dense(1, activation='sigmoid')\n",
        "])"
      ],
      "metadata": {
        "id": "-4xlyTIr6Ol4"
      },
      "execution_count": null,
      "outputs": []
    },
    {
      "cell_type": "code",
      "source": [
        "l2_model.compile(optimizer='adam', loss='binary_crossentropy', metrics=['accuracy', 'binary_crossentropy'])"
      ],
      "metadata": {
        "id": "poPV0VP87blK"
      },
      "execution_count": null,
      "outputs": []
    },
    {
      "cell_type": "code",
      "source": [
        "l2_model_history = l2_model.fit(train_data, train_labels, batch_size=512, epochs=20, verbose=2, validation_data=(test_data, test_labels))"
      ],
      "metadata": {
        "id": "9rWC-eOS7jEm"
      },
      "execution_count": null,
      "outputs": []
    },
    {
      "cell_type": "code",
      "source": [
        "plot_history([('baseline', baseline_history),\n",
        "              ('l2', l2_model_history)])"
      ],
      "metadata": {
        "id": "hUXrXIW17uJ2"
      },
      "execution_count": null,
      "outputs": []
    },
    {
      "cell_type": "code",
      "source": [
        "dpt_model = keras.models.Sequential([\n",
        "    keras.layers.Dense(16, activation='relu', input_shape=(NUM_WORDS,)),\n",
        "    keras.layers.Dropout(0.5),\n",
        "    keras.layers.Dense(16, activation='relu'),\n",
        "    keras.layers.Dropout(0.5),\n",
        "    keras.layers.Dense(1, activation='sigmoid')\n",
        "])\n",
        "\n",
        "dpt_model.compile(optimizer='adam',\n",
        "                  loss='binary_crossentropy',\n",
        "                  metrics=['accuracy','binary_crossentropy'])\n",
        "\n",
        "dpt_model_history = dpt_model.fit(train_data, train_labels,\n",
        "                                  epochs=20,\n",
        "                                  batch_size=512,\n",
        "                                  validation_data=(test_data, test_labels),\n",
        "                                  verbose=2)"
      ],
      "metadata": {
        "id": "kMfsOorE8fGf"
      },
      "execution_count": null,
      "outputs": []
    },
    {
      "cell_type": "code",
      "source": [
        "plot_history([('baseline', baseline_history),\n",
        "              ('dropout', dpt_model_history)])"
      ],
      "metadata": {
        "id": "1mpBLT8j8wz3"
      },
      "execution_count": null,
      "outputs": []
    },
    {
      "cell_type": "code",
      "source": [
        ""
      ],
      "metadata": {
        "id": "u-LzEGPb82rb"
      },
      "execution_count": null,
      "outputs": []
    }
  ]
}
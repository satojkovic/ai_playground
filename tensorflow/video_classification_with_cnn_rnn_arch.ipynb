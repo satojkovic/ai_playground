{
  "nbformat": 4,
  "nbformat_minor": 0,
  "metadata": {
    "colab": {
      "name": "video_classification_with_cnn_rnn_arch",
      "private_outputs": true,
      "provenance": []
    },
    "kernelspec": {
      "name": "python3",
      "display_name": "Python 3"
    },
    "language_info": {
      "name": "python"
    },
    "accelerator": "GPU",
    "gpuClass": "standard"
  },
  "cells": [
    {
      "cell_type": "code",
      "execution_count": null,
      "metadata": {
        "id": "K75yjJ9PlcCz"
      },
      "outputs": [],
      "source": [
        "!pip install -q git+https://github.com/tensorflow/docs"
      ]
    },
    {
      "cell_type": "code",
      "source": [
        "!wget -q https://git.io/JGc31 -O ucf101_top5.tar.gz\n",
        "!tar xf ucf101_top5.tar.gz"
      ],
      "metadata": {
        "id": "EtvZCHcsmEUv"
      },
      "execution_count": null,
      "outputs": []
    },
    {
      "cell_type": "code",
      "source": [
        "from tensorflow_docs.vis import embed\n",
        "from tensorflow import keras\n",
        "from imutils import paths\n",
        "\n",
        "import matplotlib.pyplot as plt\n",
        "import tensorflow as tf\n",
        "import pandas as pd\n",
        "import numpy as np\n",
        "import imageio\n",
        "import cv2\n",
        "import os"
      ],
      "metadata": {
        "id": "cjeUfbLNmJLy"
      },
      "execution_count": null,
      "outputs": []
    },
    {
      "cell_type": "markdown",
      "source": [
        "## Hyper parameters"
      ],
      "metadata": {
        "id": "sv4qRK0PmRjU"
      }
    },
    {
      "cell_type": "code",
      "source": [
        "IMG_SIZE = 224\n",
        "BATCH_SIZE = 64\n",
        "EPOCHS = 10\n",
        "\n",
        "MAX_SEQ_LENGTH = 20\n",
        "NUM_FEATURES = 2048"
      ],
      "metadata": {
        "id": "75j7fPdDmOK9"
      },
      "execution_count": null,
      "outputs": []
    },
    {
      "cell_type": "markdown",
      "source": [
        "## Data preparation"
      ],
      "metadata": {
        "id": "0K8BUqvomaDz"
      }
    },
    {
      "cell_type": "code",
      "source": [
        "train_df = pd.read_csv('train.csv')\n",
        "test_df = pd.read_csv('test.csv')\n",
        "\n",
        "print(f'Total videos for training: {len(train_df)}')\n",
        "print(f'Total videos for test: {len(test_df)}')\n",
        "\n",
        "train_df.sample(5)"
      ],
      "metadata": {
        "id": "1wFCacCCmWcB"
      },
      "execution_count": null,
      "outputs": []
    },
    {
      "cell_type": "markdown",
      "source": [
        "## Build the CNN feature extractor"
      ],
      "metadata": {
        "id": "k50s_TOa2Ed-"
      }
    },
    {
      "cell_type": "code",
      "source": [
        "def build_feature_extractor():\n",
        "  feature_extractor = keras.applications.InceptionV3(\n",
        "    weights='imagenet',\n",
        "    include_top=False,\n",
        "    pooling='avg',\n",
        "    input_shape=(IMG_SIZE, IMG_SIZE, 3)\n",
        "  )\n",
        "  preprocess_input = keras.applications.inception_v3.preprocess_input\n",
        "\n",
        "  inputs = keras.Input((IMG_SIZE, IMG_SIZE, 3))\n",
        "  preprocessed = preprocess_input(inputs)\n",
        "\n",
        "  outputs = feature_extractor(preprocessed)\n",
        "  return keras.Model(inputs, outputs, name='feature_extractor')"
      ],
      "metadata": {
        "id": "-cXmD4f3ms_W"
      },
      "execution_count": null,
      "outputs": []
    },
    {
      "cell_type": "code",
      "source": [
        "feature_extractor = build_feature_extractor()"
      ],
      "metadata": {
        "id": "Ez1d8C4P25vt"
      },
      "execution_count": null,
      "outputs": []
    },
    {
      "cell_type": "code",
      "source": [
        "# convert label of the videos to numerical values\n",
        "label_processor = keras.layers.StringLookup(\n",
        "  num_oov_indices=0, vocabulary=np.unique(train_df['tag'])\n",
        ")\n",
        "print(label_processor.get_vocabulary())"
      ],
      "metadata": {
        "id": "dxaWSpCa29V_"
      },
      "execution_count": null,
      "outputs": []
    },
    {
      "cell_type": "code",
      "source": [
        ""
      ],
      "metadata": {
        "id": "ktI0B2aC3jdk"
      },
      "execution_count": null,
      "outputs": []
    }
  ]
}
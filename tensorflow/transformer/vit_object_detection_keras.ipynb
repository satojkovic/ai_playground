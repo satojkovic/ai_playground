{
  "nbformat": 4,
  "nbformat_minor": 0,
  "metadata": {
    "colab": {
      "name": "vit_object_detection_keras",
      "provenance": [],
      "private_outputs": true
    },
    "kernelspec": {
      "name": "python3",
      "display_name": "Python 3"
    },
    "language_info": {
      "name": "python"
    },
    "gpuClass": "standard"
  },
  "cells": [
    {
      "cell_type": "code",
      "execution_count": null,
      "metadata": {
        "id": "d-84PhEdo7vp"
      },
      "outputs": [],
      "source": [
        "!pip install -U tensorflow-addons"
      ]
    },
    {
      "cell_type": "code",
      "source": [
        "import numpy as np\n",
        "import tensorflow as tf\n",
        "from tensorflow import keras\n",
        "from tensorflow.keras import layers\n",
        "import tensorflow_addons as tfa\n",
        "import matplotlib.pyplot as plt\n",
        "import cv2\n",
        "import os\n",
        "import scipy.io\n",
        "import shutil"
      ],
      "metadata": {
        "id": "J-mXHuBxpFFF"
      },
      "execution_count": null,
      "outputs": []
    },
    {
      "cell_type": "markdown",
      "source": [
        "### Hyper parameters"
      ],
      "metadata": {
        "id": "oVqCjnjesn1s"
      }
    },
    {
      "cell_type": "code",
      "source": [
        "image_size = 224\n",
        "patch_size = 32"
      ],
      "metadata": {
        "id": "SVEjE2g6sqFd"
      },
      "execution_count": null,
      "outputs": []
    },
    {
      "cell_type": "markdown",
      "source": [
        "### Prepare dataset"
      ],
      "metadata": {
        "id": "soLtSqJ0oLCY"
      }
    },
    {
      "cell_type": "code",
      "source": [
        "path_to_download_file = keras.utils.get_file(\n",
        "    fname='caltech_101_zipped',\n",
        "    origin=\"https://data.caltech.edu/tindfiles/serve/e41f5188-0b32-41fa-801b-d1e840915e80/\",\n",
        "    extract=True,\n",
        "    archive_format='zip',\n",
        "    cache_dir='./'\n",
        ")"
      ],
      "metadata": {
        "id": "wQfyJIMBpbip"
      },
      "execution_count": null,
      "outputs": []
    },
    {
      "cell_type": "code",
      "source": [
        "shutil.unpack_archive('datasets/caltech-101/101_ObjectCategories.tar.gz', './')"
      ],
      "metadata": {
        "id": "r3twGFcYqf_y"
      },
      "execution_count": null,
      "outputs": []
    },
    {
      "cell_type": "code",
      "source": [
        "shutil.unpack_archive('datasets/caltech-101/Annotations.tar', './')"
      ],
      "metadata": {
        "id": "av1ChATfqiib"
      },
      "execution_count": null,
      "outputs": []
    },
    {
      "cell_type": "code",
      "source": [
        "path_images = '101_ObjectCategories/airplanes/'\n",
        "path_annot = 'Annotations/Airplanes_Side_2/'"
      ],
      "metadata": {
        "id": "d__-OJa6rWcX"
      },
      "execution_count": null,
      "outputs": []
    },
    {
      "cell_type": "code",
      "source": [
        "image_paths = [f for f in os.listdir(path_images) if os.path.isfile(os.path.join(path_images, f))]\n",
        "annot_paths = [f for f in os.listdir(path_annot) if os.path.isfile(os.path.join(path_annot, f))]"
      ],
      "metadata": {
        "id": "x1aCHDLxrkrR"
      },
      "execution_count": null,
      "outputs": []
    },
    {
      "cell_type": "code",
      "source": [
        "image_paths.sort()\n",
        "annot_paths.sort()"
      ],
      "metadata": {
        "id": "vT1IORoXr9Kq"
      },
      "execution_count": null,
      "outputs": []
    },
    {
      "cell_type": "code",
      "source": [
        "image_paths[:10], annot_paths[:10]"
      ],
      "metadata": {
        "id": "LTxi54ABsSTU"
      },
      "execution_count": null,
      "outputs": []
    },
    {
      "cell_type": "code",
      "source": [
        "images, targets = [], []\n",
        "for i in range(len(annot_paths)):\n",
        "  annot = scipy.io.loadmat(os.path.join(path_annot, annot_paths[i]))['box_coord'][0]\n",
        "  top_left_x, top_left_y = annot[2], annot[0]\n",
        "  bottom_right_x, bottom_right_y = annot[3], annot[1]\n",
        "\n",
        "  image = keras.utils.load_img(os.path.join(path_images, image_paths[i]))\n",
        "  (w, h) = image.size[:2]\n",
        "\n",
        "  # Resize train images\n",
        "  if i < int(len(annot_paths) * 0.8):\n",
        "    image = image.resize((image_size, image_size))\n",
        "\n",
        "  images.append(keras.utils.img_to_array(image))\n",
        "\n",
        "  # Apply relative scaling\n",
        "  targets.append((\n",
        "       float(top_left_x) / w,\n",
        "       float(top_left_y) / h,\n",
        "       float(bottom_right_x) / w,\n",
        "       float(bottom_right_y) / h\n",
        "  ))\n",
        "\n",
        "(x_train, y_train) = (\n",
        "  np.asarray(images[: int(len(images) * 0.8)]),\n",
        "  np.asarray(targets[: int(len(targets) * 0.8)])\n",
        ")\n",
        "(x_test, y_test) = (\n",
        "  np.asarray(images[int(len(images) * 0.8) :]),\n",
        "  np.asarray(targets[int(len(targets) * 0.8) :])\n",
        ")"
      ],
      "metadata": {
        "id": "-PJCRRV-sc8y"
      },
      "execution_count": null,
      "outputs": []
    },
    {
      "cell_type": "markdown",
      "source": [
        "### MLP layer"
      ],
      "metadata": {
        "id": "R4LWAFURuoji"
      }
    },
    {
      "cell_type": "code",
      "source": [
        "def mlp(x, hidden_units, dropout_rate):\n",
        "  for units in hidden_units:\n",
        "    x = layers.Dense(units, activation=tf.nn.gelu)(x)\n",
        "    x = layers.Dropout(dropout_rate)(x)\n",
        "  return x"
      ],
      "metadata": {
        "id": "dVVapS19un_H"
      },
      "execution_count": null,
      "outputs": []
    },
    {
      "cell_type": "markdown",
      "source": [
        "### Patch creation layer"
      ],
      "metadata": {
        "id": "Qi3Zkiaju7qu"
      }
    },
    {
      "cell_type": "code",
      "source": [
        "class Patches(layers.Layer):\n",
        "  def __init__(self, patch_size):\n",
        "    super().__init__()\n",
        "    self.patch_size = patch_size\n",
        "\n",
        "  def call(self, images):\n",
        "    batch_size = tf.shape(images)[0]\n",
        "    patches = tf.image.extract_patches(\n",
        "        images=images,\n",
        "        sizes=[1, self.patch_size, self.patch_size, 1],\n",
        "        strides=[1, self.patch_size, self.patch_size, 1],\n",
        "        rates=[1, 1, 1, 1],\n",
        "        padding='VALID'\n",
        "    )\n",
        "    return tf.reshape(patches, [batch_size, -1, patches.shape[-1]])"
      ],
      "metadata": {
        "id": "tQW1ucquug4F"
      },
      "execution_count": null,
      "outputs": []
    },
    {
      "cell_type": "markdown",
      "source": [
        "#### Display patches"
      ],
      "metadata": {
        "id": "VWTa0QkbwqzU"
      }
    },
    {
      "cell_type": "code",
      "source": [
        "plt.figure(figsize=(4, 4))\n",
        "plt.imshow(x_train[0].astype('uint8'))\n",
        "plt.axis('off')\n",
        "\n",
        "patches = Patches(patch_size)(tf.convert_to_tensor([x_train[0]]))\n",
        "print(f'Image size: {image_size}x{image_size}')\n",
        "print(f'Patch_size: {patch_size}x{patch_size}')\n",
        "print(f'{patches.shape[1]} patches per image')\n",
        "print(f'{patches.shape[-1]} elements per patch')\n",
        "print(f'Pathces shape: {patches.shape}')\n",
        "\n",
        "n = int(np.sqrt(patches.shape[1]))\n",
        "plt.figure(figsize=(4, 4))\n",
        "for i, patch in enumerate(patches[0]):\n",
        "  ax = plt.subplot(n, n, i + 1)\n",
        "  patch_img = tf.reshape(patch, (patch_size, patch_size, 3))\n",
        "  plt.imshow(patch_img.numpy().astype('uint8'))\n",
        "  plt.axis('off')"
      ],
      "metadata": {
        "id": "J2D95Rp-wlkM"
      },
      "execution_count": null,
      "outputs": []
    },
    {
      "cell_type": "code",
      "source": [
        ""
      ],
      "metadata": {
        "id": "jc9VjP5-xsTE"
      },
      "execution_count": null,
      "outputs": []
    }
  ]
}
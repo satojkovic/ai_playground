{
  "nbformat": 4,
  "nbformat_minor": 0,
  "metadata": {
    "colab": {
      "private_outputs": true,
      "provenance": []
    },
    "kernelspec": {
      "name": "python3",
      "display_name": "Python 3"
    },
    "language_info": {
      "name": "python"
    },
    "accelerator": "GPU",
    "gpuClass": "standard"
  },
  "cells": [
    {
      "cell_type": "code",
      "execution_count": null,
      "metadata": {
        "id": "Wab_-qZFjtMZ"
      },
      "outputs": [],
      "source": [
        "!pip install --upgrade pip\n",
        "# Installs the wheel compatible with CUDA 11 and cuDNN 8.2 or newer.\n",
        "# Note: wheels only available on linux.\n",
        "# !pip install --upgrade \"jax[cuda]\" -f https://storage.googleapis.com/jax-releases/jax_cuda_releases.html"
      ]
    },
    {
      "cell_type": "code",
      "source": [
        "!pip install flax\n",
        "!pip install tqdm"
      ],
      "metadata": {
        "id": "AuBBQNT3kWN_"
      },
      "execution_count": null,
      "outputs": []
    },
    {
      "cell_type": "code",
      "source": [
        "import jax\n",
        "import jax.numpy as jnp\n",
        "import jax.dlpack\n",
        "from jax import grad, jit, vmap, random\n",
        "from jax import random\n",
        "from jax.example_libraries import stax, optimizers\n",
        "\n",
        "from tensorflow import keras\n",
        "import tensorflow_datasets as tfds\n",
        "import tensorflow as tf\n",
        "\n",
        "import time\n",
        "import numpy.random as npr\n",
        "import math\n",
        "\n",
        "from typing import Optional\n",
        "\n",
        "import optax\n",
        "from flax.training import train_state"
      ],
      "metadata": {
        "id": "BQvUkGlFj_Qf"
      },
      "execution_count": null,
      "outputs": []
    },
    {
      "cell_type": "code",
      "source": [
        "from flax import linen as nn"
      ],
      "metadata": {
        "id": "nznZNlRZkByd"
      },
      "execution_count": null,
      "outputs": []
    },
    {
      "cell_type": "markdown",
      "source": [
        "## Tubelet embedding"
      ],
      "metadata": {
        "id": "0YnOXRWZkLJ7"
      }
    },
    {
      "cell_type": "code",
      "source": [
        "class TubeletEmbedding(nn.Module):\n",
        "  patch_size: int\n",
        "  embed_dim: int\n",
        "\n",
        "  @nn.compact\n",
        "  def __call__(self, videos):\n",
        "    patches = nn.Conv(\n",
        "        features=self.embed_dim,\n",
        "        kernel_size=[self.patch_size, self.patch_size, self.patch_size],\n",
        "        strides=[self.patch_size, self.patch_size, self.patch_size],\n",
        "        padding='VALID'\n",
        "    )(videos)\n",
        "    b, t, h, w, c = patches.shape\n",
        "    patches = jnp.reshape(patches, (b, t*h*w, c))\n",
        "    return patches"
      ],
      "metadata": {
        "id": "RoNvfPlckCz6"
      },
      "execution_count": null,
      "outputs": []
    },
    {
      "cell_type": "markdown",
      "source": [
        "## Patch encoder"
      ],
      "metadata": {
        "id": "ewxUoqZxJ3OD"
      }
    },
    {
      "cell_type": "code",
      "source": [
        "class PatchEncoder(nn.Module):\n",
        "  hidden_dim: int\n",
        "\n",
        "  @nn.compact\n",
        "  def __call__(self, x):\n",
        "    assert x.ndim == 3\n",
        "    n, seq_len, _ = x.shape\n",
        "    # Hidden dim\n",
        "    x = nn.Dense(self.hidden_dim)(x)\n",
        "    # Add cls token\n",
        "    cls = self.param('cls_token', nn.initializers.zeros, (1, 1, self.hidden_dim))\n",
        "    cls = jnp.tile(cls, (n, 1, 1))\n",
        "    x = jnp.concatenate([cls, x], axis=1)\n",
        "    # Add position embedding\n",
        "    pos_embed = self.param(\n",
        "        'position_embedding',\n",
        "        nn.initializers.normal(stddev=0.02),\n",
        "        (1, seq_len + 1, self.hidden_dim)\n",
        "    )\n",
        "    return x + pos_embed"
      ],
      "metadata": {
        "id": "EYnsO7YRoCvd"
      },
      "execution_count": null,
      "outputs": []
    },
    {
      "cell_type": "markdown",
      "source": [
        "## Test tubelet embedding"
      ],
      "metadata": {
        "id": "NZPvm5MtJOMk"
      }
    },
    {
      "cell_type": "code",
      "source": [
        "def test_tubelet_embedding():\n",
        "  main_rng = jax.random.PRNGKey(42)\n",
        "  x = jnp.ones(shape=(8, 16, 32, 32, 3))\n",
        "  embedder = TubeletEmbedding(patch_size=4, embed_dim=128)\n",
        "  variables = embedder.init(main_rng, x)\n",
        "  out = embedder.apply(variables, x)\n",
        "  print(out.shape)"
      ],
      "metadata": {
        "id": "6ThXTr6qnWh4"
      },
      "execution_count": null,
      "outputs": []
    },
    {
      "cell_type": "code",
      "source": [
        "test_tubelet_embedding()"
      ],
      "metadata": {
        "id": "Id4E5IPDJTdo"
      },
      "execution_count": null,
      "outputs": []
    },
    {
      "cell_type": "code",
      "source": [],
      "metadata": {
        "id": "_6A3ARvOKS0s"
      },
      "execution_count": null,
      "outputs": []
    }
  ]
}
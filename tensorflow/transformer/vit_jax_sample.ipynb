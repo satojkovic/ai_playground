{
  "cells": [
    {
      "cell_type": "markdown",
      "metadata": {
        "id": "uj4sJd_xVLGw"
      },
      "source": [
        "# Tutorial 15 (JAX): Vision Transformers\n",
        "\n",
        "![Status](https://img.shields.io/static/v1.svg?label=Status&message=Finished&color=green)\n",
        "\n",
        "**Filled notebook:** \n",
        "[![View on Github](https://img.shields.io/static/v1.svg?logo=github&label=Repo&message=View%20On%20Github&color=lightgrey)](https://github.com/phlippe/uvadlc_notebooks/blob/master/docs/tutorial_notebooks/JAX/tutorial15/Vision_Transformer.ipynb)\n",
        "[![Open In Collab](https://colab.research.google.com/assets/colab-badge.svg)](https://colab.research.google.com/github/phlippe/uvadlc_notebooks/blob/master/docs/tutorial_notebooks/JAX/tutorial15/Vision_Transformer.ipynb)   \n",
        "**Pre-trained models:** \n",
        "[![View files on Github](https://img.shields.io/static/v1.svg?logo=github&label=Repo&message=View%20On%20Github&color=lightgrey)](https://github.com/phlippe/saved_models/tree/main/JAX/tutorial15)   \n",
        "**PyTorch version:**\n",
        "[![View on RTD](https://img.shields.io/static/v1.svg?logo=readthedocs&label=RTD&message=View%20On%20RTD&color=8CA1AF)](https://uvadlc-notebooks.readthedocs.io/en/latest/tutorial_notebooks/tutorial15/Vision_Transformer.html)   \n",
        "**Author:** Phillip Lippe"
      ]
    },
    {
      "cell_type": "markdown",
      "metadata": {
        "id": "HC-jrmNmVLGx"
      },
      "source": [
        "<div class=\"alert alert-info\">\n",
        "\n",
        "**Note:** This notebook is written in JAX+Flax. It is a 1-to-1 translation of the original notebook written in PyTorch+PyTorch Lightning with almost identical results. For an introduction to JAX, check out our [Tutorial 2 (JAX): Introduction to JAX+Flax](https://uvadlc-notebooks.readthedocs.io/en/latest/tutorial_notebooks/JAX/tutorial2/Introduction_to_JAX.html). Further, throughout the notebook, we comment on major differences to the PyTorch version and provide explanations for the major parts of the JAX code.\n",
        "    \n",
        "</div>"
      ]
    },
    {
      "cell_type": "markdown",
      "metadata": {
        "id": "l90wmEE7VLGx"
      },
      "source": [
        "---\n",
        "\n",
        "**Speed comparison**: We note the training times for all models in the PyTorch and the JAX implementation below (PyTorch v1.11, JAX v0.3.13). The models were trained on the same hardware (NVIDIA RTX3090, 24 core CPU) and we slightly adjusted the tutorials to use the exact same training settings (200 epochs, data loading parameters, evaluation schedule, etc.). Overall, the JAX implementation is just slightly faster (1.1x) than PyTorch.\n",
        "    \n",
        "| Models                |   PyTorch   |     JAX     |\n",
        "|-----------------------|:-----------:|:-----------:|\n",
        "| Vision Transformer    | 28min 40sec | 27min 10sec |\n",
        "\n",
        "---"
      ]
    },
    {
      "cell_type": "markdown",
      "metadata": {
        "id": "sAr9UyllVLGy"
      },
      "source": [
        "In this tutorial, we will take a closer look at a recent new trend: Transformers for Computer Vision. Since [Alexey Dosovitskiy et al.](https://openreview.net/pdf?id=YicbFdNTTy) successfully applied a Transformer on a variety of image recognition benchmarks, there have been an incredible amount of follow-up works showing that CNNs might not be optimal architecture for Computer Vision anymore. But how do Vision Transformers work exactly, and what benefits and drawbacks do they offer in contrast to CNNs? We will answer these questions by implementing a Vision Transformer ourselves and train it on the popular, small dataset CIFAR10. We will compare these results to the convolutional architectures of [Tutorial 5](https://uvadlc-notebooks.readthedocs.io/en/latest/tutorial_notebooks/JAX/tutorial5/Inception_ResNet_DenseNet.html). \n",
        "\n",
        "If you are not familiar with Transformers yet, take a look at [Tutorial 6](https://uvadlc-notebooks.readthedocs.io/en/latest/tutorial_notebooks/JAX/tutorial6/Transformers_and_MHAttention.html) where we discuss the fundamentals of Multi-Head Attention and Transformers. Let's start with importing our standard set of libraries."
      ]
    },
    {
      "cell_type": "code",
      "execution_count": null,
      "metadata": {
        "id": "LvMQLM_4VLGy"
      },
      "outputs": [],
      "source": [
        "## Standard libraries\n",
        "import os\n",
        "import numpy as np\n",
        "import math\n",
        "import json\n",
        "from functools import partial\n",
        "from PIL import Image\n",
        "from collections import defaultdict\n",
        "\n",
        "## Imports for plotting\n",
        "import matplotlib.pyplot as plt\n",
        "plt.set_cmap('cividis')\n",
        "%matplotlib inline\n",
        "from IPython.display import set_matplotlib_formats\n",
        "set_matplotlib_formats('svg', 'pdf') # For export\n",
        "from matplotlib.colors import to_rgb\n",
        "import matplotlib\n",
        "matplotlib.rcParams['lines.linewidth'] = 2.0\n",
        "import seaborn as sns\n",
        "sns.reset_orig()\n",
        "\n",
        "## tqdm for progress bars\n",
        "from tqdm.auto import tqdm\n",
        "\n",
        "## To run JAX on TPU in Google Colab, uncomment the two lines below\n",
        "# import jax.tools.colab_tpu\n",
        "# jax.tools.colab_tpu.setup_tpu()\n",
        "\n",
        "## JAX\n",
        "import jax\n",
        "import jax.numpy as jnp\n",
        "from jax import random\n",
        "\n",
        "## Flax (NN in JAX)\n",
        "try:\n",
        "    import flax\n",
        "except ModuleNotFoundError: # Install flax if missing\n",
        "    !pip install --quiet flax\n",
        "    import flax\n",
        "from flax import linen as nn\n",
        "from flax.training import train_state, checkpoints\n",
        "\n",
        "## Optax (Optimizers in JAX)\n",
        "try:\n",
        "    import optax\n",
        "except ModuleNotFoundError: # Install optax if missing\n",
        "    !pip install --quiet optax\n",
        "    import optax\n",
        "\n",
        "## PyTorch\n",
        "import torch\n",
        "import torch.utils.data as data\n",
        "from torch.utils.tensorboard import SummaryWriter\n",
        "import torchvision\n",
        "from torchvision import transforms\n",
        "from torchvision.datasets import CIFAR10\n",
        "\n",
        "# Import tensorboard\n",
        "%load_ext tensorboard\n",
        "\n",
        "# Path to the folder where the datasets are/should be downloaded (e.g. CIFAR10)\n",
        "DATASET_PATH = \"../../data\"\n",
        "# Path to the folder where the pretrained models are saved\n",
        "CHECKPOINT_PATH = \"../../saved_models/tutorial15_jax\"\n",
        "\n",
        "# Seeding for random operations\n",
        "main_rng = random.PRNGKey(42)\n",
        "\n",
        "print(\"Device:\", jax.devices()[0])"
      ]
    },
    {
      "cell_type": "markdown",
      "metadata": {
        "id": "JpFGq-bDVLGz"
      },
      "source": [
        "We provide a pre-trained Vision Transformer which we download in the next cell. However, Vision Transformers can be relatively quickly trained on CIFAR10 with an overall training time of less than an hour on an NVIDIA TitanRTX. Feel free to experiment with training your own Transformer once you went through the whole notebook."
      ]
    },
    {
      "cell_type": "code",
      "execution_count": null,
      "metadata": {
        "id": "8ylgvFuaVLGz"
      },
      "outputs": [],
      "source": [
        "import urllib.request\n",
        "from urllib.error import HTTPError\n",
        "# Github URL where saved models are stored for this tutorial\n",
        "base_url = \"https://raw.githubusercontent.com/phlippe/saved_models/main/JAX/\"\n",
        "# Files to download\n",
        "pretrained_files = [\"tutorial15/ViT.ckpt\", \"tutorial15/tensorboards/ViT/events.out.tfevents.ViT\",\n",
        "                    \"tutorial5/tensorboards/ResNet/events.out.tfevents.resnet\"]\n",
        "# Create checkpoint path if it doesn't exist yet\n",
        "os.makedirs(CHECKPOINT_PATH, exist_ok=True)\n",
        "\n",
        "# For each file, check whether it already exists. If not, try downloading it.\n",
        "for file_name in pretrained_files:\n",
        "    file_path = os.path.join(CHECKPOINT_PATH, file_name.split(\"/\",1)[1])\n",
        "    if \"/\" in file_name.split(\"/\",1)[1]:\n",
        "        os.makedirs(file_path.rsplit(\"/\",1)[0], exist_ok=True)\n",
        "    if not os.path.isfile(file_path):\n",
        "        file_url = base_url + file_name\n",
        "        print(f\"Downloading {file_url}...\")\n",
        "        try:\n",
        "            urllib.request.urlretrieve(file_url, file_path)\n",
        "        except HTTPError as e:\n",
        "            print(\"Something went wrong. Please try to download the file from the GDrive folder, or contact the author with the full output including the following error:\\n\", e)"
      ]
    },
    {
      "cell_type": "markdown",
      "metadata": {
        "id": "NidevBw2VLGz"
      },
      "source": [
        "We load the CIFAR10 dataset below. We use the same setup of the datasets and data augmentations as for the CNNs in Tutorial 5 to keep a fair comparison. The constants in the image normalization correspond to the values that scale and shift the data to a zero mean and standard deviation of one. "
      ]
    },
    {
      "cell_type": "code",
      "execution_count": null,
      "metadata": {
        "id": "KHUNYpX_VLG0"
      },
      "outputs": [],
      "source": [
        "# Transformations applied on each image => bring them into a numpy array\n",
        "DATA_MEANS = np.array([0.49139968, 0.48215841, 0.44653091])\n",
        "DATA_STD = np.array([0.24703223, 0.24348513, 0.26158784])\n",
        "def image_to_numpy(img):\n",
        "    img = np.array(img, dtype=np.float32)\n",
        "    img = (img / 255. - DATA_MEANS) / DATA_STD\n",
        "    return img\n",
        "\n",
        "# We need to stack the batch elements\n",
        "def numpy_collate(batch):\n",
        "    if isinstance(batch[0], np.ndarray):\n",
        "        return np.stack(batch)\n",
        "    elif isinstance(batch[0], (tuple,list)):\n",
        "        transposed = zip(*batch)\n",
        "        return [numpy_collate(samples) for samples in transposed]\n",
        "    else:\n",
        "        return np.array(batch)\n",
        "\n",
        "test_transform = image_to_numpy\n",
        "# For training, we add some augmentation. Networks are too powerful and would overfit.\n",
        "train_transform = transforms.Compose([transforms.RandomHorizontalFlip(),\n",
        "                                      transforms.RandomResizedCrop((32,32),scale=(0.8,1.0),ratio=(0.9,1.1)),\n",
        "                                      image_to_numpy\n",
        "                                     ])\n",
        "# Loading the training dataset. We need to split it into a training and validation part\n",
        "# We need to do a little trick because the validation set should not use the augmentation.\n",
        "train_dataset = CIFAR10(root=DATASET_PATH, train=True, transform=train_transform, download=True)\n",
        "val_dataset = CIFAR10(root=DATASET_PATH, train=True, transform=test_transform, download=True)\n",
        "train_set, _ = torch.utils.data.random_split(train_dataset, [45000, 5000], generator=torch.Generator().manual_seed(42))\n",
        "_, val_set = torch.utils.data.random_split(val_dataset, [45000, 5000], generator=torch.Generator().manual_seed(42))\n",
        "\n",
        "# Loading the test set\n",
        "test_set = CIFAR10(root=DATASET_PATH, train=False, transform=test_transform, download=True)\n",
        "\n",
        "# We define a set of data loaders that we can use for training and validation\n",
        "train_loader = data.DataLoader(train_set,\n",
        "                               batch_size=128,\n",
        "                               shuffle=True,\n",
        "                               drop_last=True,\n",
        "                               collate_fn=numpy_collate,\n",
        "                               num_workers=8,\n",
        "                               persistent_workers=True)\n",
        "val_loader   = data.DataLoader(val_set,\n",
        "                               batch_size=128,\n",
        "                               shuffle=False,\n",
        "                               drop_last=False,\n",
        "                               collate_fn=numpy_collate,\n",
        "                               num_workers=4,\n",
        "                               persistent_workers=True)\n",
        "test_loader  = data.DataLoader(test_set,\n",
        "                               batch_size=128,\n",
        "                               shuffle=False,\n",
        "                               drop_last=False,\n",
        "                               collate_fn=numpy_collate,\n",
        "                               num_workers=4,\n",
        "                               persistent_workers=True)"
      ]
    },
    {
      "cell_type": "code",
      "execution_count": null,
      "metadata": {
        "id": "LGX2eOebVLG0"
      },
      "outputs": [],
      "source": [
        "# Visualize some examples\n",
        "def numpy_to_torch(array):\n",
        "    array = jax.device_get(array)\n",
        "    tensor = torch.from_numpy(array)\n",
        "    tensor = tensor.permute(0, 3, 1, 2)\n",
        "    return tensor\n",
        "\n",
        "NUM_IMAGES = 4\n",
        "CIFAR_images = np.stack([val_set[idx][0] for idx in range(NUM_IMAGES)], axis=0)\n",
        "img_grid = torchvision.utils.make_grid(numpy_to_torch(CIFAR_images), \n",
        "                                       nrow=4, normalize=True, pad_value=0.9)\n",
        "img_grid = img_grid.permute(1, 2, 0)\n",
        "\n",
        "plt.figure(figsize=(8,8))\n",
        "plt.title(\"Image examples of the CIFAR10 dataset\")\n",
        "plt.imshow(img_grid)\n",
        "plt.axis('off')\n",
        "plt.show()\n",
        "plt.close()"
      ]
    },
    {
      "cell_type": "markdown",
      "metadata": {
        "id": "90OwhzAdVLG0"
      },
      "source": [
        "## Transformers for image classification\n",
        "\n",
        "Transformers have been originally proposed to process sets since it is a permutation-equivariant architecture, i.e., producing the same output permuted if the input is permuted. To apply Transformers to sequences, we have simply added a positional encoding to the input feature vectors, and the model learned by itself what to do with it. So, why not do the same thing on images? This is exactly what [Alexey Dosovitskiy et al.](https://openreview.net/pdf?id=YicbFdNTTy) proposed in their paper \"An Image is Worth 16x16 Words: Transformers for Image Recognition at Scale\". Specifically, the Vision Transformer is a model for image classification that views images as sequences of smaller patches. As a preprocessing step, we split an image of, for example, $48\\times 48$ pixels into 9 $16\\times 16$ patches. Each of those patches is considered to be a \"word\"/\"token\" and projected to a feature space. With adding positional encodings and a token for classification on top, we can apply a Transformer as usual to this sequence and start training it for our task. A nice GIF visualization of the architecture is shown below (figure credit - [Phil Wang](https://github.com/lucidrains/vit-pytorch/blob/main/images/vit.gif)):\n",
        "\n",
        "<center width=\"100%\"><img src=\"https://github.com/phlippe/uvadlc_notebooks/blob/master/docs/tutorial_notebooks/tutorial15/vit.gif?raw=1\" width=\"600px\"></center>\n",
        "\n",
        "We will walk step by step through the Vision Transformer, and implement all parts by ourselves. First, let's implement the image preprocessing: an image of size $N\\times N$ has to be split into $(N/M)^2$ patches of size $M\\times M$. These represent the input words to the Transformer. "
      ]
    },
    {
      "cell_type": "code",
      "execution_count": null,
      "metadata": {
        "id": "Z1JKltTBVLG0"
      },
      "outputs": [],
      "source": [
        "def img_to_patch(x, patch_size, flatten_channels=True):\n",
        "    \"\"\"\n",
        "    Inputs:\n",
        "        x - torch.Tensor representing the image of shape [B, H, W, C]\n",
        "        patch_size - Number of pixels per dimension of the patches (integer)\n",
        "        flatten_channels - If True, the patches will be returned in a flattened format\n",
        "                           as a feature vector instead of a image grid.\n",
        "    \"\"\"\n",
        "    B, H, W, C = x.shape\n",
        "    x = x.reshape(B, H//patch_size, patch_size, W//patch_size, patch_size, C)\n",
        "    x = x.transpose(0, 1, 3, 2, 4, 5)    # [B, H', W', p_H, p_W, C]\n",
        "    x = x.reshape(B, -1, *x.shape[3:])   # [B, H'*W', p_H, p_W, C]\n",
        "    if flatten_channels:\n",
        "        x = x.reshape(B, x.shape[1], -1) # [B, H'*W', p_H*p_W*C]\n",
        "    return x"
      ]
    },
    {
      "cell_type": "code",
      "execution_count": null,
      "metadata": {
        "id": "OGOg5NZHVWnZ"
      },
      "outputs": [],
      "source": [
        "class Patches(nn.Module):\n",
        "  patch_size: int\n",
        "  embed_dim: int\n",
        "\n",
        "  def setup(self):\n",
        "    self.conv = nn.Conv(\n",
        "        features=self.embed_dim,\n",
        "        kernel_size=(self.patch_size, self.patch_size),\n",
        "        strides=(self.patch_size, self.patch_size),\n",
        "        padding='VALID'\n",
        "    )\n",
        "\n",
        "  def __call__(self, images):\n",
        "    patches = self.conv(images)\n",
        "    b, h, w, c = patches.shape\n",
        "    patches = jnp.reshape(patches, (b, h*w, c))\n",
        "    return patches"
      ]
    },
    {
      "cell_type": "code",
      "source": [
        "class PatchEncoder(nn.Module):\n",
        "  @nn.compact\n",
        "  def __call__(self, x):\n",
        "    assert x.ndim == 3\n",
        "    n, seq_len, c = x.shape\n",
        "    # Add cls token\n",
        "    cls = self.param('cls_token', nn.initializers.zeros, (1, 1, c))\n",
        "    cls = jnp.tile(cls, (n, 1, 1))\n",
        "    x = jnp.concatenate([cls, x], axis=1)\n",
        "    # Add position embedding\n",
        "    pos_embed = self.param(\n",
        "        'position_embedding', \n",
        "        nn.initializers.normal(stddev=0.02), # From BERT\n",
        "        (1, seq_len + 1, c)\n",
        "    )\n",
        "    return x + pos_embed"
      ],
      "metadata": {
        "id": "1DO5sJldCeDH"
      },
      "execution_count": null,
      "outputs": []
    },
    {
      "cell_type": "markdown",
      "metadata": {
        "id": "FHSqRDwrVLG1"
      },
      "source": [
        "Let's take a look at how that works for our CIFAR examples above. For our images of size $32\\times 32$, we choose a patch size of 4. Hence, we obtain sequences of 64 patches of size $4\\times 4$. We visualize them below:"
      ]
    },
    {
      "cell_type": "code",
      "execution_count": null,
      "metadata": {
        "id": "rtKuHKN6VLG1"
      },
      "outputs": [],
      "source": [
        "img_patches = img_to_patch(CIFAR_images, patch_size=4, flatten_channels=False)\n",
        "\n",
        "fig, ax = plt.subplots(CIFAR_images.shape[0], 1, figsize=(14,3))\n",
        "fig.suptitle(\"Images as input sequences of patches\")\n",
        "for i in range(CIFAR_images.shape[0]):\n",
        "    img_grid = torchvision.utils.make_grid(numpy_to_torch(img_patches[i]), \n",
        "                                           nrow=64, normalize=True, pad_value=0.9)\n",
        "    img_grid = img_grid.permute(1, 2, 0)\n",
        "    ax[i].imshow(img_grid)\n",
        "    ax[i].axis('off')\n",
        "plt.show()\n",
        "plt.close()"
      ]
    },
    {
      "cell_type": "markdown",
      "metadata": {
        "id": "1twaoKzUVLG1"
      },
      "source": [
        "Compared to the original images, it is much harder to recognize the objects from those patch lists now. Still, this is the input we provide to the Transformer for classifying the images. The model has to learn itself how it has to combine the patches to recognize the objects. The inductive bias in CNNs that an image is a grid of pixels, is lost in this input format.\n",
        "\n",
        "After we have looked at the preprocessing, we can now start building the Transformer model. Since we have discussed the fundamentals of Multi-Head Attention in [Tutorial 6](https://uvadlc-notebooks.readthedocs.io/en/latest/tutorial_notebooks/JAX/tutorial6/Transformers_and_MHAttention.html), we will use the Flax module `nn.MultiHeadDotProductAttention` ([docs](https://flax.readthedocs.io/en/latest/_autosummary/flax.linen.MultiHeadDotProductAttention.html)) here. Further, we use the Pre-Layer Normalization version of the Transformer blocks proposed by [Ruibin Xiong et al.](http://proceedings.mlr.press/v119/xiong20b/xiong20b.pdf) in 2020. The idea is to apply Layer Normalization not in between residual blocks, but instead as a first layer in the residual blocks. This reorganization of the layers supports better gradient flow and removes the necessity of a warm-up stage. A visualization of the difference between the standard Post-LN and the Pre-LN version is shown below.\n",
        "\n",
        "<center width=\"100%\"><img src=\"https://github.com/phlippe/uvadlc_notebooks/blob/master/docs/tutorial_notebooks/tutorial15/pre_layer_norm.svg?raw=1\" width=\"400px\"></center>\n",
        "\n",
        "The implementation of the Pre-LN attention block looks as follows:"
      ]
    },
    {
      "cell_type": "code",
      "execution_count": null,
      "metadata": {
        "id": "WOYt4C0DVLG1"
      },
      "outputs": [],
      "source": [
        "class AttentionBlock(nn.Module):\n",
        "    embed_dim : int   # Dimensionality of input and attention feature vectors\n",
        "    hidden_dim : int  # Dimensionality of hidden layer in feed-forward network \n",
        "    num_heads : int   # Number of heads to use in the Multi-Head Attention block\n",
        "    dropout_prob : float = 0.0  # Amount of dropout to apply in the feed-forward network\n",
        "    \n",
        "    def setup(self):\n",
        "        self.attn = nn.MultiHeadDotProductAttention(num_heads=self.num_heads)\n",
        "        self.linear = [\n",
        "            nn.Dense(self.hidden_dim),\n",
        "            nn.gelu,\n",
        "            nn.Dropout(self.dropout_prob),\n",
        "            nn.Dense(self.embed_dim)\n",
        "        ]\n",
        "        self.layer_norm_1 = nn.LayerNorm()\n",
        "        self.layer_norm_2 = nn.LayerNorm()\n",
        "        self.dropout = nn.Dropout(self.dropout_prob)\n",
        "        \n",
        "    def __call__(self, x, train=True):\n",
        "        inp_x = self.layer_norm_1(x)\n",
        "        attn_out = self.attn(inputs_q=inp_x, inputs_kv=inp_x)\n",
        "        x = x + self.dropout(attn_out, deterministic=not train)\n",
        "        \n",
        "        linear_out = self.layer_norm_2(x)\n",
        "        for l in self.linear:\n",
        "            linear_out = l(linear_out) if not isinstance(l, nn.Dropout) else l(linear_out, deterministic=not train)\n",
        "        x = x + self.dropout(linear_out, deterministic=not train)\n",
        "        return x"
      ]
    },
    {
      "cell_type": "code",
      "execution_count": null,
      "metadata": {
        "id": "sLkDh7JUVLG1"
      },
      "outputs": [],
      "source": [
        "## Test AttentionBlock implementation\n",
        "# Example features as input\n",
        "main_rng, x_rng = random.split(main_rng)\n",
        "x = random.normal(x_rng, (3, 16, 128))\n",
        "# Create attention block\n",
        "attnblock = AttentionBlock(embed_dim=128, hidden_dim=512, num_heads=4, dropout_prob=0.1)\n",
        "# Initialize parameters of attention block with random key and inputs\n",
        "main_rng, init_rng, dropout_init_rng = random.split(main_rng, 3)\n",
        "params = attnblock.init({'params': init_rng, 'dropout': dropout_init_rng}, x, True)['params']\n",
        "# Apply encoder block with parameters on the inputs\n",
        "# Since dropout is stochastic, we need to pass a rng to the forward\n",
        "main_rng, dropout_apply_rng = random.split(main_rng)\n",
        "out = attnblock.apply({'params': params}, x, train=True, rngs={'dropout': dropout_apply_rng})\n",
        "print('Out', out.shape)\n",
        "\n",
        "del attnblock, params"
      ]
    },
    {
      "cell_type": "markdown",
      "metadata": {
        "id": "MjzZ7HCtVLG1"
      },
      "source": [
        "Now we have all modules ready to build our own Vision Transformer. Besides the Transformer encoder, we need the following modules:\n",
        "\n",
        "* A **linear projection** layer that maps the input patches to a feature vector of larger size. It is implemented by a simple linear layer that takes each $M\\times M$ patch independently as input.\n",
        "* A **classification token** that is added to the input sequence. We will use the output feature vector of the classification token (CLS token in short) for determining the classification prediction.\n",
        "* Learnable **positional encodings** that are added to the tokens before being processed by the Transformer. Those are needed to learn position-dependent information, and convert the set to a sequence. Since we usually work with a fixed resolution, we can learn the positional encodings instead of having the pattern of sine and cosine functions.\n",
        "* An **MLP head** that takes the output feature vector of the CLS token, and maps it to a classification prediction. This is usually implemented by a small feed-forward network or even a single linear layer.\n",
        "\n",
        "With those components in mind, let's implement the full Vision Transformer below:"
      ]
    },
    {
      "cell_type": "code",
      "execution_count": null,
      "metadata": {
        "id": "d6TfsZOLVLG1"
      },
      "outputs": [],
      "source": [
        "class VisionTransformer(nn.Module):\n",
        "    embed_dim : int     # Dimensionality of input and attention feature vectors\n",
        "    hidden_dim : int    # Dimensionality of hidden layer in feed-forward network \n",
        "    num_heads : int     # Number of heads to use in the Multi-Head Attention block\n",
        "    num_channels : int  # Number of channels of the input (3 for RGB)\n",
        "    num_layers : int    # Number of layers to use in the Transformer\n",
        "    num_classes : int   # Number of classes to predict\n",
        "    patch_size : int    # Number of pixels that the patches have per dimension\n",
        "    num_patches : int   # Maximum number of patches an image can have\n",
        "    dropout_prob : float = 0.0  # Amount of dropout to apply in the feed-forward network\n",
        "    \n",
        "    def setup(self):\n",
        "        # --- custom ---\n",
        "        self.patch_extractor = Patches(self.patch_size, self.embed_dim)\n",
        "        self.patch_encoder = PatchEncoder()\n",
        "        # Layers/Networks\n",
        "        self.input_layer = nn.Dense(self.embed_dim)\n",
        "        self.transformer = [AttentionBlock(self.embed_dim, \n",
        "                                           self.hidden_dim, \n",
        "                                           self.num_heads, \n",
        "                                           self.dropout_prob) for _ in range(self.num_layers)]\n",
        "        self.mlp_head = nn.Sequential([\n",
        "            nn.LayerNorm(),\n",
        "            nn.Dense(self.num_classes)\n",
        "        ])\n",
        "        self.dropout = nn.Dropout(self.dropout_prob)\n",
        "        \n",
        "        # Parameters/Embeddings\n",
        "        self.cls_token = self.param('cls_token', \n",
        "                                    nn.initializers.normal(stddev=1.0), \n",
        "                                    (1, 1, self.embed_dim))\n",
        "        self.pos_embedding = self.param('pos_embedding', \n",
        "                                        nn.initializers.normal(stddev=1.0), \n",
        "                                        (1, 1+self.num_patches, self.embed_dim))\n",
        "    \n",
        "    \n",
        "    def __call__(self, x, train=True):\n",
        "        # Preprocess input\n",
        "        x = self.patch_extractor(x)\n",
        "        #x = img_to_patch(x, self.patch_size)\n",
        "        B, T, _ = x.shape\n",
        "        x = self.input_layer(x)\n",
        "        \n",
        "        # Add CLS token and positional encoding\n",
        "        # cls_token = self.cls_token.repeat(B, axis=0)\n",
        "        # x = jnp.concatenate([cls_token, x], axis=1)\n",
        "        # x = x + self.pos_embedding[:,:T+1]\n",
        "        x = self.patch_encoder(x)\n",
        "        \n",
        "        # Apply Transforrmer\n",
        "        x = self.dropout(x, deterministic=not train)\n",
        "        for attn_block in self.transformer:\n",
        "            x = attn_block(x, train=train)\n",
        "        \n",
        "        # Perform classification prediction\n",
        "        cls = x[:,0]\n",
        "        out = self.mlp_head(cls)\n",
        "        return out"
      ]
    },
    {
      "cell_type": "code",
      "execution_count": null,
      "metadata": {
        "id": "NGEBei3kVLG1"
      },
      "outputs": [],
      "source": [
        "## Test VisionTransformer implementation\n",
        "# Example features as input\n",
        "main_rng, x_rng = random.split(main_rng)\n",
        "x = random.normal(x_rng, (5, 32, 32, 3))\n",
        "# Create vision transformer\n",
        "visntrans = VisionTransformer(embed_dim=128, \n",
        "                              hidden_dim=512, \n",
        "                              num_heads=4, \n",
        "                              num_channels=3, \n",
        "                              num_layers=6,\n",
        "                              num_classes=10, \n",
        "                              patch_size=4, \n",
        "                              num_patches=64,\n",
        "                              dropout_prob=0.1)\n",
        "# Initialize parameters of the Vision Transformer with random key and inputs\n",
        "main_rng, init_rng, dropout_init_rng = random.split(main_rng, 3)\n",
        "params = visntrans.init({'params': init_rng, 'dropout': dropout_init_rng}, x, True)['params']\n",
        "# Apply encoder block with parameters on the inputs\n",
        "# Since dropout is stochastic, we need to pass a rng to the forward\n",
        "main_rng, dropout_apply_rng = random.split(main_rng)\n",
        "out = visntrans.apply({'params': params}, x, train=True, rngs={'dropout': dropout_apply_rng})\n",
        "print('Out', out.shape)\n",
        "\n",
        "print(jax.tree_map(jnp.shape, params))\n",
        "del visntrans, params"
      ]
    },
    {
      "cell_type": "markdown",
      "metadata": {
        "id": "hcxeiY-NVLG2"
      },
      "source": [
        "Finally, we can put everything into a trainer module as usual. We use `optax.adamw` as the optimizer, which is Adam with a corrected weight decay implementation. Since we use the Pre-LN Transformer version, we do not need to use a learning rate warmup stage anymore. Instead, we use the same learning rate scheduler as the CNNs in our previous tutorial on image classification."
      ]
    },
    {
      "cell_type": "code",
      "execution_count": null,
      "metadata": {
        "id": "ghG9SSKuVLG2"
      },
      "outputs": [],
      "source": [
        "class TrainerModule:\n",
        "\n",
        "    def __init__(self, exmp_imgs, lr=1e-3, weight_decay=0.01, seed=42, **model_hparams):\n",
        "        \"\"\"\n",
        "        Module for summarizing all training functionalities for classification on CIFAR10.\n",
        "\n",
        "        Inputs:\n",
        "            exmp_imgs - Example imgs, used as input to initialize the model\n",
        "            lr - Learning rate of the optimizer to use\n",
        "            weight_decay - Weight decay to use in the optimizer\n",
        "            seed - Seed to use in the model initialization\n",
        "        \"\"\"\n",
        "        super().__init__()\n",
        "        self.lr = lr\n",
        "        self.weight_decay = weight_decay\n",
        "        self.seed = seed\n",
        "        self.rng = jax.random.PRNGKey(self.seed)\n",
        "        # Create empty model. Note: no parameters yet\n",
        "        self.model = VisionTransformer(**model_hparams)\n",
        "        # Prepare logging\n",
        "        self.log_dir = os.path.join(CHECKPOINT_PATH, 'ViT/')\n",
        "        self.logger = SummaryWriter(log_dir=self.log_dir)\n",
        "        # Create jitted training and eval functions\n",
        "        self.create_functions()\n",
        "        # Initialize model\n",
        "        self.init_model(exmp_imgs)\n",
        "\n",
        "    def create_functions(self):\n",
        "        # Function to calculate the classification loss and accuracy for a model\n",
        "        def calculate_loss(params, rng, batch, train):\n",
        "            imgs, labels = batch\n",
        "            rng, dropout_apply_rng = random.split(rng)\n",
        "            logits = self.model.apply({'params': params},\n",
        "                                      imgs,\n",
        "                                      train=train,\n",
        "                                      rngs={'dropout': dropout_apply_rng})\n",
        "            loss = optax.softmax_cross_entropy_with_integer_labels(logits, labels).mean()\n",
        "            acc = (logits.argmax(axis=-1) == labels).mean()\n",
        "            return loss, (acc, rng)\n",
        "        # Training function\n",
        "        def train_step(state, rng, batch):\n",
        "            loss_fn = lambda params: calculate_loss(params, rng, batch, train=True)\n",
        "            # Get loss, gradients for loss, and other outputs of loss function\n",
        "            (loss, (acc, rng)), grads = jax.value_and_grad(loss_fn, has_aux=True)(state.params)\n",
        "            # Update parameters and batch statistics\n",
        "            state = state.apply_gradients(grads=grads)\n",
        "            return state, rng, loss, acc\n",
        "        # Eval function\n",
        "        def eval_step(state, rng, batch):\n",
        "            # Return the accuracy for a single batch\n",
        "            _, (acc, rng) = calculate_loss(state.params, rng, batch, train=False)\n",
        "            return rng, acc\n",
        "        # jit for efficiency\n",
        "        self.train_step = jax.jit(train_step)\n",
        "        self.eval_step = jax.jit(eval_step)\n",
        "\n",
        "    def init_model(self, exmp_imgs):\n",
        "        # Initialize model\n",
        "        self.rng, init_rng, dropout_init_rng = random.split(self.rng, 3)\n",
        "        self.init_params = self.model.init({'params': init_rng, 'dropout': dropout_init_rng}, \n",
        "                                           exmp_imgs, \n",
        "                                           train=True)['params']\n",
        "        print(jax.tree_map(jnp.shape, self.init_params))\n",
        "        self.state = None\n",
        "\n",
        "    def init_optimizer(self, num_epochs, num_steps_per_epoch):\n",
        "        # We decrease the learning rate by a factor of 0.1 after 60% and 85% of the training\n",
        "        lr_schedule = optax.piecewise_constant_schedule(\n",
        "            init_value=self.lr,\n",
        "            boundaries_and_scales=\n",
        "                {int(num_steps_per_epoch*num_epochs*0.6): 0.1,\n",
        "                 int(num_steps_per_epoch*num_epochs*0.85): 0.1}\n",
        "        )\n",
        "        optimizer = optax.chain(\n",
        "            optax.clip_by_global_norm(1.0),  # Clip gradients at norm 1\n",
        "            optax.adamw(lr_schedule, weight_decay=self.weight_decay)\n",
        "        )\n",
        "        # Initialize training state\n",
        "        self.state = train_state.TrainState.create(\n",
        "                                       apply_fn=self.model.apply,\n",
        "                                       params=self.init_params if self.state is None else self.state.params,\n",
        "                                       tx=optimizer)\n",
        "\n",
        "    def train_model(self, train_loader, val_loader, num_epochs=200):\n",
        "        # Train model for defined number of epochs\n",
        "        # We first need to create optimizer and the scheduler for the given number of epochs\n",
        "        self.init_optimizer(num_epochs, len(train_loader))\n",
        "        # Track best eval accuracy\n",
        "        best_eval = 0.0\n",
        "        for epoch_idx in tqdm(range(1, num_epochs+1)):\n",
        "            self.train_epoch(epoch=epoch_idx)\n",
        "            if epoch_idx % 2 == 0:\n",
        "                eval_acc = self.eval_model(val_loader)\n",
        "                self.logger.add_scalar('val/acc', eval_acc, global_step=epoch_idx)\n",
        "                if eval_acc >= best_eval:\n",
        "                    best_eval = eval_acc\n",
        "                    self.save_model(step=epoch_idx)\n",
        "                self.logger.flush()\n",
        "\n",
        "    def train_epoch(self, epoch):\n",
        "        # Train model for one epoch, and log avg loss and accuracy\n",
        "        metrics = defaultdict(list)\n",
        "        for batch in tqdm(train_loader, desc='Training', leave=False):\n",
        "            self.state, self.rng, loss, acc = self.train_step(self.state, self.rng, batch)\n",
        "            metrics['loss'].append(loss)\n",
        "            metrics['acc'].append(acc)\n",
        "        for key in metrics:\n",
        "            avg_val = np.stack(jax.device_get(metrics[key])).mean()\n",
        "            self.logger.add_scalar('train/'+key, avg_val, global_step=epoch)\n",
        "\n",
        "    def eval_model(self, data_loader):\n",
        "        # Test model on all images of a data loader and return avg loss\n",
        "        correct_class, count = 0, 0\n",
        "        for batch in data_loader:\n",
        "            self.rng, acc = self.eval_step(self.state, self.rng, batch)\n",
        "            correct_class += acc * batch[0].shape[0]\n",
        "            count += batch[0].shape[0]\n",
        "        eval_acc = (correct_class / count).item()\n",
        "        return eval_acc\n",
        "\n",
        "    def save_model(self, step=0):\n",
        "        # Save current model at certain training iteration\n",
        "        checkpoints.save_checkpoint(ckpt_dir=self.log_dir,\n",
        "                                    target=self.state.params,\n",
        "                                    step=step,\n",
        "                                    overwrite=True)\n",
        "\n",
        "    def load_model(self, pretrained=False):\n",
        "        # Load model. We use different checkpoint for pretrained models\n",
        "        if not pretrained:\n",
        "            params = checkpoints.restore_checkpoint(ckpt_dir=self.log_dir, target=None)\n",
        "        else:\n",
        "            params = checkpoints.restore_checkpoint(ckpt_dir=os.path.join(CHECKPOINT_PATH, f'ViT.ckpt'), target=None)\n",
        "        self.state = train_state.TrainState.create(\n",
        "                                       apply_fn=self.model.apply,\n",
        "                                       params=params,\n",
        "                                       tx=self.state.tx if self.state else optax.adamw(self.lr)  # Default optimizer\n",
        "                                      )\n",
        "\n",
        "    def checkpoint_exists(self):\n",
        "        # Check whether a pretrained model exist for this autoencoder\n",
        "        return os.path.isfile(os.path.join(CHECKPOINT_PATH, f'ViT.ckpt'))"
      ]
    },
    {
      "cell_type": "markdown",
      "metadata": {
        "id": "TloY2_GrVLG2"
      },
      "source": [
        "## Experiments\n",
        "\n",
        "Commonly, Vision Transformers are applied to large-scale image classification benchmarks such as ImageNet to leverage their full potential. However, here we take a step back and ask: can Vision Transformer also succeed on classical, small benchmarks such as CIFAR10? To find this out, we train a Vision Transformer from scratch on the CIFAR10 dataset. Let's first create a training function for our PyTorch Lightning module which also loads the pre-trained model if you have downloaded it above."
      ]
    },
    {
      "cell_type": "code",
      "execution_count": null,
      "metadata": {
        "id": "d5l615D8VLG2"
      },
      "outputs": [],
      "source": [
        "def train_model(*args, num_epochs=200, **kwargs):\n",
        "    # Create a trainer module with specified hyperparameters\n",
        "    trainer = TrainerModule(*args, **kwargs)\n",
        "    print(f'checkpoint exists?: {trainer.checkpoint_exists()}')\n",
        "    if not trainer.checkpoint_exists():  # Skip training if pretrained model exists\n",
        "        trainer.train_model(train_loader, val_loader, num_epochs=num_epochs)\n",
        "        trainer.load_model()\n",
        "    else:\n",
        "        trainer.load_model(pretrained=True)\n",
        "    # Test trained model\n",
        "    val_acc = trainer.eval_model(val_loader)\n",
        "    test_acc = trainer.eval_model(test_loader)\n",
        "    return trainer, {'val': val_acc, 'test': test_acc}"
      ]
    },
    {
      "cell_type": "markdown",
      "metadata": {
        "id": "zofazyLyVLG2"
      },
      "source": [
        "Now, we can already start training our model. As seen in our implementation, we have a couple of hyperparameters that we have to set. When creating this notebook, we have performed a small grid search over hyperparameters and listed the best hyperparameters in the cell below. Nevertheless, it is worth discussing the influence that each hyperparameter has, and what intuition we have for choosing its value.\n",
        "\n",
        "First, let's consider the patch size. The smaller we make the patches, the longer the input sequences to the Transformer become. While in general, this allows the Transformer to model more complex functions, it requires a longer computation time due to its quadratic memory usage in the attention layer. Furthermore, small patches can make the task more difficult since the Transformer has to learn which patches are close-by, and which are far away. We experimented with patch sizes of 2, 4, and 8 which gives us the input sequence lengths of 256, 64, and 16 respectively. We found 4 to result in the best performance and hence pick it below. \n",
        "\n",
        "Next, the embedding and hidden dimensionality have a similar impact on a Transformer as to an MLP. The larger the sizes, the more complex the model becomes, and the longer it takes to train. In Transformers, however, we have one more aspect to consider: the query-key sizes in the Multi-Head Attention layers. Each key has the feature dimensionality of `embed_dim/num_heads`. Considering that we have an input sequence length of 64, a minimum reasonable size for the key vectors is 16 or 32. Lower dimensionalities can restrain the possible attention maps too much. We observed that more than 8 heads are not necessary for the Transformer, and therefore pick an embedding dimensionality of `256`. The hidden dimensionality in the feed-forward networks is usually 2-4x larger than the embedding dimensionality, and thus we pick `512`. \n",
        "\n",
        "Finally, the learning rate for Transformers is usually relatively small, and in papers, a common value to use is 3e-5. However, since we work with a smaller dataset and have a potentially easier task, we found that we are able to increase the learning rate to 3e-4 without any problems. To reduce overfitting, we use a dropout value of 0.2. Remember that we also use small image augmentations as regularization during training.\n",
        "\n",
        "Feel free to explore the hyperparameters yourself by changing the values below. In general, the Vision Transformer did not show to be too sensitive to the hyperparameter choices on the CIFAR10 dataset. "
      ]
    },
    {
      "cell_type": "code",
      "execution_count": null,
      "metadata": {
        "id": "FCF9wudoVLG2"
      },
      "outputs": [],
      "source": [
        "model, results = train_model(exmp_imgs=next(iter(train_loader))[0],\n",
        "                             embed_dim=256,\n",
        "                             hidden_dim=512,\n",
        "                             num_heads=8,\n",
        "                             num_layers=6,\n",
        "                             patch_size=4,\n",
        "                             num_channels=3,\n",
        "                             num_patches=64,\n",
        "                             num_classes=10,\n",
        "                             dropout_prob=0.2,\n",
        "                             lr=3e-4)\n",
        "print(\"ViT results\", results)"
      ]
    },
    {
      "cell_type": "markdown",
      "metadata": {
        "id": "6T8CiM3iVLG2"
      },
      "source": [
        "The Vision Transformer achieves a validation and test performance of about 78%. In comparison, almost all CNN architectures that we have tested in [Tutorial 5](https://uvadlc-notebooks.readthedocs.io/en/latest/tutorial_notebooks/JAX/tutorial5/Inception_ResNet_DenseNet.html) obtained a classification performance of around 90%. This is a considerable gap and shows that although Vision Transformers perform strongly on ImageNet with potential pretraining, they cannot come close to simple CNNs on CIFAR10 when being trained from scratch. The differences between a CNN and Transformer can be well observed in the training curves. Let's look at them in a tensorboard below:"
      ]
    },
    {
      "cell_type": "code",
      "execution_count": null,
      "metadata": {
        "id": "UDePFSSAVLG2"
      },
      "outputs": [],
      "source": [
        "# Opens tensorboard in notebook. Adjust the path to your CHECKPOINT_PATH!\n",
        "%tensorboard --logdir ../../saved_models/tutorial15_jax/tensorboards/"
      ]
    },
    {
      "cell_type": "markdown",
      "metadata": {
        "id": "7CcjyPN-VLG2"
      },
      "source": [
        "<center><img src=\"https://github.com/phlippe/uvadlc_notebooks/blob/master/docs/tutorial_notebooks/JAX/tutorial15/tensorboard_screenshot.png?raw=1\" width=\"100%\"/></center>"
      ]
    },
    {
      "cell_type": "markdown",
      "metadata": {
        "id": "0cRB3Un0VLG2"
      },
      "source": [
        "The tensorboard compares the Vision Transformer to a ResNet trained on CIFAR10. When looking at the training losses, we see that the ResNet learns much more quickly in the first iterations. While the learning rate might have an influence on the initial learning speed, we see the same trend in the validation accuracy. The ResNet achieves the best performance of the Vision Transformer after just 5 epochs (2000 iterations). Further, while the ResNet training loss and validation accuracy have a similar trend, the validation performance of the Vision Transformers only marginally changes after 10k iterations while the training loss has almost just started going down. Yet, the Vision Transformer is also able to achieve close to 100% accuracy on the training set.\n",
        "\n",
        "All those observed phenomenons can be explained with a concept that we have visited before: inductive biases. Convolutional Neural Networks have been designed with the assumption that images are translation invariant. Hence, we apply convolutions with shared filters across the image. Furthermore, a CNN architecture integrates the concept of distance in an image: two pixels that are close to each other are more related than two distant pixels. Local patterns are combined into larger patterns until we perform our classification prediction. All those aspects are inductive biases of a CNN. In contrast, a Vision Transformer does not know which two pixels are close to each other, and which are far apart. It has to learn this information solely from the sparse learning signal of the classification task. This is a huge disadvantage when we have a small dataset since such information is crucial for generalizing to an unseen test dataset. With large enough datasets and/or good pre-training, a Transformer can learn this information without the need for inductive biases, and instead is more flexible than a CNN. Especially long-distance relations between local patterns can be difficult to process in CNNs, while in Transformers, all patches have the distance of one. This is why Vision Transformers are so strong on large-scale datasets such as ImageNet but underperform a lot when being applied to a small dataset such as CIFAR10. "
      ]
    },
    {
      "cell_type": "markdown",
      "metadata": {
        "id": "f9-YVmcHVLG3"
      },
      "source": [
        "## Conclusion\n",
        "\n",
        "In this tutorial, we have implemented our own Vision Transformer from scratch and applied it to the task of image classification. Vision Transformers work by splitting an image into a sequence of smaller patches, use those as input to a standard Transformer encoder. While Vision Transformers achieved outstanding results on large-scale image recognition benchmarks such as ImageNet, they considerably underperform when being trained from scratch on small-scale datasets like CIFAR10. The reason is that in contrast to CNNs, Transformers do not have the inductive biases of translation invariance and the feature hierarchy (i.e. larger patterns consist of many smaller patterns). However, these aspects can be learned when enough data is provided, or the model has been pre-trained on other large-scale tasks. Considering that Vision Transformers have just been proposed end of 2020, there is likely a lot more to come on Transformers for Computer Vision.\n",
        "\n",
        "\n",
        "### References\n",
        "\n",
        "Dosovitskiy, Alexey, et al. \"An image is worth 16x16 words: Transformers for image recognition at scale.\" International Conference on Learning Representations (2021). [link](https://arxiv.org/pdf/2010.11929.pdf)\n",
        "\n",
        "Chen, Xiangning, et al. \"When Vision Transformers Outperform ResNets without Pretraining or Strong Data Augmentations.\" arXiv preprint arXiv:2106.01548 (2021). [link](https://arxiv.org/abs/2106.01548)\n",
        "\n",
        "Tolstikhin, Ilya, et al. \"MLP-mixer: An all-MLP Architecture for Vision.\" arXiv preprint arXiv:2105.01601 (2021). [link](https://arxiv.org/abs/2105.01601)\n",
        "\n",
        "Xiong, Ruibin, et al. \"On layer normalization in the transformer architecture.\" International Conference on Machine Learning. PMLR, 2020. [link](http://proceedings.mlr.press/v119/xiong20b/xiong20b.pdf)"
      ]
    },
    {
      "cell_type": "markdown",
      "metadata": {
        "id": "G0nttqfEVLG4"
      },
      "source": [
        "---\n",
        "\n",
        "[![Star our repository](https://img.shields.io/static/v1.svg?logo=star&label=⭐&message=Star%20Our%20Repository&color=yellow)](https://github.com/phlippe/uvadlc_notebooks/)  If you found this tutorial helpful, consider ⭐-ing our repository.    \n",
        "[![Ask questions](https://img.shields.io/static/v1.svg?logo=star&label=❔&message=Ask%20Questions&color=9cf)](https://github.com/phlippe/uvadlc_notebooks/issues)  For any questions, typos, or bugs that you found, please raise an issue on GitHub. \n",
        "\n",
        "---"
      ]
    }
  ],
  "metadata": {
    "accelerator": "GPU",
    "colab": {
      "provenance": [],
      "private_outputs": true
    },
    "gpuClass": "standard",
    "kernelspec": {
      "display_name": "Python 3",
      "language": "python",
      "name": "python3"
    },
    "language_info": {
      "codemirror_mode": {
        "name": "ipython",
        "version": 3
      },
      "file_extension": ".py",
      "mimetype": "text/x-python",
      "name": "python",
      "nbconvert_exporter": "python",
      "pygments_lexer": "ipython3",
      "version": "3.7.9"
    }
  },
  "nbformat": 4,
  "nbformat_minor": 0
}
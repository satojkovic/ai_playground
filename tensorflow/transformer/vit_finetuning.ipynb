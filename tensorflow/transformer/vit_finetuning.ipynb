{
  "nbformat": 4,
  "nbformat_minor": 0,
  "metadata": {
    "colab": {
      "name": "vit_finetuning",
      "private_outputs": true,
      "provenance": []
    },
    "kernelspec": {
      "name": "python3",
      "display_name": "Python 3"
    },
    "language_info": {
      "name": "python"
    },
    "accelerator": "GPU",
    "gpuClass": "standard"
  },
  "cells": [
    {
      "cell_type": "code",
      "execution_count": null,
      "metadata": {
        "id": "7o3U-X_0kfAQ"
      },
      "outputs": [],
      "source": [
        "pip install tensorflow-addons"
      ]
    },
    {
      "cell_type": "code",
      "source": [
        "import numpy as np\n",
        "import tensorflow as tf\n",
        "from tensorflow import keras\n",
        "from tensorflow.keras import layers\n",
        "import tensorflow_addons as tfa"
      ],
      "metadata": {
        "id": "j21Iab56kllS"
      },
      "execution_count": null,
      "outputs": []
    },
    {
      "cell_type": "code",
      "source": [
        "pip install vit-keras"
      ],
      "metadata": {
        "id": "7OyP3bzfwGi2"
      },
      "execution_count": null,
      "outputs": []
    },
    {
      "cell_type": "code",
      "source": [
        "from vit_keras import vit"
      ],
      "metadata": {
        "id": "DdPmPmgRwJuj"
      },
      "execution_count": null,
      "outputs": []
    },
    {
      "cell_type": "code",
      "source": [
        "IMAGE_SIZE = 224\n",
        "NUM_CALSSES = 100\n",
        "LR = 0.001\n",
        "WEIGHT_DECAY = 0.0001\n",
        "BATCH_SIZE = 16\n",
        "NUM_EPOCHS = 10"
      ],
      "metadata": {
        "id": "MkJl9WMwwUC5"
      },
      "execution_count": null,
      "outputs": []
    },
    {
      "cell_type": "code",
      "source": [
        "(x_train, y_train), (x_test, y_test) = keras.datasets.cifar100.load_data()\n",
        "\n",
        "print(f'x_train_shape: {x_train.shape} - y_train_shape: {y_train.shape}')\n",
        "print(f'x_test_shape: {x_test.shape} - y_test_shape: {y_test.shape}')"
      ],
      "metadata": {
        "id": "RiL15VnxyaJE"
      },
      "execution_count": null,
      "outputs": []
    },
    {
      "cell_type": "code",
      "source": [
        "data_augmentation = keras.Sequential([\n",
        "  layers.Normalization(),\n",
        "  layers.Resizing(IMAGE_SIZE, IMAGE_SIZE),\n",
        "  layers.RandomFlip('horizontal'),\n",
        "  layers.RandomRotation(factor=0.02),\n",
        "  layers.RandomZoom(height_factor=0.2, width_factor=0.2),\n",
        "], name='data_augmentation')\n",
        "\n",
        "# Compute the mean and the variance of the training data for normalization, then store them as the layer's weights.\n",
        "data_augmentation.layers[0].adapt(x_train)"
      ],
      "metadata": {
        "id": "_YIu7HHM0924"
      },
      "execution_count": null,
      "outputs": []
    },
    {
      "cell_type": "code",
      "source": [
        "vit_model = vit.vit_b32(\n",
        "    image_size=IMAGE_SIZE,\n",
        "    activation='softmax',\n",
        "    pretrained=True,\n",
        "    include_top=False,\n",
        "    pretrained_top=False,\n",
        "    classes = NUM_CLASSES\n",
        ")"
      ],
      "metadata": {
        "id": "phIg1Lg6wPBo"
      },
      "execution_count": null,
      "outputs": []
    },
    {
      "cell_type": "markdown",
      "source": [
        "## Fine tuning the model"
      ],
      "metadata": {
        "id": "FVdsclW4w5nK"
      }
    },
    {
      "cell_type": "code",
      "source": [
        "model = tf.keras.Sequential([\n",
        "  data_augmentation,\n",
        "  vit_model,\n",
        "  tf.keras.layers.Flatten(),\n",
        "  tf.keras.layers.BatchNormalization(),\n",
        "  tf.keras.layers.Dense(256, activation=tfa.activations.gelu),\n",
        "  tf.keras.layers.BatchNormalization(),\n",
        "  tf.keras.layers.Dense(NUM_CALSSES, 'softmax')\n",
        "], name='ft_vit')"
      ],
      "metadata": {
        "id": "N3d0BrwQwiKk"
      },
      "execution_count": null,
      "outputs": []
    },
    {
      "cell_type": "code",
      "source": [
        "model.summary()"
      ],
      "metadata": {
        "id": "OFU98C--xzwZ"
      },
      "execution_count": null,
      "outputs": []
    },
    {
      "cell_type": "code",
      "source": [
        "optimizer = tfa.optimizers.AdamW(\n",
        "    learning_rate=LR, weight_decay=WEIGHT_DECAY\n",
        ")"
      ],
      "metadata": {
        "id": "SYGdXPt6x1Z8"
      },
      "execution_count": null,
      "outputs": []
    },
    {
      "cell_type": "code",
      "source": [
        "model.compile(\n",
        "    optimizer=optimizer,\n",
        "    loss=keras.losses.SparseCategoricalCrossentropy(from_logits=True),\n",
        "    metrics=[\n",
        "      keras.metrics.SparseCategoricalAccuracy(name='Accuracy'),\n",
        "      keras.metrics.SparseTopKCategoricalAccuracy(5, name='top-5-accuracy')\n",
        "    ]\n",
        ")"
      ],
      "metadata": {
        "id": "5BeBWumiyLY6"
      },
      "execution_count": null,
      "outputs": []
    },
    {
      "cell_type": "code",
      "source": [
        "checkpoint_filepath = 'checkpoint'\n",
        "checkpoint_callback = keras.callbacks.ModelCheckpoint(\n",
        "    checkpoint_filepath,\n",
        "    monitor='val_accuracy',\n",
        "    save_best_only=True,\n",
        "    save_weights_only=True\n",
        ")"
      ],
      "metadata": {
        "id": "0siuuypRzFsp"
      },
      "execution_count": null,
      "outputs": []
    },
    {
      "cell_type": "code",
      "source": [
        "history = model.fit(\n",
        "    x=x_train,\n",
        "    y=y_train,\n",
        "    batch_size=BATCH_SIZE,\n",
        "    epochs=NUM_EPOCHS,\n",
        "    validation_split=0.1,\n",
        "    callbacks=[checkpoint_callback]\n",
        ")"
      ],
      "metadata": {
        "id": "2rK0GWVSyiSY"
      },
      "execution_count": null,
      "outputs": []
    },
    {
      "cell_type": "code",
      "source": [
        ""
      ],
      "metadata": {
        "id": "RO5ySYpczNZG"
      },
      "execution_count": null,
      "outputs": []
    }
  ]
}
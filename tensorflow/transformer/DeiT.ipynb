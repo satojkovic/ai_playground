{
  "nbformat": 4,
  "nbformat_minor": 0,
  "metadata": {
    "colab": {
      "private_outputs": true,
      "provenance": []
    },
    "kernelspec": {
      "name": "python3",
      "display_name": "Python 3"
    },
    "language_info": {
      "name": "python"
    },
    "accelerator": "GPU",
    "gpuClass": "standard"
  },
  "cells": [
    {
      "cell_type": "code",
      "execution_count": null,
      "metadata": {
        "id": "yHczxJSb6Ycv"
      },
      "outputs": [],
      "source": [
        "pip install tensorflow-addons"
      ]
    },
    {
      "cell_type": "code",
      "source": [
        "from typing import List\n",
        "\n",
        "import tensorflow as tf\n",
        "import tensorflow_addons as tfa\n",
        "import tensorflow_datasets as tfds\n",
        "import tensorflow_hub as hub\n",
        "from tensorflow import keras\n",
        "from tensorflow.keras import layers\n",
        "\n",
        "tfds.disable_progress_bar()\n",
        "tf.keras.utils.set_random_seed(42)"
      ],
      "metadata": {
        "id": "tldTMHFd6cXS"
      },
      "execution_count": null,
      "outputs": []
    },
    {
      "cell_type": "code",
      "source": [
        "MODEL_TYPE = 'deit_distilled_tiny_patch16_224'\n",
        "RESOLUTION = 224\n",
        "PATCH_SIZE = 16\n",
        "NUM_PATCHES = (RESOLUTION // PATCH_SIZE) ** 2\n",
        "LAYER_NORM_EPS = 1e-6\n",
        "PROJECTION_DIM = 192\n",
        "NUM_HEADS = 3\n",
        "NUM_LAYERS = 12\n",
        "MLP_UNITS = [\n",
        "    PROJECTION_DIM * 4,\n",
        "    PROJECTION_DIM\n",
        "]\n",
        "DROPOUT_RATE = 0.0\n",
        "DROP_PATH_RATE = 0.1\n",
        "\n",
        "NUM_EPOCHS = 20\n",
        "BASE_LR = 0.0005\n",
        "WEIGHT_DECAY = 0.0001\n",
        "\n",
        "BATCH_SIZE = 256\n",
        "AUTO = tf.data.AUTOTUNE\n",
        "NUM_CLASSES = 5"
      ],
      "metadata": {
        "id": "vMZIT4rx7EAU"
      },
      "execution_count": null,
      "outputs": []
    },
    {
      "cell_type": "markdown",
      "source": [
        "## Dataset preparation"
      ],
      "metadata": {
        "id": "Ys9w7RnVMFCM"
      }
    },
    {
      "cell_type": "code",
      "source": [
        "def preprocess_dataset(is_training=True):\n",
        "  def fn(image, label):\n",
        "    if is_training:\n",
        "      # Resize to a bigger spatial resolution and take the random crops.\n",
        "      image = tf.image.resize(image, (RESOLUTION + 20, RESOLUTION + 20))\n",
        "      image = tf.image.random_crop(image, (RESOLUTION, RESOLUTION, 3))\n",
        "      image = tf.image.random_flip_left_right(image)\n",
        "    else:\n",
        "      image = tf.image.resize(image, (RESOLUTION, RESOLUTION))\n",
        "    label = tf.one_hot(label, depth=NUM_CLASSES)\n",
        "    return image, label\n",
        "\n",
        "  return fn"
      ],
      "metadata": {
        "id": "Ub2go9nE8suz"
      },
      "execution_count": null,
      "outputs": []
    },
    {
      "cell_type": "code",
      "source": [
        "def prepare_dataset(dataset, is_training=True):\n",
        "  if is_training:\n",
        "    dataset = dataset.shuffle(BATCH_SIZE * 10)\n",
        "  dataset = dataset.map(preprocess_dataset(is_training), num_parallel_calls=AUTO)\n",
        "  return dataset.batch(BATCH_SIZE).prefetch(AUTO)"
      ],
      "metadata": {
        "id": "2jjN6EkaKKqs"
      },
      "execution_count": null,
      "outputs": []
    },
    {
      "cell_type": "code",
      "source": [
        "train_dataset, val_dataset = tfds.load(\n",
        "    \"tf_flowers\", split=['train[:90%]', 'train[90%:]'], as_supervised=True\n",
        ")\n",
        "num_train = train_dataset.cardinality()\n",
        "num_val = val_dataset.cardinality()\n",
        "print(f'num of train: {num_train}')\n",
        "print(f'num of val: {num_val}')\n",
        "\n",
        "train_dataset = prepare_dataset(train_dataset, is_training=True)\n",
        "val_dataset = prepare_dataset(val_dataset, is_training=False)"
      ],
      "metadata": {
        "id": "TALTkunXK_7X"
      },
      "execution_count": null,
      "outputs": []
    },
    {
      "cell_type": "code",
      "source": [],
      "metadata": {
        "id": "M_XZOy_QLjkK"
      },
      "execution_count": null,
      "outputs": []
    }
  ]
}
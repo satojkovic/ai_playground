{
  "nbformat": 4,
  "nbformat_minor": 0,
  "metadata": {
    "colab": {
      "private_outputs": true,
      "provenance": []
    },
    "kernelspec": {
      "name": "python3",
      "display_name": "Python 3"
    },
    "language_info": {
      "name": "python"
    },
    "accelerator": "GPU",
    "gpuClass": "standard"
  },
  "cells": [
    {
      "cell_type": "code",
      "execution_count": null,
      "metadata": {
        "id": "Wab_-qZFjtMZ"
      },
      "outputs": [],
      "source": [
        "!pip install --upgrade pip\n",
        "# Installs the wheel compatible with CUDA 11 and cuDNN 8.2 or newer.\n",
        "# Note: wheels only available on linux.\n",
        "# !pip install --upgrade \"jax[cuda]\" -f https://storage.googleapis.com/jax-releases/jax_cuda_releases.html"
      ]
    },
    {
      "cell_type": "code",
      "source": [
        "!pip install flax\n",
        "!pip install tqdm"
      ],
      "metadata": {
        "id": "AuBBQNT3kWN_"
      },
      "execution_count": null,
      "outputs": []
    },
    {
      "cell_type": "code",
      "source": [
        "import jax\n",
        "import jax.numpy as jnp\n",
        "import jax.dlpack\n",
        "from jax import grad, jit, vmap, random\n",
        "from jax import random\n",
        "from jax.example_libraries import stax, optimizers\n",
        "\n",
        "from tensorflow import keras\n",
        "import tensorflow_datasets as tfds\n",
        "import tensorflow as tf\n",
        "\n",
        "import time\n",
        "import numpy.random as npr\n",
        "import math\n",
        "\n",
        "from typing import Optional\n",
        "\n",
        "import optax\n",
        "from flax.training import train_state"
      ],
      "metadata": {
        "id": "BQvUkGlFj_Qf"
      },
      "execution_count": null,
      "outputs": []
    },
    {
      "cell_type": "code",
      "source": [
        "from flax import linen as nn"
      ],
      "metadata": {
        "id": "nznZNlRZkByd"
      },
      "execution_count": null,
      "outputs": []
    },
    {
      "cell_type": "markdown",
      "source": [
        "## Tubelet embedding"
      ],
      "metadata": {
        "id": "0YnOXRWZkLJ7"
      }
    },
    {
      "cell_type": "code",
      "source": [
        "class TubeletEmbedding(nn.Module):\n",
        "  patch_size: int\n",
        "  embed_dim: int\n",
        "\n",
        "  @nn.compact\n",
        "  def __call__(self, videos):\n",
        "    patches = nn.Conv(\n",
        "        features=self.embed_dim,\n",
        "        kernel_size=[self.patch_size, self.patch_size, self.patch_size],\n",
        "        strides=[self.patch_size, self.patch_size, self.patch_size],\n",
        "        padding='VALID'\n",
        "    )(videos)\n",
        "    b, t, h, w, c = patches.shape\n",
        "    patches = jnp.reshape(patches, (b, t*h*w, c))\n",
        "    return patches"
      ],
      "metadata": {
        "id": "RoNvfPlckCz6"
      },
      "execution_count": null,
      "outputs": []
    },
    {
      "cell_type": "markdown",
      "source": [
        "## Test tubelet embedding"
      ],
      "metadata": {
        "id": "NZPvm5MtJOMk"
      }
    },
    {
      "cell_type": "code",
      "source": [
        "def test_tubelet_embedding():\n",
        "  main_rng = jax.random.PRNGKey(42)\n",
        "  x = jnp.ones(shape=(8, 16, 32, 32, 3))\n",
        "  embedder = TubeletEmbedding(patch_size=4, embed_dim=128)\n",
        "  main_rng, rng = random.split(main_rng)\n",
        "  variables = embedder.init(main_rng, x)\n",
        "  out = embedder.apply(variables, x)\n",
        "  print(out.shape)\n",
        "  return embedder, main_rng"
      ],
      "metadata": {
        "id": "6ThXTr6qnWh4"
      },
      "execution_count": null,
      "outputs": []
    },
    {
      "cell_type": "code",
      "source": [
        "test_embedder, main_rng = test_tubelet_embedding()"
      ],
      "metadata": {
        "id": "Id4E5IPDJTdo"
      },
      "execution_count": null,
      "outputs": []
    },
    {
      "cell_type": "markdown",
      "source": [
        "## Patch encoder"
      ],
      "metadata": {
        "id": "ewxUoqZxJ3OD"
      }
    },
    {
      "cell_type": "code",
      "source": [
        "class PatchEncoder(nn.Module):\n",
        "  hidden_dim: int\n",
        "\n",
        "  @nn.compact\n",
        "  def __call__(self, x):\n",
        "    assert x.ndim == 3\n",
        "    n, seq_len, _ = x.shape\n",
        "    # Hidden dim\n",
        "    x = nn.Dense(self.hidden_dim)(x)\n",
        "    # Add cls token\n",
        "    cls = self.param('cls_token', nn.initializers.zeros, (1, 1, self.hidden_dim))\n",
        "    cls = jnp.tile(cls, (n, 1, 1))\n",
        "    x = jnp.concatenate([cls, x], axis=1)\n",
        "    # Add position embedding\n",
        "    pos_embed = self.param(\n",
        "        'position_embedding',\n",
        "        nn.initializers.normal(stddev=0.02),\n",
        "        (1, seq_len + 1, self.hidden_dim)\n",
        "    )\n",
        "    return x + pos_embed"
      ],
      "metadata": {
        "id": "EYnsO7YRoCvd"
      },
      "execution_count": null,
      "outputs": []
    },
    {
      "cell_type": "markdown",
      "source": [
        "## Spatio-temporal attention"
      ],
      "metadata": {
        "id": "dmiKA-WyqL8J"
      }
    },
    {
      "cell_type": "code",
      "source": [
        "class MultiHeadSelfAttention(nn.Module):\n",
        "  hidden_dim: int\n",
        "  n_heads: int\n",
        "  drop_p: float\n",
        "\n",
        "  def setup(self):\n",
        "    self.q_net = nn.Dense(self.hidden_dim)\n",
        "    self.k_net = nn.Dense(self.hidden_dim)\n",
        "    self.v_net = nn.Dense(self.hidden_dim)\n",
        "\n",
        "    self.proj_net = nn.Dense(self.hidden_dim)\n",
        "\n",
        "    self.att_drop = nn.Dropout(self.drop_p)\n",
        "    self.proj_drop = nn.Dropout(self.drop_p)\n",
        "\n",
        "  def __call__(self, x, train=True):\n",
        "    B, T, C = x.shape # batch_size, seq_length, hidden_dim\n",
        "    N, D = self.n_heads, C // self.n_heads # num_heads, head_dim\n",
        "    q = self.q_net(x).reshape(B, T, N, D).transpose(0, 2, 1, 3) # (B, N, T, D)\n",
        "    k = self.k_net(x).reshape(B, T, N, D).transpose(0, 2, 1, 3)\n",
        "    v = self.v_net(x).reshape(B, T, N, D).transpose(0, 2, 1, 3)\n",
        "\n",
        "    # weights (B, N, T, T)\n",
        "    weights = jnp.matmul(q, jnp.swapaxes(k, -2, -1)) / math.sqrt(D)\n",
        "    normalized_weights = nn.softmax(weights, axis=-1)\n",
        "\n",
        "    # attention (B, N, T, D)\n",
        "    attention = jnp.matmul(normalized_weights, v)\n",
        "    attention = self.att_drop(attention, deterministic=not train)\n",
        "\n",
        "    # gather heads\n",
        "    attention = attention.transpose(0, 2, 1, 3).reshape(B, T, N*D)\n",
        "\n",
        "    # project\n",
        "    out = self.proj_drop(self.proj_net(attention), deterministic=not train)\n",
        "\n",
        "    return out"
      ],
      "metadata": {
        "id": "VH-XasjCqQT9"
      },
      "execution_count": null,
      "outputs": []
    },
    {
      "cell_type": "code",
      "source": [
        "class MLP(nn.Module):\n",
        "  mlp_dim: int\n",
        "  drop_p: float\n",
        "  out_dim: Optional[int] = None\n",
        "\n",
        "  @nn.compact\n",
        "  def __call__(self, inputs, train=True):\n",
        "    actual_out_dim = inputs.shape[-1] if self.out_dim is None else self.out_dim\n",
        "    x = nn.Dense(features=self.mlp_dim)(inputs)\n",
        "    x = nn.gelu(x)\n",
        "    x = nn.Dropout(rate=self.drop_p, deterministic=not train)(x)\n",
        "    x = nn.Dense(features=actual_out_dim)(x)\n",
        "    x = nn.Dropout(rate=self.drop_p, deterministic=not train)(x)\n",
        "    return x"
      ],
      "metadata": {
        "id": "ttDUd7tTrZ1S"
      },
      "execution_count": null,
      "outputs": []
    },
    {
      "cell_type": "code",
      "source": [
        "class TransformerEncoder(nn.Module):\n",
        "  embed_dim: int\n",
        "  hidden_dim: int\n",
        "  n_heads: int\n",
        "  drop_p: float\n",
        "  mlp_dim: int\n",
        "\n",
        "  def setup(self):\n",
        "    self.mha = MultiHeadSelfAttention(self.hidden_dim, self.n_heads, self.drop_p)\n",
        "    self.mlp = MLP(self.mlp_dim, self.drop_p)\n",
        "    self.layer_norm = nn.LayerNorm(epsilon=1e-6)\n",
        "  \n",
        "  def __call__(self, inputs, train=True):\n",
        "    # Attention Block\n",
        "    x = self.layer_norm(inputs)\n",
        "    x = self.mha(x, train)\n",
        "    x = inputs + x\n",
        "    # MLP block\n",
        "    y = self.layer_norm(x)\n",
        "    y = self.mlp(y, train)\n",
        "\n",
        "    return x + y"
      ],
      "metadata": {
        "id": "Q2Prvw_BrllW"
      },
      "execution_count": null,
      "outputs": []
    },
    {
      "cell_type": "code",
      "source": [
        "class ViViT(nn.Module):\n",
        "  patch_size: int\n",
        "  embed_dim: int\n",
        "  hidden_dim: int\n",
        "  n_heads: int\n",
        "  drop_p: float\n",
        "  num_layers: int\n",
        "  mlp_dim: int\n",
        "  num_classes: int\n",
        "\n",
        "  def setup(self):\n",
        "    self.patch_extracter = TubeletEmbedding(self.patch_size, self.embed_dim)\n",
        "    self.patch_encoder = PatchEncoder(self.hidden_dim)\n",
        "    self.dropout = nn.Dropout(self.drop_p)\n",
        "    self.transformer_encoder = TransformerEncoder(self.embed_dim, self.hidden_dim, self.n_heads, self.drop_p, self.mlp_dim)\n",
        "    self.cls_head = nn.Dense(features=self.num_classes)\n",
        "\n",
        "  def __call__(self, x, train=True):\n",
        "    x = self.patch_extracter(x)\n",
        "    x = self.patch_encoder(x)\n",
        "    x = self.dropout(x, deterministic=not train)\n",
        "    for i in range(self.num_layers):\n",
        "      x = self.transformer_encoder(x, train)\n",
        "    # MLP head\n",
        "    x = x[:, 0] # [CLS] token\n",
        "    x = self.cls_head(x)\n",
        "    return x"
      ],
      "metadata": {
        "id": "pql35qN3Jowp"
      },
      "execution_count": null,
      "outputs": []
    }
  ]
}
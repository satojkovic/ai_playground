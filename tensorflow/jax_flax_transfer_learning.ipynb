{
  "nbformat": 4,
  "nbformat_minor": 0,
  "metadata": {
    "colab": {
      "private_outputs": true,
      "provenance": []
    },
    "kernelspec": {
      "name": "python3",
      "display_name": "Python 3"
    },
    "language_info": {
      "name": "python"
    },
    "accelerator": "GPU",
    "gpuClass": "standard"
  },
  "cells": [
    {
      "cell_type": "code",
      "execution_count": null,
      "metadata": {
        "id": "5YJW4twez0BI"
      },
      "outputs": [],
      "source": [
        "# Note that the Transformers library doesn't use the latest Flax version.\n",
        "! pip install transformers[flax]\n",
        "# Install/upgrade Flax and JAX. For JAX installation with GPU/TPU support,\n",
        "# visit https://github.com/google/jax#installation.\n",
        "! pip install -U flax jax jaxlib"
      ]
    },
    {
      "cell_type": "code",
      "source": [
        "from transformers import FlaxCLIPModel"
      ],
      "metadata": {
        "id": "8-AJiIsu0TXu"
      },
      "execution_count": null,
      "outputs": []
    },
    {
      "cell_type": "code",
      "source": [
        "def load_model():\n",
        "  clip = FlaxCLIPModel.from_pretrained('openai/clip-vit-base-patch32')\n",
        "  module = clip.module\n",
        "  variables = {'params': clip.params}\n",
        "  return module, variables"
      ],
      "metadata": {
        "id": "5vxdhR2Iz9O4"
      },
      "execution_count": null,
      "outputs": []
    },
    {
      "cell_type": "code",
      "source": [],
      "metadata": {
        "id": "vJZhZr3Q0r8K"
      },
      "execution_count": null,
      "outputs": []
    }
  ]
}
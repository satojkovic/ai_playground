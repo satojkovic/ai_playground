{
  "nbformat": 4,
  "nbformat_minor": 0,
  "metadata": {
    "colab": {
      "name": "keras_gradcam",
      "private_outputs": true,
      "provenance": [],
      "collapsed_sections": [],
      "authorship_tag": "ABX9TyNzkRBBymHPQRpxJGJ2FfxO",
      "include_colab_link": true
    },
    "kernelspec": {
      "name": "python3",
      "display_name": "Python 3"
    },
    "language_info": {
      "name": "python"
    },
    "accelerator": "GPU"
  },
  "cells": [
    {
      "cell_type": "markdown",
      "metadata": {
        "id": "view-in-github",
        "colab_type": "text"
      },
      "source": [
        "<a href=\"https://colab.research.google.com/github/satojkovic/runnable_tutorials/blob/main/keras_gradcam.ipynb\" target=\"_parent\"><img src=\"https://colab.research.google.com/assets/colab-badge.svg\" alt=\"Open In Colab\"/></a>"
      ]
    },
    {
      "cell_type": "code",
      "execution_count": null,
      "metadata": {
        "id": "7NhOsU3ebelp"
      },
      "outputs": [],
      "source": [
        "import numpy as np\n",
        "import tensorflow as tf\n",
        "from tensorflow import keras"
      ]
    },
    {
      "cell_type": "code",
      "source": [
        "from IPython.display import Image, display\n",
        "import matplotlib.pyplot as plt\n",
        "import matplotlib.cm as cm"
      ],
      "metadata": {
        "id": "jbla7UJIby3l"
      },
      "execution_count": null,
      "outputs": []
    },
    {
      "cell_type": "code",
      "source": [
        "model_builder = keras.applications.xception.Xception\n",
        "img_size = (299, 299)\n",
        "preprocess_input = keras.applications.xception.preprocess_input\n",
        "decode_predictions = keras.applications.xception.decode_predictions"
      ],
      "metadata": {
        "id": "ifKKV3u6b9xT"
      },
      "execution_count": null,
      "outputs": []
    },
    {
      "cell_type": "code",
      "source": [
        "model = model_builder(weights='imagenet')"
      ],
      "metadata": {
        "id": "Gc2Uck6lcNuE"
      },
      "execution_count": null,
      "outputs": []
    },
    {
      "cell_type": "code",
      "source": [
        "model.summary()"
      ],
      "metadata": {
        "id": "a6C_7ltIcTBb"
      },
      "execution_count": null,
      "outputs": []
    },
    {
      "cell_type": "code",
      "source": [
        "last_conv_layer_name = 'block14_sepconv2_act'\n",
        "img_path = keras.utils.get_file(\n",
        "    'african_elephant.jpg', 'https://i.imgur.com/Bvro0YD.png'\n",
        ")"
      ],
      "metadata": {
        "id": "Als2GRdHcmYM"
      },
      "execution_count": null,
      "outputs": []
    },
    {
      "cell_type": "code",
      "source": [
        "display(Image(img_path))"
      ],
      "metadata": {
        "id": "_hqTueP1daRs"
      },
      "execution_count": null,
      "outputs": []
    },
    {
      "cell_type": "code",
      "source": [
        "def get_img_array(img_path, size):\n",
        "  # `img` is a PIL image of size 299x299\n",
        "  img = keras.preprocessing.image.load_img(img_path, target_size=size)\n",
        "  # `array` is a floa32 numpy array of shape 299x299x3\n",
        "  array = keras.preprocessing.image.img_to_array(img)\n",
        "  # Add batch dimension\n",
        "  array = np.expand_dims(array, axis=0)\n",
        "\n",
        "  return array"
      ],
      "metadata": {
        "id": "uGHT372OdgLB"
      },
      "execution_count": null,
      "outputs": []
    },
    {
      "cell_type": "code",
      "source": [
        "def make_gradcam_heatmap(img_array, model, last_conv_layer_name, pred_index=None):\n",
        "  # outputs=[the activation of the last conv layer, the output predictions]\n",
        "  grad_model = tf.keras.models.Model(\n",
        "      inputs=[model.inputs], outputs=[model.get_layer(last_conv_layer_name).output, model.output]\n",
        "  )\n",
        "  # Compute the gradient of the top predicted class for our input image\n",
        "  # with respect to the activations of the last conv layer\n",
        "  with tf.GradientTape() as tape:\n",
        "    last_conv_layer_output, preds = grad_model(img_array)\n",
        "    if pred_index is None:\n",
        "      pred_index = tf.argmax(preds[0])\n",
        "    class_channel = preds[:, pred_index]\n",
        "\n",
        "  print('last_conv_layer_output:', last_conv_layer_output.get_shape().as_list())\n",
        "  print('preds:', preds.get_shape().as_list())\n",
        "  tf.print('class_chanel value:', class_channel)\n",
        "\n",
        "  # This is the gradient of the output neuron\n",
        "  # with regard to the output feature map of the last conv layer\n",
        "  grads = tape.gradient(class_channel, last_conv_layer_output)\n",
        "  print('grads:', tf.shape(grads))\n",
        "\n",
        "  # This is a vector where each entry is the mean intensity of the gradient\n",
        "  # over a specific feature map channel\n",
        "  pooled_grads = tf.reduce_mean(grads, axis=(0, 1, 2))\n",
        "  print('pooled_grads:', tf.shape(pooled_grads))\n",
        "\n",
        "  # We multiply each channel in the feature map array\n",
        "  # by \"how important this channel is\" with regard to top predicted class\n",
        "  # then sum all the channels to obtain the heatmap class activation\n",
        "  last_conv_layer_output = last_conv_layer_output[0]\n",
        "  heatmap = last_conv_layer_output @ pooled_grads[..., tf.newaxis]\n",
        "  print('heatmap:', tf.shape(heatmap))\n",
        "  heatmap = tf.squeeze(heatmap)\n",
        "  print('heatmap(squeeze)', tf.shape(heatmap))\n",
        "\n",
        "  # For visualization purpose, we will also normalize the heatmap between [0, 1]\n",
        "  heatmap = tf.maximum(heatmap, 0) / tf.math.reduce_max(heatmap)\n",
        "\n",
        "  return heatmap.numpy()"
      ],
      "metadata": {
        "id": "8goD5UMbeVT6"
      },
      "execution_count": null,
      "outputs": []
    },
    {
      "cell_type": "code",
      "source": [
        "from tensorflow.python.ops.gen_nn_ops import top_k\n",
        "img_array = preprocess_input(get_img_array(img_path, size=img_size))\n",
        "model = model_builder(weights='imagenet')\n",
        "\n",
        "# Remove last layer's softmax\n",
        "model.layers[-1].activation = None\n",
        "\n",
        "preds = model.predict(img_array)\n",
        "print('Predicted:', decode_predictions(preds, top=1)[0])\n",
        "\n",
        "heatmap = make_gradcam_heatmap(img_array, model, last_conv_layer_name)\n",
        "\n",
        "plt.matshow(heatmap)\n",
        "plt.show()"
      ],
      "metadata": {
        "id": "ZX40usagxWIg"
      },
      "execution_count": null,
      "outputs": []
    },
    {
      "cell_type": "code",
      "source": [
        "def save_and_display_gradcam(img_path, heatmap, cam_path='cam.jpg', alpha=0.4):\n",
        "  img = keras.preprocessing.image.load_img(img_path)\n",
        "  img = keras.preprocessing.image.img_to_array(img)\n",
        "\n",
        "  heatmap = np.uint8(255 * heatmap)\n",
        "  jet = cm.get_cmap('jet')\n",
        "\n",
        "  # Use RGB values of the colormap\n",
        "  jet_colors = jet(np.arange(256))[:, :3]\n",
        "  jet_heatmap = jet_colors[heatmap]\n",
        "\n",
        "  # Create an image with colorized heatmap\n",
        "  jet_heatmap = keras.preprocessing.image.array_to_img(jet_heatmap)\n",
        "  jet_heatmap = jet_heatmap.resize((img.shape[1], img.shape[0]))\n",
        "  jet_heatmap = keras.preprocessing.image.img_to_array(jet_heatmap)\n",
        "\n",
        "  # Superimpose heatmap on the orignal image\n",
        "  superimposed_img = jet_heatmap * alpha + img\n",
        "  superimposed_img = keras.preprocessing.image.array_to_img(superimposed_img)\n",
        "\n",
        "  # Save the superimposed image\n",
        "  superimposed_img.save(cam_path)\n",
        "\n",
        "  # Display\n",
        "  display(Image(cam_path))"
      ],
      "metadata": {
        "id": "jo4-Yq851IZE"
      },
      "execution_count": null,
      "outputs": []
    },
    {
      "cell_type": "code",
      "source": [
        "save_and_display_gradcam(img_path, heatmap)"
      ],
      "metadata": {
        "id": "Fe0KS3w25XRq"
      },
      "execution_count": null,
      "outputs": []
    },
    {
      "cell_type": "code",
      "source": [
        "img_path = keras.utils.get_file(\n",
        "    \"cat_and_dog.jpg\",\n",
        "    \"https://storage.googleapis.com/petbacker/images/blog/2017/dog-and-cat-cover.jpg\",\n",
        ")\n",
        "\n",
        "display(Image(img_path))\n",
        "\n",
        "# Prepare image\n",
        "img_array = preprocess_input(get_img_array(img_path, size=img_size))\n",
        "\n",
        "# Print what the two top predicted classes are\n",
        "preds = model.predict(img_array)\n",
        "print(\"Predicted:\", decode_predictions(preds, top=2)[0])"
      ],
      "metadata": {
        "id": "il0kHESq5ck6"
      },
      "execution_count": null,
      "outputs": []
    },
    {
      "cell_type": "code",
      "source": [
        "heatmap = make_gradcam_heatmap(img_array, model, last_conv_layer_name, pred_index=260)\n",
        "\n",
        "save_and_display_gradcam(img_path, heatmap)"
      ],
      "metadata": {
        "id": "PSNB7hp38rdh"
      },
      "execution_count": null,
      "outputs": []
    },
    {
      "cell_type": "code",
      "source": [
        "heatmap = make_gradcam_heatmap(img_array, model, last_conv_layer_name, pred_index=285)\n",
        "\n",
        "save_and_display_gradcam(img_path, heatmap)"
      ],
      "metadata": {
        "id": "0hJC300I8zrH"
      },
      "execution_count": null,
      "outputs": []
    },
    {
      "cell_type": "code",
      "source": [
        ""
      ],
      "metadata": {
        "id": "gm_cZQyP81_F"
      },
      "execution_count": null,
      "outputs": []
    }
  ]
}
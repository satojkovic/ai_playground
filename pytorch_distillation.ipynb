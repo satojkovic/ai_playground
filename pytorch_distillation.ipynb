{
  "nbformat": 4,
  "nbformat_minor": 0,
  "metadata": {
    "colab": {
      "name": "pytorch_distillation",
      "private_outputs": true,
      "provenance": []
    },
    "kernelspec": {
      "name": "python3",
      "display_name": "Python 3"
    },
    "language_info": {
      "name": "python"
    },
    "accelerator": "GPU"
  },
  "cells": [
    {
      "cell_type": "code",
      "source": [
        "!pip install torchinfo"
      ],
      "metadata": {
        "id": "yPyw6NjNnkSS"
      },
      "execution_count": null,
      "outputs": []
    },
    {
      "cell_type": "code",
      "execution_count": null,
      "metadata": {
        "id": "F-VxleY1nPnE"
      },
      "outputs": [],
      "source": [
        "import torch\n",
        "from torch import nn\n",
        "import torch.nn.functional as F\n",
        "import torchvision\n",
        "from torchvision import transforms\n",
        "from torch.utils.data import DataLoader\n",
        "from torchinfo import summary\n",
        "from tqdm import tqdm"
      ]
    },
    {
      "cell_type": "code",
      "source": [
        "train_dataset = torchvision.datasets.MNIST(\n",
        "    root='dataset/',\n",
        "    train=True, \n",
        "    transform=transforms.ToTensor(),\n",
        "    download=True\n",
        ")"
      ],
      "metadata": {
        "id": "1l1S-OFvnf6t"
      },
      "execution_count": null,
      "outputs": []
    },
    {
      "cell_type": "code",
      "source": [
        "test_dataset = torchvision.datasets.MNIST(\n",
        "    root='dataset/',\n",
        "    train=False,\n",
        "    transform=transforms.ToTensor(),\n",
        "    download=True\n",
        ")"
      ],
      "metadata": {
        "id": "7FeotDYgn31T"
      },
      "execution_count": null,
      "outputs": []
    },
    {
      "cell_type": "code",
      "source": [
        "train_dataloader = DataLoader(train_dataset, batch_size=32, shuffle=True)"
      ],
      "metadata": {
        "id": "lzEq8ZI6oBxG"
      },
      "execution_count": null,
      "outputs": []
    },
    {
      "cell_type": "code",
      "source": [
        "test_dataloader = DataLoader(test_dataset, batch_size=32, shuffle=False)"
      ],
      "metadata": {
        "id": "fWds2aLWoZsr"
      },
      "execution_count": null,
      "outputs": []
    },
    {
      "cell_type": "code",
      "source": [
        "class TeacherModel(nn.Module):\n",
        "  def __init__(self, in_channels=1, num_classes=10):\n",
        "    super(TeacherModel, self).__init__()\n",
        "    self.conv1 = nn.Conv2d(\n",
        "        in_channels=in_channels,\n",
        "        out_channels=64,\n",
        "        kernel_size=(3, 3),\n",
        "        stride=(1, 1),\n",
        "        padding=(1, 1)\n",
        "    )\n",
        "    self.pool = nn.MaxPool2d(kernel_size=(2, 2), stride=(2, 2))\n",
        "    self.conv2 = nn.Conv2d(\n",
        "        in_channels=64, \n",
        "        out_channels=256,\n",
        "        kernel_size=(3, 3),\n",
        "        stride=(1, 1),\n",
        "        padding=(1, 1)\n",
        "    )\n",
        "    self.fc1 = nn.Linear(in_features=256 * 7 * 7, out_features=num_classes)\n",
        "\n",
        "  def forward(self, x):\n",
        "    x = F.relu(self.conv1(x))\n",
        "    x = self.pool(x)\n",
        "    x = F.relu(self.conv2(x))\n",
        "    x = self.pool(x)\n",
        "    x = x.reshape(x.shape[0], -1)\n",
        "    x = self.fc1(x)\n",
        "    return x"
      ],
      "metadata": {
        "id": "Ewaxciy-od3C"
      },
      "execution_count": null,
      "outputs": []
    },
    {
      "cell_type": "code",
      "source": [
        "teacher_model = TeacherModel()"
      ],
      "metadata": {
        "id": "dWc_FK5CpdTL"
      },
      "execution_count": null,
      "outputs": []
    },
    {
      "cell_type": "code",
      "source": [
        "summary(teacher_model, (32, 1, 28, 28))"
      ],
      "metadata": {
        "id": "vP8F-B1Fp4aK"
      },
      "execution_count": null,
      "outputs": []
    },
    {
      "cell_type": "code",
      "source": [
        "class StudentModel(nn.Module):\n",
        "  def __init__(self, in_channels=1, num_classes=10):\n",
        "    super(StudentModel, self).__init__()\n",
        "    self.conv1 = nn.Conv2d(\n",
        "        in_channels=in_channels,\n",
        "        out_channels=8,\n",
        "        kernel_size=(3, 3),\n",
        "        stride=(1, 1),\n",
        "        padding=(1, 1)\n",
        "    )\n",
        "    self.pool = nn.MaxPool2d(kernel_size=(2, 2), stride=(2, 2))\n",
        "    self.conv2 = nn.Conv2d(\n",
        "        in_channels=8, \n",
        "        out_channels=16,\n",
        "        kernel_size=(3, 3),\n",
        "        stride=(1, 1),\n",
        "        padding=(1, 1)\n",
        "    )\n",
        "    self.fc1 = nn.Linear(in_features=16 * 7 * 7, out_features=num_classes)\n",
        "\n",
        "  def forward(self, x):\n",
        "    x = F.relu(self.conv1(x))\n",
        "    x = self.pool(x)\n",
        "    x = F.relu(self.conv2(x))\n",
        "    x = self.pool(x)\n",
        "    x = x.reshape(x.shape[0], -1)\n",
        "    x = self.fc1(x)\n",
        "    return x"
      ],
      "metadata": {
        "id": "D1uEMQK3qe2o"
      },
      "execution_count": null,
      "outputs": []
    },
    {
      "cell_type": "code",
      "source": [
        "student_model = StudentModel()"
      ],
      "metadata": {
        "id": "hOMH03LNrLqK"
      },
      "execution_count": null,
      "outputs": []
    },
    {
      "cell_type": "code",
      "source": [
        "summary(student_model, (32, 1, 28, 28))"
      ],
      "metadata": {
        "id": "DsCgNB_qrPlZ"
      },
      "execution_count": null,
      "outputs": []
    },
    {
      "cell_type": "code",
      "source": [
        "def check_accuracy(loader, model, device):\n",
        "  num_correct = 0\n",
        "  num_samples = 0\n",
        "  model.eval()\n",
        "\n",
        "  with torch.no_grad():\n",
        "    for x, y in loader:\n",
        "      x = x.to(device)\n",
        "      y = y.to(device)\n",
        "\n",
        "      scores = model(x)\n",
        "      _, predictions = scores.max(1)\n",
        "      num_correct += (predictions == y).sum()\n",
        "      num_samples += predictions.size(0)\n",
        "\n",
        "  model.train()\n",
        "  return (num_correct / num_samples).item()\n"
      ],
      "metadata": {
        "id": "qdxBCLLurWN0"
      },
      "execution_count": null,
      "outputs": []
    },
    {
      "cell_type": "code",
      "source": [
        "def train_teacher(epochs):\n",
        "  device = torch.device('cuda' if torch.cuda.is_available() else 'cpu')\n",
        "  teacher_model = TeacherModel().to(device)\n",
        "  criterion = nn.CrossEntropyLoss()\n",
        "  optimizer = torch.optim.Adam(teacher_model.parameters(), lr=1e-4)\n",
        "\n",
        "  for epoch in range(epochs):\n",
        "    teacher_model.train()\n",
        "    losses = []\n",
        "    pbar = tqdm(train_dataloader, total=len(train_dataloader), position=0, leave=True, desc='Epoch {}'.format(epoch))\n",
        "    for data, targets in pbar:\n",
        "      data = data.to(device)\n",
        "      targets = targets.to(device)\n",
        "      # forward\n",
        "      scores = teacher_model(data)\n",
        "      loss = criterion(scores, targets)\n",
        "      losses.append(loss.item())\n",
        "      # backward\n",
        "      optimizer.zero_grad()\n",
        "      loss.backward()\n",
        "      optimizer.step()\n",
        "    avg_loss = sum(losses) / len(losses)\n",
        "    acc = check_accuracy(test_dataloader, teacher_model, device)\n",
        "    print('Loss {:.2f}\\tAccuracy {:.2f}'.format(avg_loss, acc))\n",
        "  return teacher_model"
      ],
      "metadata": {
        "id": "mnrDXwG4r3G6"
      },
      "execution_count": null,
      "outputs": []
    },
    {
      "cell_type": "code",
      "source": [
        "teacher_model = train_teacher(epochs=3)"
      ],
      "metadata": {
        "id": "AyW6m7svtXzN"
      },
      "execution_count": null,
      "outputs": []
    },
    {
      "cell_type": "code",
      "source": [
        "def train_step(\n",
        "    teacher,\n",
        "    student,\n",
        "    optimizer,\n",
        "    student_loss_fn,\n",
        "    divergence_loss_fn,\n",
        "    temp,\n",
        "    alpha,\n",
        "    epoch,\n",
        "    device\n",
        "):\n",
        "  losses = []\n",
        "  pbar = tqdm(train_dataloader, total=len(train_dataloader), position=0, leave=True, desc='Epoch {}'.format(epoch))\n",
        "  for data, targets, in pbar:\n",
        "    data = data.to(device)\n",
        "    targets = targets.to(device)\n",
        "\n",
        "    # forward\n",
        "    with torch.no_grad():\n",
        "      teacher_preds = teacher(data)\n",
        "    \n",
        "    student_preds = student(data)\n",
        "    student_loss = student_loss_fn(student_preds, targets)\n",
        "\n",
        "    distillation_loss = divergence_loss_fn(\n",
        "        F.softmax(student_preds / temp, dim=1),\n",
        "        F.softmax(teacher_preds / temp, dim=1)\n",
        "    )\n",
        "    loss = alpha * student_loss + (1 - alpha) * distillation_loss\n",
        "    losses.append(loss.item())\n",
        "\n",
        "    optimizer.zero_grad()\n",
        "    loss.backward()\n",
        "    optimizer.step()\n",
        "  \n",
        "  avg_loss = sum(losses) / len(losses)\n",
        "  return avg_loss"
      ],
      "metadata": {
        "id": "PGbnagaUtrMh"
      },
      "execution_count": null,
      "outputs": []
    },
    {
      "cell_type": "code",
      "source": [
        "def main(epochs, teacher, student, temp=7, alpha=0.3):\n",
        "  device = torch.device(\"cuda\" if torch.cuda.is_available() else \"cpu\")\n",
        "  teacher = teacher.to(device)\n",
        "  student = student.to(device)\n",
        "  student_loss_fn = nn.CrossEntropyLoss()\n",
        "  divergence_loss_fn = nn.KLDivLoss(reduction=\"batchmean\")\n",
        "  optimizer = torch.optim.Adam(student.parameters(), lr=1e-3)\n",
        "\n",
        "  teacher.eval()\n",
        "  student.train()\n",
        "  for epoch in range(epochs):\n",
        "      loss = train_step(\n",
        "          teacher,\n",
        "          student,\n",
        "          optimizer,\n",
        "          student_loss_fn,\n",
        "          divergence_loss_fn,\n",
        "          temp,\n",
        "          alpha,\n",
        "          epoch,\n",
        "          device\n",
        "      )\n",
        "      acc = check_accuracy(test_dataloader, student, device)\n",
        "      print(f\"Loss:{loss:.2f}\\tAccuracy:{acc:.2f}\")"
      ],
      "metadata": {
        "id": "UywuOzFEvNef"
      },
      "execution_count": null,
      "outputs": []
    },
    {
      "cell_type": "code",
      "source": [
        "student_model = StudentModel()"
      ],
      "metadata": {
        "id": "uO7nTuJgwM_U"
      },
      "execution_count": null,
      "outputs": []
    },
    {
      "cell_type": "code",
      "source": [
        "main(epochs=3, teacher=teacher_model, student=student_model, temp=0.3, alpha=0.1)"
      ],
      "metadata": {
        "id": "CPN8RET8wPcm"
      },
      "execution_count": null,
      "outputs": []
    },
    {
      "cell_type": "code",
      "source": [
        ""
      ],
      "metadata": {
        "id": "FATB6xx9zMDb"
      },
      "execution_count": null,
      "outputs": []
    }
  ]
}